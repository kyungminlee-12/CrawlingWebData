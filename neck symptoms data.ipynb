{
 "cells": [
  {
   "cell_type": "code",
   "execution_count": 1,
   "id": "bf40040e",
   "metadata": {},
   "outputs": [],
   "source": [
    "from urllib.request import urlopen\n",
    "from bs4 import BeautifulSoup\n",
    "\n",
    "# 목 부분 page\n",
    "asan_html=urlopen(\"https://www.amc.seoul.kr/asan/healthinfo/symptom/symptomSubmain.do?partId=B000008\")\n",
    "bsObject=BeautifulSoup(asan_html, \"html.parser\")"
   ]
  },
  {
   "cell_type": "code",
   "execution_count": 2,
   "id": "e02b0cfe",
   "metadata": {},
   "outputs": [],
   "source": [
    "# symptom link의 상세 정보\n",
    "symptom_link_data=bsObject.body.find(\"div\", {\"class\":\"searchCont\"}).find_all('a')"
   ]
  },
  {
   "cell_type": "code",
   "execution_count": 3,
   "id": "7d3ab54c",
   "metadata": {},
   "outputs": [
    {
     "name": "stdout",
     "output_type": "stream",
     "text": [
      "['https://www.amc.seoul.kr/asan/healthinfo/symptom/symptomDetail.do?symptomId=SS000338', 'https://www.amc.seoul.kr/asan/healthinfo/symptom/symptomDetail.do?symptomId=SS000339', 'https://www.amc.seoul.kr/asan/healthinfo/symptom/symptomDetail.do?symptomId=SS000340', 'https://www.amc.seoul.kr/asan/healthinfo/symptom/symptomDetail.do?symptomId=SS000341', 'https://www.amc.seoul.kr/asan/healthinfo/symptom/symptomDetail.do?symptomId=SS000342', 'https://www.amc.seoul.kr/asan/healthinfo/symptom/symptomDetail.do?symptomId=SS000343', 'https://www.amc.seoul.kr/asan/healthinfo/symptom/symptomDetail.do?symptomId=SS000344', 'https://www.amc.seoul.kr/asan/healthinfo/symptom/symptomDetail.do?symptomId=SS000345', 'https://www.amc.seoul.kr/asan/healthinfo/symptom/symptomDetail.do?symptomId=SS000438', 'https://www.amc.seoul.kr/asan/healthinfo/symptom/symptomDetail.do?symptomId=SS000346', 'https://www.amc.seoul.kr/asan/healthinfo/symptom/symptomDetail.do?symptomId=SS000347', 'https://www.amc.seoul.kr/asan/healthinfo/symptom/symptomDetail.do?symptomId=SS000348', 'https://www.amc.seoul.kr/asan/healthinfo/symptom/symptomDetail.do?symptomId=SS000349', 'https://www.amc.seoul.kr/asan/healthinfo/symptom/symptomDetail.do?symptomId=SS000350', 'https://www.amc.seoul.kr/asan/healthinfo/symptom/symptomDetail.do?symptomId=SS000351', 'https://www.amc.seoul.kr/asan/healthinfo/symptom/symptomDetail.do?symptomId=SS000352', 'https://www.amc.seoul.kr/asan/healthinfo/symptom/symptomDetail.do?symptomId=SS000353', 'https://www.amc.seoul.kr/asan/healthinfo/symptom/symptomDetail.do?symptomId=SS000354', 'https://www.amc.seoul.kr/asan/healthinfo/symptom/symptomDetail.do?symptomId=SS000355', 'https://www.amc.seoul.kr/asan/healthinfo/symptom/symptomDetail.do?symptomId=SS000356', 'https://www.amc.seoul.kr/asan/healthinfo/symptom/symptomDetail.do?symptomId=SS000367', 'https://www.amc.seoul.kr/asan/healthinfo/symptom/symptomDetail.do?symptomId=SS000357', 'https://www.amc.seoul.kr/asan/healthinfo/symptom/symptomDetail.do?symptomId=SS000358', 'https://www.amc.seoul.kr/asan/healthinfo/symptom/symptomDetail.do?symptomId=SS000359', 'https://www.amc.seoul.kr/asan/healthinfo/symptom/symptomDetail.do?symptomId=SS000360', 'https://www.amc.seoul.kr/asan/healthinfo/symptom/symptomDetail.do?symptomId=SS000361', 'https://www.amc.seoul.kr/asan/healthinfo/symptom/symptomDetail.do?symptomId=SS000362', 'https://www.amc.seoul.kr/asan/healthinfo/symptom/symptomDetail.do?symptomId=SS000363', 'https://www.amc.seoul.kr/asan/healthinfo/symptom/symptomDetail.do?symptomId=SS000364', 'https://www.amc.seoul.kr/asan/healthinfo/symptom/symptomDetail.do?symptomId=SS000365', 'https://www.amc.seoul.kr/asan/healthinfo/symptom/symptomDetail.do?symptomId=SS000366']\n"
     ]
    }
   ],
   "source": [
    "# 증상 링크\n",
    "symptom_def_urls=[]\n",
    "for i in range(len(symptom_link_data)):\n",
    "    link=symptom_link_data[i].get('href')\n",
    "    symptom_def_urls.append('https://www.amc.seoul.kr'+link)\n",
    "print(symptom_def_urls)"
   ]
  },
  {
   "cell_type": "code",
   "execution_count": 4,
   "id": "abe66381",
   "metadata": {},
   "outputs": [
    {
     "name": "stdout",
     "output_type": "stream",
     "text": [
      "['갑상선 비대', '갑상선이 단단해짐', '경부 강직', '경부 림프절병증', '경부 운동 제한', '경정맥 확장', '고음에서의 분열', '남성스러운 목소리', '덩어리가 만져짐', '목 뒷부분의 지방축적', '목 주변 부종', '목소리 변화', '목의 이물감', '목의 통증', '사경', '삼키기 곤란 ', '성대 이상', '성대마비', '성대부종', '음성피로', '이물감', '이중음성', '이하선비대', '인후염', '잦은 상기도 감염', '지속적인 애성', '코가 목뒤로 넘어감', '편도선 비대', '후두부종', '후두신경 마비', '후두염']\n"
     ]
    }
   ],
   "source": [
    "# 증상 이름 \n",
    "symptom_names=[]\n",
    "for i in range(len(symptom_link_data)):\n",
    "    name=symptom_link_data[i].get_text()\n",
    "    symptom_names.append(name)\n",
    "print(symptom_names)"
   ]
  },
  {
   "cell_type": "code",
   "execution_count": 5,
   "id": "d4585e14",
   "metadata": {},
   "outputs": [
    {
     "name": "stdout",
     "output_type": "stream",
     "text": [
      "['SS000338', 'SS000339', 'SS000340', 'SS000341', 'SS000342', 'SS000343', 'SS000344', 'SS000345', 'SS000438', 'SS000346', 'SS000347', 'SS000348', 'SS000349', 'SS000350', 'SS000351', 'SS000352', 'SS000353', 'SS000354', 'SS000355', 'SS000356', 'SS000367', 'SS000357', 'SS000358', 'SS000359', 'SS000360', 'SS000361', 'SS000362', 'SS000363', 'SS000364', 'SS000365', 'SS000366']\n"
     ]
    }
   ],
   "source": [
    "# 증상 id\n",
    "symptom_ids=[]\n",
    "for i in range(len(symptom_link_data)):\n",
    "    id_name=\"cont1_\"+str(i+1)\n",
    "    symptom_id=bsObject.body.find(\"input\", {'id':id_name}).get('value')\n",
    "    symptom_ids.append(symptom_id)\n",
    "print(symptom_ids)"
   ]
  },
  {
   "cell_type": "code",
   "execution_count": 6,
   "id": "412f723e",
   "metadata": {},
   "outputs": [
    {
     "name": "stdout",
     "output_type": "stream",
     "text": [
      "증상 수: 31\n",
      "{'SS000338': '갑상선 비대', 'SS000339': '갑상선이 단단해짐', 'SS000340': '경부 강직', 'SS000341': '경부 림프절병증', 'SS000342': '경부 운동 제한', 'SS000343': '경정맥 확장', 'SS000344': '고음에서의 분열', 'SS000345': '남성스러운 목소리', 'SS000438': '덩어리가 만져짐', 'SS000346': '목 뒷부분의 지방축적', 'SS000347': '목 주변 부종', 'SS000348': '목소리 변화', 'SS000349': '목의 이물감', 'SS000350': '목의 통증', 'SS000351': '사경', 'SS000352': '삼키기 곤란 ', 'SS000353': '성대 이상', 'SS000354': '성대마비', 'SS000355': '성대부종', 'SS000356': '음성피로', 'SS000367': '이물감', 'SS000357': '이중음성', 'SS000358': '이하선비대', 'SS000359': '인후염', 'SS000360': '잦은 상기도 감염', 'SS000361': '지속적인 애성', 'SS000362': '코가 목뒤로 넘어감', 'SS000363': '편도선 비대', 'SS000364': '후두부종', 'SS000365': '후두신경 마비', 'SS000366': '후두염'}\n"
     ]
    }
   ],
   "source": [
    "neck_symptoms = dict(zip(symptom_ids, symptom_names))\n",
    "print('증상 수:',len(neck_symptoms))\n",
    "print(neck_symptoms)"
   ]
  },
  {
   "cell_type": "code",
   "execution_count": 10,
   "id": "fccddcac",
   "metadata": {},
   "outputs": [
    {
     "data": {
      "text/plain": [
       "'후두염'"
      ]
     },
     "execution_count": 10,
     "metadata": {},
     "output_type": "execute_result"
    }
   ],
   "source": [
    "## 제거할 데이터 pop\n",
    "neck_symptoms.pop('SS000341')  # 경부 림프절병증\n",
    "neck_symptoms.pop('SS000342')  # 경부 운동 제한\n",
    "neck_symptoms.pop('SS000343')  # 경정맥 확장\n",
    "neck_symptoms.pop('SS000346')  # 목 뒷부분의 지방축적\n",
    "neck_symptoms.pop('SS000351')  # 사경\n",
    "neck_symptoms.pop('SS000355')  # 성대부종\n",
    "neck_symptoms.pop('SS000358')  # 이하선비대\n",
    "neck_symptoms.pop('SS000359')  # 인후염\n",
    "\n",
    "neck_symptoms.pop('SS000364')  # 후두부종\n",
    "neck_symptoms.pop('SS000365')  # 후두신경 마비\n",
    "neck_symptoms.pop('SS000366')  # 후두염"
   ]
  },
  {
   "cell_type": "code",
   "execution_count": 11,
   "id": "c9bad425",
   "metadata": {},
   "outputs": [
    {
     "name": "stdout",
     "output_type": "stream",
     "text": [
      "['https://www.amc.seoul.kr/asan/healthinfo/symptom/symptomList.do?searchFrmPartId=B000008&symptomIds=SS000338', 'https://www.amc.seoul.kr/asan/healthinfo/symptom/symptomList.do?searchFrmPartId=B000008&symptomIds=SS000339', 'https://www.amc.seoul.kr/asan/healthinfo/symptom/symptomList.do?searchFrmPartId=B000008&symptomIds=SS000340', 'https://www.amc.seoul.kr/asan/healthinfo/symptom/symptomList.do?searchFrmPartId=B000008&symptomIds=SS000344', 'https://www.amc.seoul.kr/asan/healthinfo/symptom/symptomList.do?searchFrmPartId=B000008&symptomIds=SS000345', 'https://www.amc.seoul.kr/asan/healthinfo/symptom/symptomList.do?searchFrmPartId=B000008&symptomIds=SS000438', 'https://www.amc.seoul.kr/asan/healthinfo/symptom/symptomList.do?searchFrmPartId=B000008&symptomIds=SS000347', 'https://www.amc.seoul.kr/asan/healthinfo/symptom/symptomList.do?searchFrmPartId=B000008&symptomIds=SS000348', 'https://www.amc.seoul.kr/asan/healthinfo/symptom/symptomList.do?searchFrmPartId=B000008&symptomIds=SS000349', 'https://www.amc.seoul.kr/asan/healthinfo/symptom/symptomList.do?searchFrmPartId=B000008&symptomIds=SS000350', 'https://www.amc.seoul.kr/asan/healthinfo/symptom/symptomList.do?searchFrmPartId=B000008&symptomIds=SS000352', 'https://www.amc.seoul.kr/asan/healthinfo/symptom/symptomList.do?searchFrmPartId=B000008&symptomIds=SS000353', 'https://www.amc.seoul.kr/asan/healthinfo/symptom/symptomList.do?searchFrmPartId=B000008&symptomIds=SS000354', 'https://www.amc.seoul.kr/asan/healthinfo/symptom/symptomList.do?searchFrmPartId=B000008&symptomIds=SS000356', 'https://www.amc.seoul.kr/asan/healthinfo/symptom/symptomList.do?searchFrmPartId=B000008&symptomIds=SS000367', 'https://www.amc.seoul.kr/asan/healthinfo/symptom/symptomList.do?searchFrmPartId=B000008&symptomIds=SS000357', 'https://www.amc.seoul.kr/asan/healthinfo/symptom/symptomList.do?searchFrmPartId=B000008&symptomIds=SS000360', 'https://www.amc.seoul.kr/asan/healthinfo/symptom/symptomList.do?searchFrmPartId=B000008&symptomIds=SS000361', 'https://www.amc.seoul.kr/asan/healthinfo/symptom/symptomList.do?searchFrmPartId=B000008&symptomIds=SS000362', 'https://www.amc.seoul.kr/asan/healthinfo/symptom/symptomList.do?searchFrmPartId=B000008&symptomIds=SS000363']\n",
      "개수:  20\n"
     ]
    }
   ],
   "source": [
    "# 각 증상 선택 결과 link\n",
    "res_links=[]\n",
    "for idx in neck_symptoms:\n",
    "    res_link='https://www.amc.seoul.kr/asan/healthinfo/symptom/symptomList.do?searchFrmPartId=B000008&symptomIds='+idx\n",
    "    res_links.append(res_link)\n",
    "print(res_links)\n",
    "print(\"개수: \", len(res_links))"
   ]
  },
  {
   "cell_type": "markdown",
   "id": "f6f4d821",
   "metadata": {},
   "source": [
    "### 목 증상 별 예상 병명 1개 조합 결과"
   ]
  },
  {
   "cell_type": "code",
   "execution_count": 12,
   "id": "3591f759",
   "metadata": {},
   "outputs": [
    {
     "name": "stdout",
     "output_type": "stream",
     "text": [
      "dict_values(['갑상선 비대', '갑상선이 단단해짐', '경부 강직', '고음에서의 분열', '남성스러운 목소리', '덩어리가 만져짐', '목 주변 부종', '목소리 변화', '목의 이물감', '목의 통증', '삼키기 곤란 ', '성대 이상', '성대마비', '음성피로', '이물감', '이중음성', '잦은 상기도 감염', '지속적인 애성', '코가 목뒤로 넘어감', '편도선 비대'])\n",
      "\n",
      "\n",
      "\n",
      "선택된 증상 이름:  갑상선 비대\n",
      "예상 질병 이름: ['갑상선 결절(Thyroid nodule)', '갑상선염(Thyroiditis)', '갑상선중독증(Thyrotoxicosis)']\n",
      "\n",
      "선택된 증상 이름:  갑상선이 단단해짐\n",
      "예상 질병 이름: ['갑상선 결절(Thyroid nodule)', '갑상선암(Thyroid cancer)', '갑상선염(Thyroiditis)']\n",
      "\n",
      "선택된 증상 이름:  경부 강직\n",
      "예상 질병 이름: ['뇌염(Encephalitis)', '바이러스성 뇌수막염(Viral meningitis)', '박테리아성 뇌수막염(Bacterial meningitis)', '지주막하 출혈(Subarachnoid hemorrhage)', '효모균증(Cryptococcosis)']\n",
      "\n",
      "선택된 증상 이름:  고음에서의 분열\n",
      "예상 질병 이름: ['성대와 후두 결절(Nodules of vocal cord and larynx)', '성대와 후두 용종(Polyps of vocal cord and larynx)']\n",
      "\n",
      "선택된 증상 이름:  남성스러운 목소리\n",
      "예상 질병 이름: ['부신 종양(Adrenal tumor)', '선천성 부신과다 형성증(Congenital adrenal hyperplasia)']\n",
      "\n",
      "선택된 증상 이름:  덩어리가 만져짐\n",
      "예상 질병 이름: ['간세포성 암종(Hepatocellular carcinoma)', '갑상선 유두암(Papillary Carcinoma of Thyroid )', '갑상선암(Thyroid cancer)', '결절종(Ganglion)', '골육종(Osteosarcoma)', '과립막 세포종(Granulosa cell tumor)', '구강암(Oral Cancer)', '난소암(Ovarian cancer)', \"듀피트렌 구축(Dupuytren's contracture)\", '린치 증후군(Lynch Syndrome)', '림프관종(Lymphangioma)', '림프종(Lymphoma)', '방광암(Bladder cancer)', '버킷 림프종(Burkitt Tumor)', '부갑상선암(Parathyroid Cancer)', '비호지킨 림프종(Non-Hodgkin lymphoma)', '뼈의 신생물(Neoplasm of the bone)', '생식선 및 생식 세포의 신생물(Gonadal and germ cell neoplasma)', '수신증(Hydronephrosis)', '연부조직 육종(Soft tissue sarcoma)']\n",
      "\n",
      "선택된 증상 이름:  목 주변 부종\n",
      "예상 질병 이름: ['갑상선 유두암(Papillary Carcinoma of Thyroid )', '갑상설관 낭종(Thyroglossal duct cyst)', '결핵성 임파선염(Tuberculous lymphadenitis)', \"루드비히 안자이나 (Ludwig's angina)\", '비인두 종양(Nasopharyngeal tumor)', '유행성 이하선염(Mumps)', '침샘염(Sialoadenitis)', '타액선암(Malignant neoplasm of salivary glands)', '혈관부종(Angioedema)', '흉부 대동맥류(Thoracic aortic Aneurysm)']\n",
      "\n",
      "선택된 증상 이름:  목소리 변화\n",
      "예상 질병 이름: ['갑상선 미분화암(Undifferentiated thyroid cancer)', '갑상선 수질암(Medullary thyroid cancer)', '갑상선 여포암(Follicular thyroid cancer)', '갑상선 유두암(Papillary Carcinoma of Thyroid )', '갑상선기능저하증(Hypothyroidism)', '골형성부전증(Osteogenesis imperfecta)', '구강암(Oral Cancer)', '부갑상선암(Parathyroid Cancer)', '성대와 후두 용종(Polyps of vocal cord and larynx)', '식도암(Esophageal cancer)', '심낭 삼출 (Pericardial effusion)', '악성 중피종(Malignant mesothelioma)', '양성 종격동 종양(Benign mediastinal tumor)', '위식도 역류성 질환(Gastro-esophagus reflux disease)', '인후두염(Laryngopharyngitis)', '타액선암(Malignant neoplasm of salivary glands)', '폐암(Lung cancer)', '후두개염(Epiglottitis)', '후두암(Larynx  cancer)']\n",
      "\n",
      "선택된 증상 이름:  목의 이물감\n",
      "예상 질병 이름: ['갑상선 미분화암(Undifferentiated thyroid cancer)', '갑상선 수질암(Medullary thyroid cancer)', '갑상선 여포암(Follicular thyroid cancer)', '갑상설관 낭종(Thyroglossal duct cyst)', \"바렛 식도(Barrett's esophagus)\", '불안 장애(Anxiety disorder)', '비중격 만곡(Nasal septal deviation)', '소화관의 이물(Foreign body in alimentary tract)', '식도의 이물(Foreign body in esophagus)', '인후두염(Laryngopharyngitis)', '편도암(Tonsillar cancer)', '후두암(Larynx  cancer)', '후비루(Postnasal drip)']\n",
      "\n",
      "선택된 증상 이름:  목의 통증\n",
      "예상 질병 이름: ['감염성 단핵구증(Infectious mononucleosis)', '갑상선염(Thyroiditis)', '갑상설관 낭종(Thyroglossal duct cyst)', '거북목 증후군(Turtle neck syndrome)', '결핵성 임파선염(Tuberculous lymphadenitis)', '경추 추간판 탈출증(Cervical HIVD)', '구강암(Oral Cancer)', '디프테리아(Diphtheritia)', '레지오넬라증(Legionella)', '부비동염(Sinusitis)', '상기도 감염(Upper respiratory infections)', '새열 낭종(Branchial Cyst)', '섬유근육통(Fibromyalgia)', '신경근병증(Radiculopathy)', '신종 플루(Novel swine-origin influenza A(H1N1))', '인플루엔자(Influenza)', '인후두염(Laryngopharyngitis)', '조류 인플루엔자(AI) 인체감염증(Avian Influenza Human Infection)', '척추 종양(Spine Bone Tumor)', '코로나-19(COVID-19)']\n",
      "\n",
      "선택된 증상 이름:  삼키기 곤란 \n",
      "예상 질병 이름: ['감염성 단핵구증(Infectious mononucleosis)', '갑상선 결절(Thyroid nodule)', '갑상선 미분화암(Undifferentiated thyroid cancer)', '갑상선 수질암(Medullary thyroid cancer)', '갑상선 여포암(Follicular thyroid cancer)', '갑상선암(Thyroid cancer)', '구강암(Oral Cancer)', '근위축성 측색 경화증(Amyotrophic lateral sclerosis)', '근육긴장이상증(Dystonia)', '근육병(Myopathy)', '길랑-바레 증후군(Guillain-Barre Syndrome)', '낭포성 히그로마(Cystic hygroma)', '뇌졸중(Cerebrovascular disease)', '모세혈관 확장성 운동실조 증후군 (Ataxia-telangiectasia syndrome)', \"바렛 식도(Barrett's esophagus)\", '보툴리눔독소증(Botulism)', '부신백질이영양증(Adrenoleukodystrophy)', '상대정맥 증후군(Superior vena cava Syndrome)', '새열 낭종(Branchial Cyst)', '소화관의 이물(Foreign body in alimentary tract)']\n",
      "\n",
      "선택된 증상 이름:  성대 이상\n",
      "예상 질병 이름: ['흉부 대동맥류(Thoracic aortic Aneurysm)']\n",
      "\n",
      "선택된 증상 이름:  성대마비\n",
      "예상 질병 이름: ['갑상선암(Thyroid cancer)']\n",
      "\n",
      "선택된 증상 이름:  음성피로\n",
      "예상 질병 이름: ['성대와 후두 결절(Nodules of vocal cord and larynx)', '성대와 후두 용종(Polyps of vocal cord and larynx)']\n",
      "\n",
      "선택된 증상 이름:  이물감\n",
      "예상 질병 이름: ['고막염(Myringitis)', '안검염(Blepharitis)', '자궁 육종(Sarcoma of Uterus)']\n",
      "\n",
      "선택된 증상 이름:  이중음성\n",
      "예상 질병 이름: ['성대와 후두 결절(Nodules of vocal cord and larynx)', '성대와 후두 용종(Polyps of vocal cord and larynx)']\n",
      "\n",
      "선택된 증상 이름:  잦은 상기도 감염\n",
      "예상 질병 이름: ['22번 염색체 장완 미세결실 증후군(CATCH22)', '심방 중격 결손(Atrial septal defect)', '재생불량빈혈(Aplastic anemia)', '전폐정맥연결 이상(Total anomalous pulmonary venous connection)']\n",
      "\n",
      "선택된 증상 이름:  지속적인 애성\n",
      "예상 질병 이름: ['성대와 후두 결절(Nodules of vocal cord and larynx)', '성대와 후두 용종(Polyps of vocal cord and larynx)']\n",
      "\n",
      "선택된 증상 이름:  코가 목뒤로 넘어감\n",
      "예상 질병 이름: []\n",
      "\n",
      "선택된 증상 이름:  편도선 비대\n",
      "예상 질병 이름: ['성홍열(Scarlet fever)', '파라인플루엔자 감염증(Parainfluenza infection)', '편도선염(Tonsillitis)']\n",
      "\n"
     ]
    }
   ],
   "source": [
    "sympt_names=neck_symptoms.values()\n",
    "print(sympt_names)\n",
    "print(\"\\n\\n\")\n",
    "\n",
    "i=0\n",
    "for idx in neck_symptoms:\n",
    "    sympt_res_html=urlopen(res_links[i])     # 추린 내용\n",
    "    i=i+1\n",
    "    sympt_res_Object=BeautifulSoup(sympt_res_html, \"html.parser\")\n",
    "    # print(sympt_res_Object)\n",
    "    \n",
    "    # symptom result link의 상세 정보\n",
    "    symptom_res_link_data=sympt_res_Object.body.find_all(\"strong\", {\"class\":\"contTitle\"})\n",
    "    print('선택된 증상 이름: ', neck_symptoms[idx])   # ㅣist(belly_symptoms.values())[0]\n",
    "    res_names=[]\n",
    "    for j in range(len(symptom_res_link_data)):\n",
    "        # name=symptom_link_data[i].get_text()\n",
    "        res_names.append(symptom_res_link_data[j].get_text().strip())\n",
    "    print('예상 질병 이름: ', end='')\n",
    "    print(res_names)\n",
    "    print()"
   ]
  },
  {
   "cell_type": "code",
   "execution_count": null,
   "id": "d675e7e8",
   "metadata": {},
   "outputs": [],
   "source": []
  }
 ],
 "metadata": {
  "kernelspec": {
   "display_name": "Python 3 (ipykernel)",
   "language": "python",
   "name": "python3"
  },
  "language_info": {
   "codemirror_mode": {
    "name": "ipython",
    "version": 3
   },
   "file_extension": ".py",
   "mimetype": "text/x-python",
   "name": "python",
   "nbconvert_exporter": "python",
   "pygments_lexer": "ipython3",
   "version": "3.7.6"
  }
 },
 "nbformat": 4,
 "nbformat_minor": 5
}
