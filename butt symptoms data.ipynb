{
 "cells": [
  {
   "cell_type": "code",
   "execution_count": 1,
   "id": "6b367349",
   "metadata": {},
   "outputs": [],
   "source": [
    "from urllib.request import urlopen\n",
    "from bs4 import BeautifulSoup\n",
    "\n",
    "asan_html=urlopen(\"https://www.amc.seoul.kr/asan/healthinfo/symptom/symptomSubmain.do?partId=B000013\")\n",
    "bsObject=BeautifulSoup(asan_html, \"html.parser\")"
   ]
  },
  {
   "cell_type": "code",
   "execution_count": 2,
   "id": "8d76c5b6",
   "metadata": {},
   "outputs": [],
   "source": [
    "# symptom link의 상세 정보\n",
    "symptom_link_data=bsObject.body.find(\"div\", {\"class\":\"searchCont\"}).find_all('a')"
   ]
  },
  {
   "cell_type": "code",
   "execution_count": 3,
   "id": "467d4466",
   "metadata": {},
   "outputs": [
    {
     "name": "stdout",
     "output_type": "stream",
     "text": [
      "['https://www.amc.seoul.kr/asan/healthinfo/symptom/symptomDetail.do?symptomId=SS000520', 'https://www.amc.seoul.kr/asan/healthinfo/symptom/symptomDetail.do?symptomId=SS000521', 'https://www.amc.seoul.kr/asan/healthinfo/symptom/symptomDetail.do?symptomId=SS000522', 'https://www.amc.seoul.kr/asan/healthinfo/symptom/symptomDetail.do?symptomId=SS000523', 'https://www.amc.seoul.kr/asan/healthinfo/symptom/symptomDetail.do?symptomId=SS000524', 'https://www.amc.seoul.kr/asan/healthinfo/symptom/symptomDetail.do?symptomId=SS000525', 'https://www.amc.seoul.kr/asan/healthinfo/symptom/symptomDetail.do?symptomId=SS000526', 'https://www.amc.seoul.kr/asan/healthinfo/symptom/symptomDetail.do?symptomId=SS000527', 'https://www.amc.seoul.kr/asan/healthinfo/symptom/symptomDetail.do?symptomId=SS000528', 'https://www.amc.seoul.kr/asan/healthinfo/symptom/symptomDetail.do?symptomId=SS000529', 'https://www.amc.seoul.kr/asan/healthinfo/symptom/symptomDetail.do?symptomId=SS000530', 'https://www.amc.seoul.kr/asan/healthinfo/symptom/symptomDetail.do?symptomId=SS000531', 'https://www.amc.seoul.kr/asan/healthinfo/symptom/symptomDetail.do?symptomId=SS000532', 'https://www.amc.seoul.kr/asan/healthinfo/symptom/symptomDetail.do?symptomId=SS000533', 'https://www.amc.seoul.kr/asan/healthinfo/symptom/symptomDetail.do?symptomId=SS000534', 'https://www.amc.seoul.kr/asan/healthinfo/symptom/symptomDetail.do?symptomId=SS000535', 'https://www.amc.seoul.kr/asan/healthinfo/symptom/symptomDetail.do?symptomId=SS000536', 'https://www.amc.seoul.kr/asan/healthinfo/symptom/symptomDetail.do?symptomId=SS000537', 'https://www.amc.seoul.kr/asan/healthinfo/symptom/symptomDetail.do?symptomId=SS000538', 'https://www.amc.seoul.kr/asan/healthinfo/symptom/symptomDetail.do?symptomId=SS000539', 'https://www.amc.seoul.kr/asan/healthinfo/symptom/symptomDetail.do?symptomId=SS000540']\n"
     ]
    }
   ],
   "source": [
    "# 증상 링크\n",
    "symptom_def_urls=[]\n",
    "for i in range(len(symptom_link_data)):\n",
    "    link=symptom_link_data[i].get('href')\n",
    "    symptom_def_urls.append('https://www.amc.seoul.kr'+link)\n",
    "print(symptom_def_urls)"
   ]
  },
  {
   "cell_type": "code",
   "execution_count": 4,
   "id": "1bbf4e97",
   "metadata": {},
   "outputs": [
    {
     "name": "stdout",
     "output_type": "stream",
     "text": [
      "['괄약근 기능 이상', '달걀 위에 앉아있는 느낌', '대변에 벌레 관찰됨', '배변습관의 변화', '배변장애', '변비', '변실금', '설사', '악취가 나는 설사', '엉덩이 비대칭 주름', '엉덩이 통증', '점액변', '지방변', '치핵의 탈출', '항문 통증', '항문주위 염증', '항문출혈', '허리, 둔부 중심형 비만', '혈변', '회색변', '흑색변']\n"
     ]
    }
   ],
   "source": [
    "# 증상 이름 \n",
    "symptom_names=[]\n",
    "for i in range(len(symptom_link_data)):\n",
    "    name=symptom_link_data[i].get_text()\n",
    "    symptom_names.append(name)\n",
    "print(symptom_names)"
   ]
  },
  {
   "cell_type": "code",
   "execution_count": 5,
   "id": "aac0cbec",
   "metadata": {},
   "outputs": [
    {
     "name": "stdout",
     "output_type": "stream",
     "text": [
      "['SS000520', 'SS000521', 'SS000522', 'SS000523', 'SS000524', 'SS000525', 'SS000526', 'SS000527', 'SS000528', 'SS000529', 'SS000530', 'SS000531', 'SS000532', 'SS000533', 'SS000534', 'SS000535', 'SS000536', 'SS000537', 'SS000538', 'SS000539', 'SS000540']\n"
     ]
    }
   ],
   "source": [
    "# 증상 id\n",
    "symptom_ids=[]\n",
    "for i in range(len(symptom_link_data)):\n",
    "    id_name=\"cont1_\"+str(i+1)\n",
    "    symptom_id=bsObject.body.find(\"input\", {'id':id_name}).get('value')\n",
    "    symptom_ids.append(symptom_id)\n",
    "print(symptom_ids)"
   ]
  },
  {
   "cell_type": "code",
   "execution_count": 6,
   "id": "b229d6a0",
   "metadata": {},
   "outputs": [
    {
     "name": "stdout",
     "output_type": "stream",
     "text": [
      "증상 수: 21\n",
      "{'SS000520': '괄약근 기능 이상', 'SS000521': '달걀 위에 앉아있는 느낌', 'SS000522': '대변에 벌레 관찰됨', 'SS000523': '배변습관의 변화', 'SS000524': '배변장애', 'SS000525': '변비', 'SS000526': '변실금', 'SS000527': '설사', 'SS000528': '악취가 나는 설사', 'SS000529': '엉덩이 비대칭 주름', 'SS000530': '엉덩이 통증', 'SS000531': '점액변', 'SS000532': '지방변', 'SS000533': '치핵의 탈출', 'SS000534': '항문 통증', 'SS000535': '항문주위 염증', 'SS000536': '항문출혈', 'SS000537': '허리, 둔부 중심형 비만', 'SS000538': '혈변', 'SS000539': '회색변', 'SS000540': '흑색변'}\n"
     ]
    }
   ],
   "source": [
    "butt_symptoms = dict(zip(symptom_ids, symptom_names))\n",
    "print('증상 수:',len(butt_symptoms))\n",
    "print(butt_symptoms)"
   ]
  },
  {
   "cell_type": "code",
   "execution_count": 7,
   "id": "f29fe0de",
   "metadata": {},
   "outputs": [
    {
     "name": "stdout",
     "output_type": "stream",
     "text": [
      "증상 수: 19\n",
      "{'SS000520': '괄약근 기능 이상', 'SS000521': '달걀 위에 앉아있는 느낌', 'SS000522': '대변에 벌레 관찰됨', 'SS000523': '배변습관의 변화', 'SS000524': '배변장애', 'SS000525': '변비', 'SS000526': '변실금', 'SS000527': '설사', 'SS000528': '악취가 나는 설사', 'SS000529': '엉덩이 비대칭 주름', 'SS000530': '엉덩이 통증', 'SS000531': '점액변', 'SS000532': '지방변', 'SS000534': '항문 통증', 'SS000535': '항문주위 염증', 'SS000536': '항문출혈', 'SS000538': '혈변', 'SS000539': '회색변', 'SS000540': '흑색변'}\n"
     ]
    }
   ],
   "source": [
    "# not needed data pop\n",
    "butt_symptoms.pop('SS000533')  # 치핵의 탈출\n",
    "butt_symptoms.pop('SS000537')  # 허리, 둔부 중심형 비만\n",
    "print('증상 수:',len(butt_symptoms))\n",
    "print(butt_symptoms)"
   ]
  },
  {
   "cell_type": "code",
   "execution_count": 8,
   "id": "686c9bd1",
   "metadata": {},
   "outputs": [
    {
     "name": "stdout",
     "output_type": "stream",
     "text": [
      "['https://www.amc.seoul.kr/asan/healthinfo/symptom/symptomList.do?searchFrmPartId=B000013&symptomIds=SS000520', 'https://www.amc.seoul.kr/asan/healthinfo/symptom/symptomList.do?searchFrmPartId=B000013&symptomIds=SS000521', 'https://www.amc.seoul.kr/asan/healthinfo/symptom/symptomList.do?searchFrmPartId=B000013&symptomIds=SS000522', 'https://www.amc.seoul.kr/asan/healthinfo/symptom/symptomList.do?searchFrmPartId=B000013&symptomIds=SS000523', 'https://www.amc.seoul.kr/asan/healthinfo/symptom/symptomList.do?searchFrmPartId=B000013&symptomIds=SS000524', 'https://www.amc.seoul.kr/asan/healthinfo/symptom/symptomList.do?searchFrmPartId=B000013&symptomIds=SS000525', 'https://www.amc.seoul.kr/asan/healthinfo/symptom/symptomList.do?searchFrmPartId=B000013&symptomIds=SS000526', 'https://www.amc.seoul.kr/asan/healthinfo/symptom/symptomList.do?searchFrmPartId=B000013&symptomIds=SS000527', 'https://www.amc.seoul.kr/asan/healthinfo/symptom/symptomList.do?searchFrmPartId=B000013&symptomIds=SS000528', 'https://www.amc.seoul.kr/asan/healthinfo/symptom/symptomList.do?searchFrmPartId=B000013&symptomIds=SS000529', 'https://www.amc.seoul.kr/asan/healthinfo/symptom/symptomList.do?searchFrmPartId=B000013&symptomIds=SS000530', 'https://www.amc.seoul.kr/asan/healthinfo/symptom/symptomList.do?searchFrmPartId=B000013&symptomIds=SS000531', 'https://www.amc.seoul.kr/asan/healthinfo/symptom/symptomList.do?searchFrmPartId=B000013&symptomIds=SS000532', 'https://www.amc.seoul.kr/asan/healthinfo/symptom/symptomList.do?searchFrmPartId=B000013&symptomIds=SS000534', 'https://www.amc.seoul.kr/asan/healthinfo/symptom/symptomList.do?searchFrmPartId=B000013&symptomIds=SS000535', 'https://www.amc.seoul.kr/asan/healthinfo/symptom/symptomList.do?searchFrmPartId=B000013&symptomIds=SS000536', 'https://www.amc.seoul.kr/asan/healthinfo/symptom/symptomList.do?searchFrmPartId=B000013&symptomIds=SS000538', 'https://www.amc.seoul.kr/asan/healthinfo/symptom/symptomList.do?searchFrmPartId=B000013&symptomIds=SS000539', 'https://www.amc.seoul.kr/asan/healthinfo/symptom/symptomList.do?searchFrmPartId=B000013&symptomIds=SS000540']\n",
      "개수:  19\n"
     ]
    }
   ],
   "source": [
    "# 각 증상 선택 결과 link\n",
    "res_links=[]\n",
    "for idx in butt_symptoms:\n",
    "    res_link='https://www.amc.seoul.kr/asan/healthinfo/symptom/symptomList.do?searchFrmPartId=B000013&symptomIds='+idx\n",
    "    res_links.append(res_link)\n",
    "print(res_links)\n",
    "print(\"개수: \", len(res_links))"
   ]
  },
  {
   "cell_type": "markdown",
   "id": "ae4ba82f",
   "metadata": {},
   "source": [
    "### 엉덩이 예상 질병 1개 조합"
   ]
  },
  {
   "cell_type": "code",
   "execution_count": 9,
   "id": "25e4688f",
   "metadata": {},
   "outputs": [
    {
     "name": "stdout",
     "output_type": "stream",
     "text": [
      "dict_values(['괄약근 기능 이상', '달걀 위에 앉아있는 느낌', '대변에 벌레 관찰됨', '배변습관의 변화', '배변장애', '변비', '변실금', '설사', '악취가 나는 설사', '엉덩이 비대칭 주름', '엉덩이 통증', '점액변', '지방변', '항문 통증', '항문주위 염증', '항문출혈', '혈변', '회색변', '흑색변'])\n",
      "\n",
      "\n",
      "\n",
      "선택된 증상 이름:  괄약근 기능 이상\n",
      "예상 질병 이름: ['신경초종(Schwannoma)', '횡단성 척수염(Transverse myelitis)']\n",
      "\n",
      "선택된 증상 이름:  달걀 위에 앉아있는 느낌\n",
      "예상 질병 이름: ['자궁 탈출증(Uterine Prolapse)']\n",
      "\n",
      "선택된 증상 이름:  대변에 벌레 관찰됨\n",
      "예상 질병 이름: ['요충증(Enterobiasis)']\n",
      "\n",
      "선택된 증상 이름:  배변습관의 변화\n",
      "예상 질병 이름: ['게실 질환(Diverticular disease)', '대장암(Colon cancer)', '대장염(Colitis)', '방광소장 누공(Vesicointestinal fistula)', '자궁내막증(Endometriosis)', '직장암(Rectal cancer)', '항문암(Anal cancer)']\n",
      "\n",
      "선택된 증상 이름:  배변장애\n",
      "예상 질병 이름: ['난소의 양성 종양(Benign ovary tumor)', '다발성 경화증(Multiple sclerosis)', '자궁 상피 내 암종(Carcinoma in situ of Cervix)', '자궁경부암(Cervical cancer)', '척수병증(Myelopathy)', '후종인대 골화증(Ossification of posterior longitudinal ligament)']\n",
      "\n",
      "선택된 증상 이름:  변비\n",
      "예상 질병 이름: ['게실 질환(Diverticular disease)', '고칼슘혈증(Hypercalcemia)', '궤양성 대장염(Ulcerative colitis)', '기능성 위장 장애(Functional Gastrointestinal Disorder)', '납 중독(Lead Poisoning)', '로하드 증후군(ROHHAD Syndrome)', '맹장염(Appendicitis)', '부갑상선기능항진증(Hyperparathyroidism)', '부갑상선암(Parathyroid Cancer)', '생식선 및 생식 세포의 신생물(Gonadal and germ cell neoplasma)', '선천성 갑상선기능저하증(Congenital hypothyroidism)', '선천성 거대결장증(Hirschsprung disease)', '섬유근육통(Fibromyalgia)', '아밀로이드증(Amyloidosis)', '위장관 결핵(Gastrointestinal tuberculosis)', '위장관 기질 종양(Stomach GIST)', '자가면역성 갑상선염(Autoimmune thyroiditis)', '자궁 상피 내 암종(Carcinoma in situ of Cervix)', '자궁경부암(Cervical cancer)', '자극성 장 증후군(Irritable bowel syndrome)']\n",
      "\n",
      "선택된 증상 이름:  변실금\n",
      "예상 질병 이름: ['변실금(Fecal incontinence)', '외상성 치매 (Traumatic dementia)', '항문암(Anal cancer)', \"회음 괴저(Fournier's gangrene)\"]\n",
      "\n",
      "선택된 증상 이름:  설사\n",
      "예상 질병 이름: ['가와사키병(Kawasaki Disease)', '간농양(Liver abscess)', '간디스토마(Clonorchisis sinensis)', '갑상선기능항진증(Hyperthyroidism)', '고칼륨혈증(Hyperkalemia)', '궤양성 대장염(Ulcerative colitis)', '급성 A형 간염(Acute hepatitis A)', '급성 B형 간염(Acute hepatitis B)', '급성 위장염(Acute gastroenteritis)', '급성 충수염(Acute appendicitis)', '기능성 위장 장애(Functional Gastrointestinal Disorder)', '냉방병(Air-conditioningitis)', '노로바이러스 장염(Norovirus Gastroenteritis)', '농가진(Impetigo)', '단장 증후군(Short Bowel Syndrome)', '대장 용종(Polyp of colon)', '대장균 감염(Escherichia coli (E. coli) infection)', '대장염(Colitis)', '독성 쇼크 증후군(Toxic shock syndrome)', '랑거한스세포 조직구증식증(Langerhans cell histiocytosis)']\n",
      "\n",
      "선택된 증상 이름:  악취가 나는 설사\n",
      "예상 질병 이름: ['간내 담석(IHD stone)', '위장관 결핵(Gastrointestinal tuberculosis)']\n",
      "\n",
      "선택된 증상 이름:  엉덩이 비대칭 주름\n",
      "예상 질병 이름: []\n",
      "\n",
      "선택된 증상 이름:  엉덩이 통증\n",
      "예상 질병 이름: ['강직성 척추염(Ankylosing spondylitis)']\n",
      "\n",
      "선택된 증상 이름:  점액변\n",
      "예상 질병 이름: ['궤양성 대장염(Ulcerative colitis)', '대장 용종(Polyp of colon)', '대장암(Colon cancer)', '대장염(Colitis)', '대장의 양성 종양(Benign colon tumor)', '자극성 장 증후군(Irritable bowel syndrome)', '장중첩증(Intussusception)', '직장의 양성 종양(Rectum, benign tumor)']\n",
      "\n",
      "선택된 증상 이름:  지방변\n",
      "예상 질병 이름: ['단장 증후군(Short Bowel Syndrome)', '만성 췌장염(Chronic pancreatitis)', '신생아 답즙정체증(Neonatal Cholestasis)', '췌장암(Pancreatic cancer)']\n",
      "\n",
      "선택된 증상 이름:  항문 통증\n",
      "예상 질병 이름: ['변비(Constipation)', '위장관 기질 종양(Stomach GIST)', '치핵(Hemorrhoids)', '항문 누공(Anal fistula)', '항문 열구(Anal fissure)', '항문 주위 농양(Perianal abscess)']\n",
      "\n",
      "선택된 증상 이름:  항문주위 염증\n",
      "예상 질병 이름: ['면역결핍증(Immunodeficiency disease)', '항문 누공(Anal fistula)', '항문 열구(Anal fissure)', '항문 주위 농양(Perianal abscess)', '항문소양증(Pruritusani)']\n",
      "\n",
      "선택된 증상 이름:  항문출혈\n",
      "예상 질병 이름: ['변비(Constipation)', '직장 유암종(Rectal Carcinoid Tumor)', '치핵(Hemorrhoids)', '탈항(Anal prolapse)', '항문 열구(Anal fissure)', '항문암(Anal cancer)']\n",
      "\n",
      "선택된 증상 이름:  혈변\n",
      "예상 질병 이름: ['궤양성 대장염(Ulcerative colitis)', '대동맥 협착증(Coarctation of aorta)', '대장 용종(Polyp of colon)', '대장암(Colon cancer)', '대장의 양성 종양(Benign colon tumor)', '말기 신질환(End stage renal disease)', \"메켈 게실(Meckel's diverticulum)\", \"바렛 식도(Barrett's esophagus)\", '소장의 혈관 장애(Vascular disorders of intestine)', '신생아 괴사성 장염(Necrotizing enterocolitis of fetus and newborn)', '아메바성 이질(Amebic dysentery)', '용혈성 요독 증후군(Hemolytic Uremic Syndrome)', '위 정맥류(Gastric varices)', '위막성 대장염(Pseudomembranous colitis)', '위암(Stomach cancer)', '위장관 결핵(Gastrointestinal tuberculosis)', '위장관 기질 종양(Stomach GIST)', '위장관 출혈(Gastrointestinal hemorrhage)', '장염전(Volvulus)', '장중첩증(Intussusception)']\n",
      "\n",
      "선택된 증상 이름:  회색변\n",
      "예상 질병 이름: [\"간문부 담관암(Klatskin's tumor)\", '급성 췌장염(Acute pancreatitis)', '담관암(Cholangiocarcinoma)', '바터 팽대부 암(AOV cancer)', '선천성 담관 폐쇄증(Congenital Atresia of Bile Ducts)', '신생아 답즙정체증(Neonatal Cholestasis)', '총담관 낭(Choledochal cyst)', '췌장암(Pancreatic cancer)']\n",
      "\n",
      "선택된 증상 이름:  흑색변\n",
      "예상 질병 이름: ['대장암(Colon cancer)', '바터 팽대부 암(AOV cancer)', '선천성 담관 폐쇄증(Congenital Atresia of Bile Ducts)', '식도염(Esophagitis)', '십이지장 궤양(Duodenal ulcer)', '위궤양(Gastric ulcer)', '위암(Stomach cancer)', '진행성 위암(Advanced gastric cancer)', '혈관염(Vasculitis)']\n",
      "\n"
     ]
    }
   ],
   "source": [
    "sympt_names=butt_symptoms.values()\n",
    "print(sympt_names)\n",
    "print(\"\\n\\n\")\n",
    "\n",
    "i=0\n",
    "for idx in butt_symptoms:\n",
    "    sympt_res_html=urlopen(res_links[i])     # 추린 내용\n",
    "    i=i+1\n",
    "    sympt_res_Object=BeautifulSoup(sympt_res_html, \"html.parser\")\n",
    "    # print(sympt_res_Object)\n",
    "    \n",
    "    # symptom result link의 상세 정보\n",
    "    symptom_res_link_data=sympt_res_Object.body.find_all(\"strong\", {\"class\":\"contTitle\"})\n",
    "    print('선택된 증상 이름: ', butt_symptoms[idx])   # ㅣist(belly_symptoms.values())[0]\n",
    "    res_names=[]\n",
    "    for j in range(len(symptom_res_link_data)):\n",
    "        # name=symptom_link_data[i].get_text()\n",
    "        res_names.append(symptom_res_link_data[j].get_text().strip())\n",
    "    print('예상 질병 이름: ', end='')\n",
    "    print(res_names)\n",
    "    print()"
   ]
  },
  {
   "cell_type": "code",
   "execution_count": null,
   "id": "d8ba1c8c",
   "metadata": {},
   "outputs": [],
   "source": []
  }
 ],
 "metadata": {
  "kernelspec": {
   "display_name": "Python 3 (ipykernel)",
   "language": "python",
   "name": "python3"
  },
  "language_info": {
   "codemirror_mode": {
    "name": "ipython",
    "version": 3
   },
   "file_extension": ".py",
   "mimetype": "text/x-python",
   "name": "python",
   "nbconvert_exporter": "python",
   "pygments_lexer": "ipython3",
   "version": "3.7.6"
  }
 },
 "nbformat": 4,
 "nbformat_minor": 5
}
