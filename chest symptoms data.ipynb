{
 "cells": [
  {
   "cell_type": "code",
   "execution_count": 1,
   "id": "0a627063",
   "metadata": {},
   "outputs": [],
   "source": [
    "from urllib.request import urlopen\n",
    "from bs4 import BeautifulSoup\n",
    "\n",
    "asan_html=urlopen(\"https://www.amc.seoul.kr/asan/healthinfo/symptom/symptomSubmain.do?partId=B000020\")\n",
    "bsObject=BeautifulSoup(asan_html, \"html.parser\")"
   ]
  },
  {
   "cell_type": "code",
   "execution_count": 2,
   "id": "e7578c43",
   "metadata": {},
   "outputs": [],
   "source": [
    "# symptom link의 상세 정보\n",
    "symptom_link_data=bsObject.body.find(\"div\", {\"class\":\"searchCont\"}).find_all('a')"
   ]
  },
  {
   "cell_type": "code",
   "execution_count": 3,
   "id": "11898f92",
   "metadata": {},
   "outputs": [
    {
     "name": "stdout",
     "output_type": "stream",
     "text": [
      "['https://www.amc.seoul.kr/asan/healthinfo/symptom/symptomDetail.do?symptomId=SS000859', 'https://www.amc.seoul.kr/asan/healthinfo/symptom/symptomDetail.do?symptomId=SS000860', 'https://www.amc.seoul.kr/asan/healthinfo/symptom/symptomDetail.do?symptomId=SS000861', 'https://www.amc.seoul.kr/asan/healthinfo/symptom/symptomDetail.do?symptomId=SS000862', 'https://www.amc.seoul.kr/asan/healthinfo/symptom/symptomDetail.do?symptomId=SS000863', 'https://www.amc.seoul.kr/asan/healthinfo/symptom/symptomDetail.do?symptomId=SS000864', 'https://www.amc.seoul.kr/asan/healthinfo/symptom/symptomDetail.do?symptomId=SS000865', 'https://www.amc.seoul.kr/asan/healthinfo/symptom/symptomDetail.do?symptomId=SS000866', 'https://www.amc.seoul.kr/asan/healthinfo/symptom/symptomDetail.do?symptomId=SS000867', 'https://www.amc.seoul.kr/asan/healthinfo/symptom/symptomDetail.do?symptomId=SS000868', 'https://www.amc.seoul.kr/asan/healthinfo/symptom/symptomDetail.do?symptomId=SS000869', 'https://www.amc.seoul.kr/asan/healthinfo/symptom/symptomDetail.do?symptomId=SS00939', 'https://www.amc.seoul.kr/asan/healthinfo/symptom/symptomDetail.do?symptomId=SS000870', 'https://www.amc.seoul.kr/asan/healthinfo/symptom/symptomDetail.do?symptomId=SS000871', 'https://www.amc.seoul.kr/asan/healthinfo/symptom/symptomDetail.do?symptomId=SS000872', 'https://www.amc.seoul.kr/asan/healthinfo/symptom/symptomDetail.do?symptomId=SS000873', 'https://www.amc.seoul.kr/asan/healthinfo/symptom/symptomDetail.do?symptomId=SS000874', 'https://www.amc.seoul.kr/asan/healthinfo/symptom/symptomDetail.do?symptomId=SS000875', 'https://www.amc.seoul.kr/asan/healthinfo/symptom/symptomDetail.do?symptomId=SS000876', 'https://www.amc.seoul.kr/asan/healthinfo/symptom/symptomDetail.do?symptomId=SS000877', 'https://www.amc.seoul.kr/asan/healthinfo/symptom/symptomDetail.do?symptomId=SS000878', 'https://www.amc.seoul.kr/asan/healthinfo/symptom/symptomDetail.do?symptomId=SS000879', 'https://www.amc.seoul.kr/asan/healthinfo/symptom/symptomDetail.do?symptomId=SS000880', 'https://www.amc.seoul.kr/asan/healthinfo/symptom/symptomDetail.do?symptomId=SS000881', 'https://www.amc.seoul.kr/asan/healthinfo/symptom/symptomDetail.do?symptomId=SS000882', 'https://www.amc.seoul.kr/asan/healthinfo/symptom/symptomDetail.do?symptomId=SS000883', 'https://www.amc.seoul.kr/asan/healthinfo/symptom/symptomDetail.do?symptomId=SS000884', 'https://www.amc.seoul.kr/asan/healthinfo/symptom/symptomDetail.do?symptomId=SS000885', 'https://www.amc.seoul.kr/asan/healthinfo/symptom/symptomDetail.do?symptomId=SS000886', 'https://www.amc.seoul.kr/asan/healthinfo/symptom/symptomDetail.do?symptomId=SS000887', 'https://www.amc.seoul.kr/asan/healthinfo/symptom/symptomDetail.do?symptomId=SS000888', 'https://www.amc.seoul.kr/asan/healthinfo/symptom/symptomDetail.do?symptomId=SS000889', 'https://www.amc.seoul.kr/asan/healthinfo/symptom/symptomDetail.do?symptomId=SS000890', 'https://www.amc.seoul.kr/asan/healthinfo/symptom/symptomDetail.do?symptomId=SS000891', 'https://www.amc.seoul.kr/asan/healthinfo/symptom/symptomDetail.do?symptomId=SS00946', 'https://www.amc.seoul.kr/asan/healthinfo/symptom/symptomDetail.do?symptomId=SS000892', 'https://www.amc.seoul.kr/asan/healthinfo/symptom/symptomDetail.do?symptomId=SS000893', 'https://www.amc.seoul.kr/asan/healthinfo/symptom/symptomDetail.do?symptomId=SS000894', 'https://www.amc.seoul.kr/asan/healthinfo/symptom/symptomDetail.do?symptomId=SS000895', 'https://www.amc.seoul.kr/asan/healthinfo/symptom/symptomDetail.do?symptomId=SS000896', 'https://www.amc.seoul.kr/asan/healthinfo/symptom/symptomDetail.do?symptomId=SS000897', 'https://www.amc.seoul.kr/asan/healthinfo/symptom/symptomDetail.do?symptomId=SS000898', 'https://www.amc.seoul.kr/asan/healthinfo/symptom/symptomDetail.do?symptomId=SS000899', 'https://www.amc.seoul.kr/asan/healthinfo/symptom/symptomDetail.do?symptomId=SS000900', 'https://www.amc.seoul.kr/asan/healthinfo/symptom/symptomDetail.do?symptomId=SS000901', 'https://www.amc.seoul.kr/asan/healthinfo/symptom/symptomDetail.do?symptomId=SS000902', 'https://www.amc.seoul.kr/asan/healthinfo/symptom/symptomDetail.do?symptomId=SS000903', 'https://www.amc.seoul.kr/asan/healthinfo/symptom/symptomDetail.do?symptomId=SS000904', 'https://www.amc.seoul.kr/asan/healthinfo/symptom/symptomDetail.do?symptomId=SS000905', 'https://www.amc.seoul.kr/asan/healthinfo/symptom/symptomDetail.do?symptomId=SS000906', 'https://www.amc.seoul.kr/asan/healthinfo/symptom/symptomDetail.do?symptomId=SS000907', 'https://www.amc.seoul.kr/asan/healthinfo/symptom/symptomDetail.do?symptomId=SS000908', 'https://www.amc.seoul.kr/asan/healthinfo/symptom/symptomDetail.do?symptomId=SS000909', 'https://www.amc.seoul.kr/asan/healthinfo/symptom/symptomDetail.do?symptomId=SS000910', 'https://www.amc.seoul.kr/asan/healthinfo/symptom/symptomDetail.do?symptomId=SS000911', 'https://www.amc.seoul.kr/asan/healthinfo/symptom/symptomDetail.do?symptomId=SS000912', 'https://www.amc.seoul.kr/asan/healthinfo/symptom/symptomDetail.do?symptomId=SS000913', 'https://www.amc.seoul.kr/asan/healthinfo/symptom/symptomDetail.do?symptomId=SS000914']\n"
     ]
    }
   ],
   "source": [
    "# 증상 링크\n",
    "symptom_def_urls=[]\n",
    "for i in range(len(symptom_link_data)):\n",
    "    link=symptom_link_data[i].get('href')\n",
    "    symptom_def_urls.append('https://www.amc.seoul.kr'+link)\n",
    "print(symptom_def_urls)"
   ]
  },
  {
   "cell_type": "code",
   "execution_count": 6,
   "id": "ad2bb684",
   "metadata": {},
   "outputs": [
    {
     "name": "stdout",
     "output_type": "stream",
     "text": [
      "['가래', '가슴 답답', '가슴 두근거림', '가슴 통증', '객혈', '거품이 섞인 가래', '검은색 가래', '겨드랑이 악취 ', '과호흡', '기침', '늑막삼출', '락스를 마셨어요', '무호흡', '반복되는 폐렴', '부정맥', '불규칙호흡', '빈맥', '빈호흡', '사래걸림', '새가슴', '서맥', '서호흡', '수면 무호흡', '숨막히는 느낌', '심근손상', '심방 부정맥', '심부전', '심실 부정맥', '심실세동', '심염', '심음 감소', '심인성 쇼크', '심잡음', '심정지', '염산, 황산을 마셨어요', '운동 시 호흡곤란', '울혈성 심부전', '잦은 딸꾹질', '저심박출량', '질식', '천명음', '천식', '청진시 휘파람 소리', '폐기능저하', '폐동맥 고혈압', '폐부종', '폐색전', '폐출혈', '함몰가슴', '헛기침', '호기의 증가', '호흡곤란', '호흡기감염', '화농성 객담', '흉곽 팽윤', '흉부압박감', '흉쇄 유돌근의 몽우리', '흉수']\n"
     ]
    }
   ],
   "source": [
    "# 증상 이름 \n",
    "symptom_names=[]\n",
    "for i in range(len(symptom_link_data)):\n",
    "    name=symptom_link_data[i].get_text()\n",
    "    symptom_names.append(name)\n",
    "print(symptom_names)"
   ]
  },
  {
   "cell_type": "code",
   "execution_count": 7,
   "id": "00601bbf",
   "metadata": {},
   "outputs": [
    {
     "name": "stdout",
     "output_type": "stream",
     "text": [
      "['SS000859', 'SS000860', 'SS000861', 'SS000862', 'SS000863', 'SS000864', 'SS000865', 'SS000866', 'SS000867', 'SS000868', 'SS000869', 'SS00939', 'SS000870', 'SS000871', 'SS000872', 'SS000873', 'SS000874', 'SS000875', 'SS000876', 'SS000877', 'SS000878', 'SS000879', 'SS000880', 'SS000881', 'SS000882', 'SS000883', 'SS000884', 'SS000885', 'SS000886', 'SS000887', 'SS000888', 'SS000889', 'SS000890', 'SS000891', 'SS00946', 'SS000892', 'SS000893', 'SS000894', 'SS000895', 'SS000896', 'SS000897', 'SS000898', 'SS000899', 'SS000900', 'SS000901', 'SS000902', 'SS000903', 'SS000904', 'SS000905', 'SS000906', 'SS000907', 'SS000908', 'SS000909', 'SS000910', 'SS000911', 'SS000912', 'SS000913', 'SS000914']\n"
     ]
    }
   ],
   "source": [
    "# 증상 id\n",
    "symptom_ids=[]\n",
    "for i in range(len(symptom_link_data)):\n",
    "    id_name=\"cont1_\"+str(i+1)\n",
    "    symptom_id=bsObject.body.find(\"input\", {'id':id_name}).get('value')\n",
    "    symptom_ids.append(symptom_id)\n",
    "print(symptom_ids)"
   ]
  },
  {
   "cell_type": "code",
   "execution_count": 8,
   "id": "f3d0a102",
   "metadata": {},
   "outputs": [
    {
     "name": "stdout",
     "output_type": "stream",
     "text": [
      "증상 수: 58\n",
      "{'SS000859': '가래', 'SS000860': '가슴 답답', 'SS000861': '가슴 두근거림', 'SS000862': '가슴 통증', 'SS000863': '객혈', 'SS000864': '거품이 섞인 가래', 'SS000865': '검은색 가래', 'SS000866': '겨드랑이 악취 ', 'SS000867': '과호흡', 'SS000868': '기침', 'SS000869': '늑막삼출', 'SS00939': '락스를 마셨어요', 'SS000870': '무호흡', 'SS000871': '반복되는 폐렴', 'SS000872': '부정맥', 'SS000873': '불규칙호흡', 'SS000874': '빈맥', 'SS000875': '빈호흡', 'SS000876': '사래걸림', 'SS000877': '새가슴', 'SS000878': '서맥', 'SS000879': '서호흡', 'SS000880': '수면 무호흡', 'SS000881': '숨막히는 느낌', 'SS000882': '심근손상', 'SS000883': '심방 부정맥', 'SS000884': '심부전', 'SS000885': '심실 부정맥', 'SS000886': '심실세동', 'SS000887': '심염', 'SS000888': '심음 감소', 'SS000889': '심인성 쇼크', 'SS000890': '심잡음', 'SS000891': '심정지', 'SS00946': '염산, 황산을 마셨어요', 'SS000892': '운동 시 호흡곤란', 'SS000893': '울혈성 심부전', 'SS000894': '잦은 딸꾹질', 'SS000895': '저심박출량', 'SS000896': '질식', 'SS000897': '천명음', 'SS000898': '천식', 'SS000899': '청진시 휘파람 소리', 'SS000900': '폐기능저하', 'SS000901': '폐동맥 고혈압', 'SS000902': '폐부종', 'SS000903': '폐색전', 'SS000904': '폐출혈', 'SS000905': '함몰가슴', 'SS000906': '헛기침', 'SS000907': '호기의 증가', 'SS000908': '호흡곤란', 'SS000909': '호흡기감염', 'SS000910': '화농성 객담', 'SS000911': '흉곽 팽윤', 'SS000912': '흉부압박감', 'SS000913': '흉쇄 유돌근의 몽우리', 'SS000914': '흉수'}\n"
     ]
    }
   ],
   "source": [
    "chest_symptoms = dict(zip(symptom_ids, symptom_names))\n",
    "print('증상 수:',len(chest_symptoms))\n",
    "print(chest_symptoms)"
   ]
  },
  {
   "cell_type": "code",
   "execution_count": 9,
   "id": "143d4c88",
   "metadata": {},
   "outputs": [],
   "source": [
    "# 불필요 데이터 pop"
   ]
  },
  {
   "cell_type": "code",
   "execution_count": 11,
   "id": "93b7dcd2",
   "metadata": {},
   "outputs": [
    {
     "name": "stdout",
     "output_type": "stream",
     "text": [
      "['https://www.amc.seoul.kr/asan/healthinfo/symptom/symptomList.do?searchFrmPartId=B0000020&symptomIds=SS000859', 'https://www.amc.seoul.kr/asan/healthinfo/symptom/symptomList.do?searchFrmPartId=B0000020&symptomIds=SS000860', 'https://www.amc.seoul.kr/asan/healthinfo/symptom/symptomList.do?searchFrmPartId=B0000020&symptomIds=SS000861', 'https://www.amc.seoul.kr/asan/healthinfo/symptom/symptomList.do?searchFrmPartId=B0000020&symptomIds=SS000862', 'https://www.amc.seoul.kr/asan/healthinfo/symptom/symptomList.do?searchFrmPartId=B0000020&symptomIds=SS000863', 'https://www.amc.seoul.kr/asan/healthinfo/symptom/symptomList.do?searchFrmPartId=B0000020&symptomIds=SS000864', 'https://www.amc.seoul.kr/asan/healthinfo/symptom/symptomList.do?searchFrmPartId=B0000020&symptomIds=SS000865', 'https://www.amc.seoul.kr/asan/healthinfo/symptom/symptomList.do?searchFrmPartId=B0000020&symptomIds=SS000866', 'https://www.amc.seoul.kr/asan/healthinfo/symptom/symptomList.do?searchFrmPartId=B0000020&symptomIds=SS000867', 'https://www.amc.seoul.kr/asan/healthinfo/symptom/symptomList.do?searchFrmPartId=B0000020&symptomIds=SS000868', 'https://www.amc.seoul.kr/asan/healthinfo/symptom/symptomList.do?searchFrmPartId=B0000020&symptomIds=SS000869', 'https://www.amc.seoul.kr/asan/healthinfo/symptom/symptomList.do?searchFrmPartId=B0000020&symptomIds=SS00939', 'https://www.amc.seoul.kr/asan/healthinfo/symptom/symptomList.do?searchFrmPartId=B0000020&symptomIds=SS000870', 'https://www.amc.seoul.kr/asan/healthinfo/symptom/symptomList.do?searchFrmPartId=B0000020&symptomIds=SS000871', 'https://www.amc.seoul.kr/asan/healthinfo/symptom/symptomList.do?searchFrmPartId=B0000020&symptomIds=SS000872', 'https://www.amc.seoul.kr/asan/healthinfo/symptom/symptomList.do?searchFrmPartId=B0000020&symptomIds=SS000873', 'https://www.amc.seoul.kr/asan/healthinfo/symptom/symptomList.do?searchFrmPartId=B0000020&symptomIds=SS000874', 'https://www.amc.seoul.kr/asan/healthinfo/symptom/symptomList.do?searchFrmPartId=B0000020&symptomIds=SS000875', 'https://www.amc.seoul.kr/asan/healthinfo/symptom/symptomList.do?searchFrmPartId=B0000020&symptomIds=SS000876', 'https://www.amc.seoul.kr/asan/healthinfo/symptom/symptomList.do?searchFrmPartId=B0000020&symptomIds=SS000877', 'https://www.amc.seoul.kr/asan/healthinfo/symptom/symptomList.do?searchFrmPartId=B0000020&symptomIds=SS000878', 'https://www.amc.seoul.kr/asan/healthinfo/symptom/symptomList.do?searchFrmPartId=B0000020&symptomIds=SS000879', 'https://www.amc.seoul.kr/asan/healthinfo/symptom/symptomList.do?searchFrmPartId=B0000020&symptomIds=SS000880', 'https://www.amc.seoul.kr/asan/healthinfo/symptom/symptomList.do?searchFrmPartId=B0000020&symptomIds=SS000881', 'https://www.amc.seoul.kr/asan/healthinfo/symptom/symptomList.do?searchFrmPartId=B0000020&symptomIds=SS000882', 'https://www.amc.seoul.kr/asan/healthinfo/symptom/symptomList.do?searchFrmPartId=B0000020&symptomIds=SS000883', 'https://www.amc.seoul.kr/asan/healthinfo/symptom/symptomList.do?searchFrmPartId=B0000020&symptomIds=SS000884', 'https://www.amc.seoul.kr/asan/healthinfo/symptom/symptomList.do?searchFrmPartId=B0000020&symptomIds=SS000885', 'https://www.amc.seoul.kr/asan/healthinfo/symptom/symptomList.do?searchFrmPartId=B0000020&symptomIds=SS000886', 'https://www.amc.seoul.kr/asan/healthinfo/symptom/symptomList.do?searchFrmPartId=B0000020&symptomIds=SS000887', 'https://www.amc.seoul.kr/asan/healthinfo/symptom/symptomList.do?searchFrmPartId=B0000020&symptomIds=SS000888', 'https://www.amc.seoul.kr/asan/healthinfo/symptom/symptomList.do?searchFrmPartId=B0000020&symptomIds=SS000889', 'https://www.amc.seoul.kr/asan/healthinfo/symptom/symptomList.do?searchFrmPartId=B0000020&symptomIds=SS000890', 'https://www.amc.seoul.kr/asan/healthinfo/symptom/symptomList.do?searchFrmPartId=B0000020&symptomIds=SS000891', 'https://www.amc.seoul.kr/asan/healthinfo/symptom/symptomList.do?searchFrmPartId=B0000020&symptomIds=SS00946', 'https://www.amc.seoul.kr/asan/healthinfo/symptom/symptomList.do?searchFrmPartId=B0000020&symptomIds=SS000892', 'https://www.amc.seoul.kr/asan/healthinfo/symptom/symptomList.do?searchFrmPartId=B0000020&symptomIds=SS000893', 'https://www.amc.seoul.kr/asan/healthinfo/symptom/symptomList.do?searchFrmPartId=B0000020&symptomIds=SS000894', 'https://www.amc.seoul.kr/asan/healthinfo/symptom/symptomList.do?searchFrmPartId=B0000020&symptomIds=SS000895', 'https://www.amc.seoul.kr/asan/healthinfo/symptom/symptomList.do?searchFrmPartId=B0000020&symptomIds=SS000896', 'https://www.amc.seoul.kr/asan/healthinfo/symptom/symptomList.do?searchFrmPartId=B0000020&symptomIds=SS000897', 'https://www.amc.seoul.kr/asan/healthinfo/symptom/symptomList.do?searchFrmPartId=B0000020&symptomIds=SS000898', 'https://www.amc.seoul.kr/asan/healthinfo/symptom/symptomList.do?searchFrmPartId=B0000020&symptomIds=SS000899', 'https://www.amc.seoul.kr/asan/healthinfo/symptom/symptomList.do?searchFrmPartId=B0000020&symptomIds=SS000900', 'https://www.amc.seoul.kr/asan/healthinfo/symptom/symptomList.do?searchFrmPartId=B0000020&symptomIds=SS000901', 'https://www.amc.seoul.kr/asan/healthinfo/symptom/symptomList.do?searchFrmPartId=B0000020&symptomIds=SS000902', 'https://www.amc.seoul.kr/asan/healthinfo/symptom/symptomList.do?searchFrmPartId=B0000020&symptomIds=SS000903', 'https://www.amc.seoul.kr/asan/healthinfo/symptom/symptomList.do?searchFrmPartId=B0000020&symptomIds=SS000904', 'https://www.amc.seoul.kr/asan/healthinfo/symptom/symptomList.do?searchFrmPartId=B0000020&symptomIds=SS000905', 'https://www.amc.seoul.kr/asan/healthinfo/symptom/symptomList.do?searchFrmPartId=B0000020&symptomIds=SS000906', 'https://www.amc.seoul.kr/asan/healthinfo/symptom/symptomList.do?searchFrmPartId=B0000020&symptomIds=SS000907', 'https://www.amc.seoul.kr/asan/healthinfo/symptom/symptomList.do?searchFrmPartId=B0000020&symptomIds=SS000908', 'https://www.amc.seoul.kr/asan/healthinfo/symptom/symptomList.do?searchFrmPartId=B0000020&symptomIds=SS000909', 'https://www.amc.seoul.kr/asan/healthinfo/symptom/symptomList.do?searchFrmPartId=B0000020&symptomIds=SS000910', 'https://www.amc.seoul.kr/asan/healthinfo/symptom/symptomList.do?searchFrmPartId=B0000020&symptomIds=SS000911', 'https://www.amc.seoul.kr/asan/healthinfo/symptom/symptomList.do?searchFrmPartId=B0000020&symptomIds=SS000912', 'https://www.amc.seoul.kr/asan/healthinfo/symptom/symptomList.do?searchFrmPartId=B0000020&symptomIds=SS000913', 'https://www.amc.seoul.kr/asan/healthinfo/symptom/symptomList.do?searchFrmPartId=B0000020&symptomIds=SS000914']\n",
      "개수:  58\n"
     ]
    }
   ],
   "source": [
    "# 각 증상 선택 결과 link\n",
    "res_links=[]\n",
    "for idx in chest_symptoms:\n",
    "    res_link='https://www.amc.seoul.kr/asan/healthinfo/symptom/symptomList.do?searchFrmPartId=B0000020&symptomIds='+idx\n",
    "    res_links.append(res_link)\n",
    "print(res_links)\n",
    "print(\"개수: \", len(res_links))"
   ]
  },
  {
   "cell_type": "code",
   "execution_count": 13,
   "id": "3598530a",
   "metadata": {},
   "outputs": [
    {
     "name": "stdout",
     "output_type": "stream",
     "text": [
      "dict_values(['가래', '가슴 답답', '가슴 두근거림', '가슴 통증', '객혈', '거품이 섞인 가래', '검은색 가래', '겨드랑이 악취 ', '과호흡', '기침', '늑막삼출', '락스를 마셨어요', '무호흡', '반복되는 폐렴', '부정맥', '불규칙호흡', '빈맥', '빈호흡', '사래걸림', '새가슴', '서맥', '서호흡', '수면 무호흡', '숨막히는 느낌', '심근손상', '심방 부정맥', '심부전', '심실 부정맥', '심실세동', '심염', '심음 감소', '심인성 쇼크', '심잡음', '심정지', '염산, 황산을 마셨어요', '운동 시 호흡곤란', '울혈성 심부전', '잦은 딸꾹질', '저심박출량', '질식', '천명음', '천식', '청진시 휘파람 소리', '폐기능저하', '폐동맥 고혈압', '폐부종', '폐색전', '폐출혈', '함몰가슴', '헛기침', '호기의 증가', '호흡곤란', '호흡기감염', '화농성 객담', '흉곽 팽윤', '흉부압박감', '흉쇄 유돌근의 몽우리', '흉수'])\n",
      "\n",
      "\n",
      "\n",
      "선택된 증상 이름:  가래\n",
      "예상 질병 이름: ['RS바이러스 감염증(RS virus infection)', '객혈(Hemoptysis)', '결핵(Tuberculosis)', '규폐증(Silicosis)', '급성 기관지염(Acute bronchitis)', '기관지확장증(Bronchiectasis)', '늑막염(Pleurisy)', '대동맥판막 기능부전(Aortic (valve) insufficiency)', '대동맥판막 협착(Aortic (valve) stenosis)', '만성 기관지염(Chronic bronchitis)', '만성 폐쇄성 폐질환(Chronic obstructive pulmonary disease)', '만성 폐질환(Chronic lung disease)', '미만성 간질성 폐질환(Diffuse Interstitial lung disease)', '병원 감염성 폐렴(Hospital acquired pneumonia (HAP))', '속립성 결핵(Miliary tuberculosis)', '승모판 기능부전(Mitral (valve) insufficiency)', '승모판 협착(Mitral (valve) stenosis)', '신증후군(Nephrotic syndrome)', '지역사회성 폐렴(Community acquired pneumonia)', '천식(Asthma)']\n",
      "\n",
      "선택된 증상 이름:  가슴 답답\n",
      "예상 질병 이름: ['공황 장애(Panic disorder)', '농흉(Pyothorax, Empyema)', '늑막염(Pleurisy)', '만성 위염(Chronic gastritis)', '신체형 장애(Somatic symptom disorder)', '심방 세동(Atrial fibrillation)', '오래된 심근경색증(Old myocardial infarction)', '음식 알레르기(Food allergy)', '종격동염(Mediastinitis)', '천식(Asthma)', '폐기종(Emphysema)']\n",
      "\n",
      "선택된 증상 이름:  가슴 두근거림\n",
      "예상 질병 이름: ['갈색세포종(Pheochromocytoma)', '고혈압(Essential (primary) hypertension)', '공황 장애(Panic disorder)', '과호흡 증후군(Hyperventilation syndrome)', '길랑-바레 증후군(Guillain-Barre Syndrome)', '동기능 부전 증후군(Sick sinus syndrome)', '발살바동 동맥류 파열(Ruptured sinus of valsava aneurysm)', '발작성 상심실성 빈맥(Paroxysmal Supraventricular Tachycardia)', '범혈구감소증(Pancytopenia)', '부르가다 증후군(Brugada Syndrome)', '부신 종양(Adrenal tumor)', '부정맥(Cardiac arrhythmias)', '분리 불안 장애(Separation Anxiety Disorder)', '불안 장애(Anxiety disorder)', '비정상적 자궁, 질 출혈(Abnormal uterine and vaginal bleeding)', '수정대혈관 전위(Corrected TGA)', '신체형 장애(Somatic symptom disorder)', '심계항진(Palpitations)', '심근병증(Cardiomyopathy)', '심방 세동(Atrial fibrillation)']\n",
      "\n",
      "선택된 증상 이름:  가슴 통증\n",
      "예상 질병 이름: ['공기가슴증(기흉)(Pneumothorax)', '공황 장애(Panic disorder)', '급성 관동맥 증후군(Acute Coronary Syndrome)', '급성 심근경색증(Acute myocardial infarction)', '농흉(Pyothorax, Empyema)', '늑막염(Pleurisy)', '대동맥 협착(Aortic stenosis)', '대동맥류(Aortic aneurysm)', '대동맥판막 기능부전(Aortic (valve) insufficiency)', '대동맥판막 협착(Aortic (valve) stenosis)', '동기능 부전 증후군(Sick sinus syndrome)', '라싸열(Lassa fever )', \"바렛 식도(Barrett's esophagus)\", '발살바동 동맥류 파열(Ruptured sinus of valsava aneurysm)', '병원 감염성 폐렴(Hospital acquired pneumonia (HAP))', '불안정형 협심증(Unstable angina)', '비소세포성 폐암(Non-small cell lung cancer)', '상대정맥 증후군(Superior vena cava Syndrome)', '소적혈구빈혈(Microcytic anemia)', '승모판 협착(Mitral (valve) stenosis)']\n",
      "\n",
      "선택된 증상 이름:  객혈\n",
      "예상 질병 이름: ['객혈(Hemoptysis)', '결핵(Tuberculosis)', '기관지확장증(Bronchiectasis)', '낭종성 폐질환(Cystic Lung Disease)', '노카르디아증(Nocardiosis)', '만성 기관지염(Chronic bronchitis)', '만성 폐질환(Chronic lung disease)', '메리오이드증(Melioidosis)', '비소세포성 폐암(Non-small cell lung cancer)', '소세포성 폐암(Small cell lung cancer)', '속립성 결핵(Miliary tuberculosis)', '아스페르길루스증(Aspergillosis)', '톡소플라즈마증(Toxoplasmosis)', '폐 전이(Lung Metastasis)', '폐 혈전색전증(Pulmonary thromboembolism)', '폐결핵(Pulmonary tuberculosis)', '폐렴간균에 의한 폐렴 (Klebsiella pneumoniae infection)', '폐부종(Pulmonary edema)', '폐암(Lung cancer)', '후두암(Larynx  cancer)']\n",
      "\n",
      "선택된 증상 이름:  거품이 섞인 가래\n",
      "예상 질병 이름: ['객혈(Hemoptysis)']\n",
      "\n",
      "선택된 증상 이름:  검은색 가래\n",
      "예상 질병 이름: ['진폐증(Pneumoconiosis)']\n",
      "\n",
      "선택된 증상 이름:  겨드랑이 악취 \n",
      "예상 질병 이름: ['국소 다한증(Localized hyperhidrosis)', '취한증(Osmidrosis)']\n",
      "\n",
      "선택된 증상 이름:  과호흡\n",
      "예상 질병 이름: ['저체온증(Hypothermia)']\n",
      "\n",
      "선택된 증상 이름:  기침\n",
      "예상 질병 이름: ['RS바이러스 감염증(RS virus infection)', '가습기 살균제 연관 폐질환(Humidifier disinfectant-associated lung injury)', '가와사키병(Kawasaki Disease)', '결핵(Tuberculosis)', '규폐증(Silicosis)', '급성 기관지염(Acute bronchitis)', '기관지확장증(Bronchiectasis)', '꽃가루 알레르기(Pollen allergy)', '낭종성 폐질환(Cystic Lung Disease)', '노카르디아증(Nocardiosis)', '농흉(Pyothorax, Empyema)', '늑막염(Pleurisy)', '대동맥판막 기능부전(Aortic (valve) insufficiency)', '대동맥판막 협착(Aortic (valve) stenosis)', '디프테리아(Diphtheritia)', '레지오넬라증(Legionella)', '마버그열(Marburg hemorrhagic fever)', '만성 기관지염(Chronic bronchitis)', '만성 기침(Chronic cough)', '만성 비염(Chronic rhinitis)']\n",
      "\n",
      "선택된 증상 이름:  늑막삼출\n",
      "예상 질병 이름: ['아메바성 간농양(Amebic liver abscess)']\n",
      "\n",
      "선택된 증상 이름:  락스를 마셨어요\n",
      "예상 질병 이름: []\n",
      "\n",
      "선택된 증상 이름:  무호흡\n",
      "예상 질병 이름: ['뇌사(brain death)', '신생아 가사(Neonatal asphyxia)', '신생아 경련(Convulsions of newborn)', '신생아 괴사성 장염(Necrotizing enterocolitis of fetus and newborn)', '신생아 다혈구증(Polycythemia)', '저칼슘혈증(Hypocalcemia)']\n",
      "\n",
      "선택된 증상 이름:  반복되는 폐렴\n",
      "예상 질병 이름: ['기관 협착(Stenosis of trachea)', '심실 중격 결손(Ventricular septal defect)', '재생불량빈혈(Aplastic anemia)']\n",
      "\n",
      "선택된 증상 이름:  부정맥\n",
      "예상 질병 이름: ['갑상선기능항진증(Hyperthyroidism)', '고마그네슘혈증(Hypermagnesemia)', '고칼륨혈증(Hyperkalemia)', '과호흡 증후군(Hyperventilation syndrome)', '대사성 산증(Metabolic Acidosis)', '대사성 알칼리증(Metabolic Alkalosis)', '샤가스병(Chagas disease)', '설인신경통(Glossopharyngeal neuralgia)', '심근염(Myocarditis)', '심낭 압전(Cardiac tamponade)', '심장 종양(Cardiac tumor)', '아밀로이드증(Amyloidosis)', '악성 고열증(Malignant hyperthermia)', '오래된 심근경색증(Old myocardial infarction)', '익수(Submersion)', '저칼륨혈증(Hypokalemia)', '전폐정맥연결 이상(Total anomalous pulmonary venous connection)', '호흡성 알칼리증(Respiratory Alkalosis)']\n",
      "\n",
      "선택된 증상 이름:  불규칙호흡\n",
      "예상 질병 이름: ['신생아 경련(Convulsions of newborn)']\n",
      "\n",
      "선택된 증상 이름:  빈맥\n",
      "예상 질병 이름: ['WPW 증후군(Wolff-Parkinson-White syndrome)', '갑상선기능항진증(Hyperthyroidism)', '결핵성 복막염(Tuberculous peritonitis)', '급성 류마티스성 열(Acute Rheumatic fever)', '농흉(Pyothorax, Empyema)', '대사성 산증(Metabolic Acidosis)', '대혈관 전위(Transposition of great artery)', '덤핑 증후군(Dumping syndrome)', '디프테리아(Diphtheritia)', '방실 중격 결손(Atrioventricular septal defect)', '복강 내 출혈(Intraperitoneal Bleeding)', '복막염(Peritonitis)', '분만 후 출혈(Postpartum hemorrhage)', '비정상적 자궁, 질 출혈(Abnormal uterine and vaginal bleeding)', '수정대혈관 전위(Corrected TGA)', '식도 정맥류(Esophageal varices)', '신경모세포종(Neuroblastoma)', '신생아 다혈구증(Polycythemia)', '심낭 삼출 (Pericardial effusion)', '심방 세동(Atrial fibrillation)']\n",
      "\n",
      "선택된 증상 이름:  빈호흡\n",
      "예상 질병 이름: ['RS바이러스 감염증(RS virus infection)', '결핵성 복막염(Tuberculous peritonitis)', '고나트륨혈증(Hypernatremia)', '농흉(Pyothorax, Empyema)', '불안 장애(Anxiety disorder)', '악성 고열증(Malignant hyperthermia)', '자궁 외 임신(Ectopic pregnancy)', '전폐정맥연결 이상(Total anomalous pulmonary venous connection)', '태변 흡인 증후군(Meconium aspiration syndrome)', '패혈증(Sepsis)', '호흡성 알칼리증(Respiratory Alkalosis)', '흉막 삼출(Pleural effusion)']\n",
      "\n",
      "선택된 증상 이름:  사래걸림\n",
      "예상 질병 이름: ['기관 협착(Stenosis of trachea)']\n",
      "\n",
      "선택된 증상 이름:  새가슴\n",
      "예상 질병 이름: ['구루병(Rickets)', '슬라이 증후군(Sly Syndrome)']\n",
      "\n",
      "선택된 증상 이름:  서맥\n",
      "예상 질병 이름: ['금단 현상(Withdrawal Phenomenon)', '로하드 증후군(ROHHAD Syndrome)', '신생아 괴사성 장염(Necrotizing enterocolitis of fetus and newborn)', '심장신경성 실신(Neurocardiogenic syncope)', '외상에 의한 척추 손상(Traumatic spine injury)', '점액수종 혼수(Myxoedema coma)', '태변 흡인 증후군(Meconium aspiration syndrome)', '황열(Yellow fever)']\n",
      "\n",
      "선택된 증상 이름:  서호흡\n",
      "예상 질병 이름: ['외상에 의한 척수 손상(Traumatic Spinal cord injury)']\n",
      "\n",
      "선택된 증상 이름:  수면 무호흡\n",
      "예상 질병 이름: ['로하드 증후군(ROHHAD Syndrome)', '비만(Obesity)', '수면 무호흡증(Sleep apnea)', '수면 장애(Sleep Disorder)', '아데노이드의 비대를 동반한 편도의 비대(Hypertrophy of tonsils with hypertrophy of adenoids)']\n",
      "\n",
      "선택된 증상 이름:  숨막히는 느낌\n",
      "예상 질병 이름: ['공황 장애(Panic disorder)', '음식 알레르기(Food allergy)']\n",
      "\n",
      "선택된 증상 이름:  심근손상\n",
      "예상 질병 이름: ['폼페병(Pompe disease)']\n",
      "\n",
      "선택된 증상 이름:  심방 부정맥\n",
      "예상 질병 이름: ['방실 중격 결손(Atrioventricular septal defect)', '심방 중격 결손(Atrial septal defect)', '온전한 심실 중격을 가진 폐동맥 폐쇄(Pulmonary atresia with intact venticulr septum)']\n",
      "\n",
      "선택된 증상 이름:  심부전\n",
      "예상 질병 이름: ['Rh 부적합 임신(Rh Incompatibility pregnancy)', '가습기 살균제 연관 폐질환(Humidifier disinfectant-associated lung injury)', '단심실(Single ventricle)', '대동맥 협착(Aortic stenosis)', '대동맥궁 단절(Interrupted aortic arch)', '발육부전성 좌심 증후군(Hypoplastic left heart syndrome)', '방실 중격 결손(Atrioventricular septal defect)', '신생아 다혈구증(Polycythemia)', '심실 중격 결손(Ventricular septal defect)', '심장 종양(Cardiac tumor)', '쌍태아 수혈 증후군(Twin to twin Transfusion Syndrome)', '아밀로이드증(Amyloidosis)', '양대혈관 우심실 기시증(Double outlet right ventricle)', '양방단실유입증(Double inlet ventricle)', '엡스테인 심기형(Ebstein anomaly)', '울혈성 심부전(Congestive heart failure)', '철결핍빈혈(Iron deficiency anemia)', '패혈증(Sepsis)']\n",
      "\n"
     ]
    },
    {
     "name": "stdout",
     "output_type": "stream",
     "text": [
      "선택된 증상 이름:  심실 부정맥\n",
      "예상 질병 이름: ['부르가다 증후군(Brugada Syndrome)', '저마그네슘혈증(Hypomagnesemia)']\n",
      "\n",
      "선택된 증상 이름:  심실세동\n",
      "예상 질병 이름: ['부르가다 증후군(Brugada Syndrome)']\n",
      "\n",
      "선택된 증상 이름:  심염\n",
      "예상 질병 이름: []\n",
      "\n",
      "선택된 증상 이름:  심음 감소\n",
      "예상 질병 이름: ['심낭 압전(Cardiac tamponade)']\n",
      "\n",
      "선택된 증상 이름:  심인성 쇼크\n",
      "예상 질병 이름: ['대동맥궁 단절(Interrupted aortic arch)', '발살바동 동맥류 파열(Ruptured sinus of valsava aneurysm)', '융모막암종(Choriocarcinoma)']\n",
      "\n",
      "선택된 증상 이름:  심잡음\n",
      "예상 질병 이름: ['동맥관 개존증(Patent ductus arteriosus)', '심방 중격 결손(Atrial septal defect)', '심실 중격 결손(Ventricular septal defect)', '엡스테인 심기형(Ebstein anomaly)', '총동맥간증(Persistent truncus arteriosus)', '팔로 사 징후(Tetralogy of Fallot with/without PA)']\n",
      "\n",
      "선택된 증상 이름:  심정지\n",
      "예상 질병 이름: ['고마그네슘혈증(Hypermagnesemia)', '고칼륨혈증(Hyperkalemia)', '양수색전증(Amniotic fluid embolism)', '저칼슘혈증(Hypocalcemia)', '지주막하 출혈(Subarachnoid hemorrhage)']\n",
      "\n",
      "선택된 증상 이름:  염산, 황산을 마셨어요\n",
      "예상 질병 이름: []\n",
      "\n",
      "선택된 증상 이름:  운동 시 호흡곤란\n",
      "예상 질병 이름: ['거대적혈모구빈혈(Megaloblastic anemia)', '규폐증(Silicosis)', '난원공 개존증(Patent Foramen Ovale)', '대동맥 협착(Aortic stenosis)', '대동맥 협착증(Coarctation of aorta)', '만성 기관지염(Chronic bronchitis)', '만성 폐쇄성 폐질환(Chronic obstructive pulmonary disease)', '미만성 간질성 폐질환(Diffuse Interstitial lung disease)', '선천성 심장 질환(Congenital heart disease)', '순수적혈구무형성(Pure red cell aplasia)', '승모판 협착(Mitral (valve) stenosis)', '신동맥 협착증(Renal artery stenosis)', '심근병증(Cardiomyopathy)', '심방 중격 결손(Atrial septal defect)', '양대혈관 우심실 기시증(Double outlet right ventricle)', '용혈빈혈(Hemolytic anemia)', '위 정맥류(Gastric varices)', '재생불량빈혈(Aplastic anemia)', '전폐정맥연결 이상(Total anomalous pulmonary venous connection)', '지중해빈혈(Thalassemia)']\n",
      "\n",
      "선택된 증상 이름:  울혈성 심부전\n",
      "예상 질병 이름: ['심근염(Myocarditis)', '울혈성 심부전(Congestive heart failure)']\n",
      "\n",
      "선택된 증상 이름:  잦은 딸꾹질\n",
      "예상 질병 이름: ['식도이완불능증(Esophageal Achalasia)']\n",
      "\n",
      "선택된 증상 이름:  저심박출량\n",
      "예상 질병 이름: ['대동맥궁 단절(Interrupted aortic arch)', '탈락 피부염(Exfoliative dermatitis)']\n",
      "\n",
      "선택된 증상 이름:  질식\n",
      "예상 질병 이름: ['양수과소증(Oligohydramnios)', '이물질에 의한 기도 막힘(Airway obstruction)']\n",
      "\n",
      "선택된 증상 이름:  천명음\n",
      "예상 질병 이름: ['급성 기관지염(Acute bronchitis)', '기관지확장증(Bronchiectasis)', '만성 폐쇄성 폐질환(Chronic obstructive pulmonary disease)', '성인 호흡곤란 증후군(Adult respiratory distress syndrome)', '소세포성 폐암(Small cell lung cancer)', '소화관의 이물(Foreign body in alimentary tract)', '아스페르길루스증(Aspergillosis)', '양성 종격동 종양(Benign mediastinal tumor)', '재발성 천명(Recurrent wheeze)', '처그 스트라우스 증후군(Churg strauss syndrome)', '천식(Asthma)', '후두암(Larynx  cancer)']\n",
      "\n",
      "선택된 증상 이름:  천식\n",
      "예상 질병 이름: ['기관지폐 형성이상(Bronchopulmonary dysplasia)', '새집 증후군(Sick building syndrome)', '소장암(Small bowel cancer)', '처그 스트라우스 증후군(Churg strauss syndrome)', '카르시노이드 증후군(Carcinoid syndrome)']\n",
      "\n",
      "선택된 증상 이름:  청진시 휘파람 소리\n",
      "예상 질병 이름: []\n",
      "\n",
      "선택된 증상 이름:  폐기능저하\n",
      "예상 질병 이름: ['흉막 삼출(Pleural effusion)']\n",
      "\n",
      "선택된 증상 이름:  폐동맥 고혈압\n",
      "예상 질병 이름: ['가습기 살균제 연관 폐질환(Humidifier disinfectant-associated lung injury)', '대동맥 협착증(Coarctation of aorta)', '대동맥궁 단절(Interrupted aortic arch)', '심실 중격 결손(Ventricular septal defect)', '양대혈관 우심실 기시증(Double outlet right ventricle)']\n",
      "\n",
      "선택된 증상 이름:  폐부종\n",
      "예상 질병 이름: ['발살바동 동맥류 파열(Ruptured sinus of valsava aneurysm)', '폐부종(Pulmonary edema)']\n",
      "\n",
      "선택된 증상 이름:  폐색전\n",
      "예상 질병 이름: ['폐 혈전색전증(Pulmonary thromboembolism)', '혈소판 이상(Disorders of the platelets)']\n",
      "\n",
      "선택된 증상 이름:  폐출혈\n",
      "예상 질병 이름: ['Rh 부적합 임신(Rh Incompatibility pregnancy)']\n",
      "\n",
      "선택된 증상 이름:  함몰가슴\n",
      "예상 질병 이름: ['신생아 호흡곤란증후군(Neonatal respiratory distress syndrome)']\n",
      "\n",
      "선택된 증상 이름:  헛기침\n",
      "예상 질병 이름: ['후비루(Postnasal drip)']\n",
      "\n",
      "선택된 증상 이름:  호기의 증가\n",
      "예상 질병 이름: ['기관지폐 형성이상(Bronchopulmonary dysplasia)']\n",
      "\n",
      "선택된 증상 이름:  호흡곤란\n",
      "예상 질병 이름: ['Rh 부적합 임신(Rh Incompatibility pregnancy)', '가습기 살균제 연관 폐질환(Humidifier disinfectant-associated lung injury)', '갑상선 결절(Thyroid nodule)', '갑상선 미분화암(Undifferentiated thyroid cancer)', '갑상선 수질암(Medullary thyroid cancer)', '갑상선 여포암(Follicular thyroid cancer)', '갑상선 유두암(Papillary Carcinoma of Thyroid )', '갑상선암(Thyroid cancer)', '고마그네슘혈증(Hypermagnesemia)', '골수형성이상증후군(Myelodysplastic syndromes)', '공기가슴증(기흉)(Pneumothorax)', '과호흡 증후군(Hyperventilation syndrome)', '광견병(Rabies)', '근육병(Myopathy)', '급성 관동맥 증후군(Acute Coronary Syndrome)', '급성 기관지염(Acute bronchitis)', '급성 심근경색증(Acute myocardial infarction)', '급성골수성백혈병(Acute myeloid leukemia)', '기관 협착(Stenosis of trachea)', '길랑-바레 증후군(Guillain-Barre Syndrome)']\n",
      "\n",
      "선택된 증상 이름:  호흡기감염\n",
      "예상 질병 이름: ['낭종성 폐질환(Cystic Lung Disease)', '심실 중격 결손(Ventricular septal defect)']\n",
      "\n",
      "선택된 증상 이름:  화농성 객담\n",
      "예상 질병 이름: ['농흉(Pyothorax, Empyema)', '폐 농양(Abscess of lung)']\n",
      "\n",
      "선택된 증상 이름:  흉곽 팽윤\n",
      "예상 질병 이름: ['기관지폐 형성이상(Bronchopulmonary dysplasia)', '만성 폐쇄성 폐질환(Chronic obstructive pulmonary disease)']\n",
      "\n",
      "선택된 증상 이름:  흉부압박감\n",
      "예상 질병 이름: ['과호흡 증후군(Hyperventilation syndrome)', '농흉(Pyothorax, Empyema)', '신경절 신경종(Ganglioneuroma)']\n",
      "\n",
      "선택된 증상 이름:  흉쇄 유돌근의 몽우리\n",
      "예상 질병 이름: ['선천성 사경(Congenital (sternomastoid) torticollis)']\n",
      "\n",
      "선택된 증상 이름:  흉수\n",
      "예상 질병 이름: ['원발부위 불명암(Cancer of Unknown Primary Site)', '폐렴(Pneumonia)']\n",
      "\n"
     ]
    }
   ],
   "source": [
    "sympt_names=chest_symptoms.values()\n",
    "print(sympt_names)\n",
    "print(\"\\n\\n\")\n",
    "\n",
    "i=0\n",
    "for idx in chest_symptoms:\n",
    "    sympt_res_html=urlopen(res_links[i])     # 추린 내용\n",
    "    i=i+1\n",
    "    sympt_res_Object=BeautifulSoup(sympt_res_html, \"html.parser\")\n",
    "    # print(sympt_res_Object)\n",
    "    \n",
    "    # symptom result link의 상세 정보\n",
    "    symptom_res_link_data=sympt_res_Object.body.find_all(\"strong\", {\"class\":\"contTitle\"})\n",
    "    print('선택된 증상 이름: ', chest_symptoms[idx])   # ㅣist(belly_symptoms.values())[0]\n",
    "    res_names=[]\n",
    "    for j in range(len(symptom_res_link_data)):\n",
    "        # name=symptom_link_data[i].get_text()\n",
    "        res_names.append(symptom_res_link_data[j].get_text().strip())\n",
    "    print('예상 질병 이름: ', end='')\n",
    "    print(res_names)\n",
    "    print()"
   ]
  },
  {
   "cell_type": "code",
   "execution_count": null,
   "id": "e45fe3d0",
   "metadata": {},
   "outputs": [],
   "source": []
  }
 ],
 "metadata": {
  "kernelspec": {
   "display_name": "Python 3 (ipykernel)",
   "language": "python",
   "name": "python3"
  },
  "language_info": {
   "codemirror_mode": {
    "name": "ipython",
    "version": 3
   },
   "file_extension": ".py",
   "mimetype": "text/x-python",
   "name": "python",
   "nbconvert_exporter": "python",
   "pygments_lexer": "ipython3",
   "version": "3.7.6"
  }
 },
 "nbformat": 4,
 "nbformat_minor": 5
}
