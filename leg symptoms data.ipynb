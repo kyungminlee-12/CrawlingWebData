{
 "cells": [
  {
   "cell_type": "code",
   "execution_count": 1,
   "id": "ad7e53eb",
   "metadata": {},
   "outputs": [],
   "source": [
    "from urllib.request import urlopen\n",
    "from bs4 import BeautifulSoup\n",
    "\n",
    "asan_html=urlopen(\"https://www.amc.seoul.kr/asan/healthinfo/symptom/symptomSubmain.do?partId=B000005\")\n",
    "bsObject=BeautifulSoup(asan_html, \"html.parser\")"
   ]
  },
  {
   "cell_type": "code",
   "execution_count": 2,
   "id": "94bf76cb",
   "metadata": {},
   "outputs": [],
   "source": [
    "# symptom link의 상세 정보\n",
    "symptom_link_data=bsObject.body.find(\"div\", {\"class\":\"searchCont\"}).find_all('a')"
   ]
  },
  {
   "cell_type": "code",
   "execution_count": 3,
   "id": "fd254670",
   "metadata": {},
   "outputs": [
    {
     "name": "stdout",
     "output_type": "stream",
     "text": [
      "['https://www.amc.seoul.kr/asan/healthinfo/symptom/symptomDetail.do?symptomId=SS000253', 'https://www.amc.seoul.kr/asan/healthinfo/symptom/symptomDetail.do?symptomId=SS000254', 'https://www.amc.seoul.kr/asan/healthinfo/symptom/symptomDetail.do?symptomId=SS000761', 'https://www.amc.seoul.kr/asan/healthinfo/symptom/symptomDetail.do?symptomId=SS000232', 'https://www.amc.seoul.kr/asan/healthinfo/symptom/symptomDetail.do?symptomId=SS000738', 'https://www.amc.seoul.kr/asan/healthinfo/symptom/symptomDetail.do?symptomId=SS000233', 'https://www.amc.seoul.kr/asan/healthinfo/symptom/symptomDetail.do?symptomId=SS000762', 'https://www.amc.seoul.kr/asan/healthinfo/symptom/symptomDetail.do?symptomId=SS000256', 'https://www.amc.seoul.kr/asan/healthinfo/symptom/symptomDetail.do?symptomId=SS000779', 'https://www.amc.seoul.kr/asan/healthinfo/symptom/symptomDetail.do?symptomId=SS00950', 'https://www.amc.seoul.kr/asan/healthinfo/symptom/symptomDetail.do?symptomId=SS000234', 'https://www.amc.seoul.kr/asan/healthinfo/symptom/symptomDetail.do?symptomId=SS000235', 'https://www.amc.seoul.kr/asan/healthinfo/symptom/symptomDetail.do?symptomId=SS000236', 'https://www.amc.seoul.kr/asan/healthinfo/symptom/symptomDetail.do?symptomId=SS000237', 'https://www.amc.seoul.kr/asan/healthinfo/symptom/symptomDetail.do?symptomId=SS000763', 'https://www.amc.seoul.kr/asan/healthinfo/symptom/symptomDetail.do?symptomId=SS000764', 'https://www.amc.seoul.kr/asan/healthinfo/symptom/symptomDetail.do?symptomId=SS000765', 'https://www.amc.seoul.kr/asan/healthinfo/symptom/symptomDetail.do?symptomId=SS000766', 'https://www.amc.seoul.kr/asan/healthinfo/symptom/symptomDetail.do?symptomId=SS000238', 'https://www.amc.seoul.kr/asan/healthinfo/symptom/symptomDetail.do?symptomId=SS000239', 'https://www.amc.seoul.kr/asan/healthinfo/symptom/symptomDetail.do?symptomId=SS000767', 'https://www.amc.seoul.kr/asan/healthinfo/symptom/symptomDetail.do?symptomId=SS000240', 'https://www.amc.seoul.kr/asan/healthinfo/symptom/symptomDetail.do?symptomId=SS000768', 'https://www.amc.seoul.kr/asan/healthinfo/symptom/symptomDetail.do?symptomId=SS000241', 'https://www.amc.seoul.kr/asan/healthinfo/symptom/symptomDetail.do?symptomId=SS000915', 'https://www.amc.seoul.kr/asan/healthinfo/symptom/symptomDetail.do?symptomId=SS000242', 'https://www.amc.seoul.kr/asan/healthinfo/symptom/symptomDetail.do?symptomId=SS000255', 'https://www.amc.seoul.kr/asan/healthinfo/symptom/symptomDetail.do?symptomId=SS000739', 'https://www.amc.seoul.kr/asan/healthinfo/symptom/symptomDetail.do?symptomId=SS000769', 'https://www.amc.seoul.kr/asan/healthinfo/symptom/symptomDetail.do?symptomId=SS000770', 'https://www.amc.seoul.kr/asan/healthinfo/symptom/symptomDetail.do?symptomId=SS000771', 'https://www.amc.seoul.kr/asan/healthinfo/symptom/symptomDetail.do?symptomId=SS000772', 'https://www.amc.seoul.kr/asan/healthinfo/symptom/symptomDetail.do?symptomId=SS000773', 'https://www.amc.seoul.kr/asan/healthinfo/symptom/symptomDetail.do?symptomId=SS000774', 'https://www.amc.seoul.kr/asan/healthinfo/symptom/symptomDetail.do?symptomId=SS000439', 'https://www.amc.seoul.kr/asan/healthinfo/symptom/symptomDetail.do?symptomId=SS000243', 'https://www.amc.seoul.kr/asan/healthinfo/symptom/symptomDetail.do?symptomId=SS000244', 'https://www.amc.seoul.kr/asan/healthinfo/symptom/symptomDetail.do?symptomId=SS000245', 'https://www.amc.seoul.kr/asan/healthinfo/symptom/symptomDetail.do?symptomId=SS000775', 'https://www.amc.seoul.kr/asan/healthinfo/symptom/symptomDetail.do?symptomId=SS000257', 'https://www.amc.seoul.kr/asan/healthinfo/symptom/symptomDetail.do?symptomId=SS000246', 'https://www.amc.seoul.kr/asan/healthinfo/symptom/symptomDetail.do?symptomId=SS000247', 'https://www.amc.seoul.kr/asan/healthinfo/symptom/symptomDetail.do?symptomId=SS000776', 'https://www.amc.seoul.kr/asan/healthinfo/symptom/symptomDetail.do?symptomId=SS000248', 'https://www.amc.seoul.kr/asan/healthinfo/symptom/symptomDetail.do?symptomId=SS000249', 'https://www.amc.seoul.kr/asan/healthinfo/symptom/symptomDetail.do?symptomId=SS000777', 'https://www.amc.seoul.kr/asan/healthinfo/symptom/symptomDetail.do?symptomId=SS000778', 'https://www.amc.seoul.kr/asan/healthinfo/symptom/symptomDetail.do?symptomId=SS000250', 'https://www.amc.seoul.kr/asan/healthinfo/symptom/symptomDetail.do?symptomId=SS000251', 'https://www.amc.seoul.kr/asan/healthinfo/symptom/symptomDetail.do?symptomId=SS000252', 'https://www.amc.seoul.kr/asan/healthinfo/symptom/symptomDetail.do?symptomId=SS00948']\n"
     ]
    }
   ],
   "source": [
    "# 증상 링크\n",
    "symptom_def_urls=[]\n",
    "for i in range(len(symptom_link_data)):\n",
    "    link=symptom_link_data[i].get('href')\n",
    "    symptom_def_urls.append('https://www.amc.seoul.kr'+link)\n",
    "print(symptom_def_urls)"
   ]
  },
  {
   "cell_type": "code",
   "execution_count": 4,
   "id": "41837198",
   "metadata": {},
   "outputs": [
    {
     "name": "stdout",
     "output_type": "stream",
     "text": [
      "['O자 다리', 'X자 다리', '가늘어지는 팔다리', '관절 불안정증', '관절 운동성 감소', '관절염', '관절의 경직', '관절잡음', '관절통', '다리 외상', '다리 통증', '다리가 잘 안 벌어짐', '다리변형', '다리의 길이가 틀림', '다발성 관절염', '말초부종', '말초의 허혈', '무감각', '무릎 부위 부종', '무릎 부위 통증', '무맥', '반신마비', '방사통', '보행이상', '비강,목,폐 건조', '뻣뻣함', '뼈의 기형', '뼈의 변형', '사지 마비', '사지 변형', '사지 부종', '사지의 창백한 현상', '손상 부위 출혈', '손상부위 촉각 소실', '압통', '양무릎사이 벌어짐', '양반다리로 앉기힘듬', '오리걸음', '저림', '정맥혈전', '좁은 보폭의 걸음걸이', '종아리 근육의 비대', '파열부위 오목해짐', '파열음', '파행', '편마비', '편측 사지의 감각소실', '하지 마비', '하지부종', '하지의 근력약화', '해파리에 쏘였어요']\n"
     ]
    }
   ],
   "source": [
    "# 증상 이름 \n",
    "symptom_names=[]\n",
    "for i in range(len(symptom_link_data)):\n",
    "    name=symptom_link_data[i].get_text()\n",
    "    symptom_names.append(name)\n",
    "print(symptom_names)"
   ]
  },
  {
   "cell_type": "code",
   "execution_count": 5,
   "id": "08869d99",
   "metadata": {},
   "outputs": [
    {
     "name": "stdout",
     "output_type": "stream",
     "text": [
      "['SS000253', 'SS000254', 'SS000761', 'SS000232', 'SS000738', 'SS000233', 'SS000762', 'SS000256', 'SS000779', 'SS00950', 'SS000234', 'SS000235', 'SS000236', 'SS000237', 'SS000763', 'SS000764', 'SS000765', 'SS000766', 'SS000238', 'SS000239', 'SS000767', 'SS000240', 'SS000768', 'SS000241', 'SS000915', 'SS000242', 'SS000255', 'SS000739', 'SS000769', 'SS000770', 'SS000771', 'SS000772', 'SS000773', 'SS000774', 'SS000439', 'SS000243', 'SS000244', 'SS000245', 'SS000775', 'SS000257', 'SS000246', 'SS000247', 'SS000776', 'SS000248', 'SS000249', 'SS000777', 'SS000778', 'SS000250', 'SS000251', 'SS000252', 'SS00948']\n"
     ]
    }
   ],
   "source": [
    "# 증상 id\n",
    "symptom_ids=[]\n",
    "for i in range(len(symptom_link_data)):\n",
    "    id_name=\"cont1_\"+str(i+1)\n",
    "    symptom_id=bsObject.body.find(\"input\", {'id':id_name}).get('value')\n",
    "    symptom_ids.append(symptom_id)\n",
    "print(symptom_ids)"
   ]
  },
  {
   "cell_type": "code",
   "execution_count": 6,
   "id": "b577fc1b",
   "metadata": {},
   "outputs": [
    {
     "name": "stdout",
     "output_type": "stream",
     "text": [
      "증상 수: 51\n",
      "{'SS000253': 'O자 다리', 'SS000254': 'X자 다리', 'SS000761': '가늘어지는 팔다리', 'SS000232': '관절 불안정증', 'SS000738': '관절 운동성 감소', 'SS000233': '관절염', 'SS000762': '관절의 경직', 'SS000256': '관절잡음', 'SS000779': '관절통', 'SS00950': '다리 외상', 'SS000234': '다리 통증', 'SS000235': '다리가 잘 안 벌어짐', 'SS000236': '다리변형', 'SS000237': '다리의 길이가 틀림', 'SS000763': '다발성 관절염', 'SS000764': '말초부종', 'SS000765': '말초의 허혈', 'SS000766': '무감각', 'SS000238': '무릎 부위 부종', 'SS000239': '무릎 부위 통증', 'SS000767': '무맥', 'SS000240': '반신마비', 'SS000768': '방사통', 'SS000241': '보행이상', 'SS000915': '비강,목,폐 건조', 'SS000242': '뻣뻣함', 'SS000255': '뼈의 기형', 'SS000739': '뼈의 변형', 'SS000769': '사지 마비', 'SS000770': '사지 변형', 'SS000771': '사지 부종', 'SS000772': '사지의 창백한 현상', 'SS000773': '손상 부위 출혈', 'SS000774': '손상부위 촉각 소실', 'SS000439': '압통', 'SS000243': '양무릎사이 벌어짐', 'SS000244': '양반다리로 앉기힘듬', 'SS000245': '오리걸음', 'SS000775': '저림', 'SS000257': '정맥혈전', 'SS000246': '좁은 보폭의 걸음걸이', 'SS000247': '종아리 근육의 비대', 'SS000776': '파열부위 오목해짐', 'SS000248': '파열음', 'SS000249': '파행', 'SS000777': '편마비', 'SS000778': '편측 사지의 감각소실', 'SS000250': '하지 마비', 'SS000251': '하지부종', 'SS000252': '하지의 근력약화', 'SS00948': '해파리에 쏘였어요'}\n"
     ]
    }
   ],
   "source": [
    "leg_symptoms = dict(zip(symptom_ids, symptom_names))\n",
    "print('증상 수:',len(leg_symptoms))\n",
    "print(leg_symptoms)"
   ]
  },
  {
   "cell_type": "code",
   "execution_count": 7,
   "id": "dba8c6bb",
   "metadata": {},
   "outputs": [
    {
     "name": "stdout",
     "output_type": "stream",
     "text": [
      "증상 수: 40\n",
      "증상 수: {'SS000253': 'O자 다리', 'SS000254': 'X자 다리', 'SS000761': '가늘어지는 팔다리', 'SS000738': '관절 운동성 감소', 'SS000762': '관절의 경직', 'SS000256': '관절잡음', 'SS000779': '관절통', 'SS00950': '다리 외상', 'SS000234': '다리 통증', 'SS000235': '다리가 잘 안 벌어짐', 'SS000236': '다리변형', 'SS000237': '다리의 길이가 틀림', 'SS000765': '말초의 허혈', 'SS000766': '무감각', 'SS000238': '무릎 부위 부종', 'SS000239': '무릎 부위 통증', 'SS000768': '방사통', 'SS000241': '보행이상', 'SS000242': '뻣뻣함', 'SS000255': '뼈의 기형', 'SS000739': '뼈의 변형', 'SS000769': '사지 마비', 'SS000770': '사지 변형', 'SS000771': '사지 부종', 'SS000772': '사지의 창백한 현상', 'SS000773': '손상 부위 출혈', 'SS000774': '손상부위 촉각 소실', 'SS000439': '압통', 'SS000243': '양무릎사이 벌어짐', 'SS000244': '양반다리로 앉기힘듬', 'SS000245': '오리걸음', 'SS000775': '저림', 'SS000246': '좁은 보폭의 걸음걸이', 'SS000247': '종아리 근육의 비대', 'SS000776': '파열부위 오목해짐', 'SS000248': '파열음', 'SS000778': '편측 사지의 감각소실', 'SS000251': '하지부종', 'SS000252': '하지의 근력약화', 'SS00948': '해파리에 쏘였어요'}\n"
     ]
    }
   ],
   "source": [
    "# pop\n",
    "leg_symptoms.pop('SS000232')  # 관절 불안정증\n",
    "leg_symptoms.pop('SS000233')  # 관절염\n",
    "leg_symptoms.pop('SS000763')  # 다발성 관절염\n",
    "leg_symptoms.pop('SS000764')  # 말초부종\n",
    "leg_symptoms.pop('SS000767')  # 무맥\n",
    "leg_symptoms.pop('SS000240')  # 반신마비\n",
    "\n",
    "leg_symptoms.pop('SS000915')  # 비강,목,폐 건조\n",
    "leg_symptoms.pop('SS000257')  # 정맥혈전\n",
    "leg_symptoms.pop('SS000249')  # 파행\n",
    "leg_symptoms.pop('SS000777')  # 편마비\n",
    "leg_symptoms.pop('SS000250')  # 하지 마비\n",
    "\n",
    "\n",
    "print('증상 수:',len(leg_symptoms))\n",
    "print('증상 수:',leg_symptoms)"
   ]
  },
  {
   "cell_type": "code",
   "execution_count": 8,
   "id": "c40c5c6c",
   "metadata": {},
   "outputs": [
    {
     "name": "stdout",
     "output_type": "stream",
     "text": [
      "['https://www.amc.seoul.kr/asan/healthinfo/symptom/symptomList.do?searchFrmPartId=B0000010&symptomIds=SS000253', 'https://www.amc.seoul.kr/asan/healthinfo/symptom/symptomList.do?searchFrmPartId=B0000010&symptomIds=SS000254', 'https://www.amc.seoul.kr/asan/healthinfo/symptom/symptomList.do?searchFrmPartId=B0000010&symptomIds=SS000761', 'https://www.amc.seoul.kr/asan/healthinfo/symptom/symptomList.do?searchFrmPartId=B0000010&symptomIds=SS000738', 'https://www.amc.seoul.kr/asan/healthinfo/symptom/symptomList.do?searchFrmPartId=B0000010&symptomIds=SS000762', 'https://www.amc.seoul.kr/asan/healthinfo/symptom/symptomList.do?searchFrmPartId=B0000010&symptomIds=SS000256', 'https://www.amc.seoul.kr/asan/healthinfo/symptom/symptomList.do?searchFrmPartId=B0000010&symptomIds=SS000779', 'https://www.amc.seoul.kr/asan/healthinfo/symptom/symptomList.do?searchFrmPartId=B0000010&symptomIds=SS00950', 'https://www.amc.seoul.kr/asan/healthinfo/symptom/symptomList.do?searchFrmPartId=B0000010&symptomIds=SS000234', 'https://www.amc.seoul.kr/asan/healthinfo/symptom/symptomList.do?searchFrmPartId=B0000010&symptomIds=SS000235', 'https://www.amc.seoul.kr/asan/healthinfo/symptom/symptomList.do?searchFrmPartId=B0000010&symptomIds=SS000236', 'https://www.amc.seoul.kr/asan/healthinfo/symptom/symptomList.do?searchFrmPartId=B0000010&symptomIds=SS000237', 'https://www.amc.seoul.kr/asan/healthinfo/symptom/symptomList.do?searchFrmPartId=B0000010&symptomIds=SS000765', 'https://www.amc.seoul.kr/asan/healthinfo/symptom/symptomList.do?searchFrmPartId=B0000010&symptomIds=SS000766', 'https://www.amc.seoul.kr/asan/healthinfo/symptom/symptomList.do?searchFrmPartId=B0000010&symptomIds=SS000238', 'https://www.amc.seoul.kr/asan/healthinfo/symptom/symptomList.do?searchFrmPartId=B0000010&symptomIds=SS000239', 'https://www.amc.seoul.kr/asan/healthinfo/symptom/symptomList.do?searchFrmPartId=B0000010&symptomIds=SS000768', 'https://www.amc.seoul.kr/asan/healthinfo/symptom/symptomList.do?searchFrmPartId=B0000010&symptomIds=SS000241', 'https://www.amc.seoul.kr/asan/healthinfo/symptom/symptomList.do?searchFrmPartId=B0000010&symptomIds=SS000242', 'https://www.amc.seoul.kr/asan/healthinfo/symptom/symptomList.do?searchFrmPartId=B0000010&symptomIds=SS000255', 'https://www.amc.seoul.kr/asan/healthinfo/symptom/symptomList.do?searchFrmPartId=B0000010&symptomIds=SS000739', 'https://www.amc.seoul.kr/asan/healthinfo/symptom/symptomList.do?searchFrmPartId=B0000010&symptomIds=SS000769', 'https://www.amc.seoul.kr/asan/healthinfo/symptom/symptomList.do?searchFrmPartId=B0000010&symptomIds=SS000770', 'https://www.amc.seoul.kr/asan/healthinfo/symptom/symptomList.do?searchFrmPartId=B0000010&symptomIds=SS000771', 'https://www.amc.seoul.kr/asan/healthinfo/symptom/symptomList.do?searchFrmPartId=B0000010&symptomIds=SS000772', 'https://www.amc.seoul.kr/asan/healthinfo/symptom/symptomList.do?searchFrmPartId=B0000010&symptomIds=SS000773', 'https://www.amc.seoul.kr/asan/healthinfo/symptom/symptomList.do?searchFrmPartId=B0000010&symptomIds=SS000774', 'https://www.amc.seoul.kr/asan/healthinfo/symptom/symptomList.do?searchFrmPartId=B0000010&symptomIds=SS000439', 'https://www.amc.seoul.kr/asan/healthinfo/symptom/symptomList.do?searchFrmPartId=B0000010&symptomIds=SS000243', 'https://www.amc.seoul.kr/asan/healthinfo/symptom/symptomList.do?searchFrmPartId=B0000010&symptomIds=SS000244', 'https://www.amc.seoul.kr/asan/healthinfo/symptom/symptomList.do?searchFrmPartId=B0000010&symptomIds=SS000245', 'https://www.amc.seoul.kr/asan/healthinfo/symptom/symptomList.do?searchFrmPartId=B0000010&symptomIds=SS000775', 'https://www.amc.seoul.kr/asan/healthinfo/symptom/symptomList.do?searchFrmPartId=B0000010&symptomIds=SS000246', 'https://www.amc.seoul.kr/asan/healthinfo/symptom/symptomList.do?searchFrmPartId=B0000010&symptomIds=SS000247', 'https://www.amc.seoul.kr/asan/healthinfo/symptom/symptomList.do?searchFrmPartId=B0000010&symptomIds=SS000776', 'https://www.amc.seoul.kr/asan/healthinfo/symptom/symptomList.do?searchFrmPartId=B0000010&symptomIds=SS000248', 'https://www.amc.seoul.kr/asan/healthinfo/symptom/symptomList.do?searchFrmPartId=B0000010&symptomIds=SS000778', 'https://www.amc.seoul.kr/asan/healthinfo/symptom/symptomList.do?searchFrmPartId=B0000010&symptomIds=SS000251', 'https://www.amc.seoul.kr/asan/healthinfo/symptom/symptomList.do?searchFrmPartId=B0000010&symptomIds=SS000252', 'https://www.amc.seoul.kr/asan/healthinfo/symptom/symptomList.do?searchFrmPartId=B0000010&symptomIds=SS00948']\n",
      "개수:  40\n"
     ]
    }
   ],
   "source": [
    "# 각 증상 선택 결과 link\n",
    "res_links=[]\n",
    "for idx in leg_symptoms:\n",
    "    res_link='https://www.amc.seoul.kr/asan/healthinfo/symptom/symptomList.do?searchFrmPartId=B0000010&symptomIds='+idx\n",
    "    res_links.append(res_link)\n",
    "print(res_links)\n",
    "print(\"개수: \", len(res_links))"
   ]
  },
  {
   "cell_type": "markdown",
   "id": "c90230e0",
   "metadata": {},
   "source": [
    "### 다리 증상별 예상 병명 (1개 조합)"
   ]
  },
  {
   "cell_type": "code",
   "execution_count": null,
   "id": "4eabcc28",
   "metadata": {},
   "outputs": [
    {
     "name": "stdout",
     "output_type": "stream",
     "text": [
      "dict_values(['O자 다리', 'X자 다리', '가늘어지는 팔다리', '관절 운동성 감소', '관절의 경직', '관절잡음', '관절통', '다리 외상', '다리 통증', '다리가 잘 안 벌어짐', '다리변형', '다리의 길이가 틀림', '말초의 허혈', '무감각', '무릎 부위 부종', '무릎 부위 통증', '방사통', '보행이상', '뻣뻣함', '뼈의 기형', '뼈의 변형', '사지 마비', '사지 변형', '사지 부종', '사지의 창백한 현상', '손상 부위 출혈', '손상부위 촉각 소실', '압통', '양무릎사이 벌어짐', '양반다리로 앉기힘듬', '오리걸음', '저림', '좁은 보폭의 걸음걸이', '종아리 근육의 비대', '파열부위 오목해짐', '파열음', '편측 사지의 감각소실', '하지부종', '하지의 근력약화', '해파리에 쏘였어요'])\n",
      "\n",
      "\n",
      "\n",
      "선택된 증상 이름:  O자 다리\n",
      "예상 질병 이름: ['구루병(Rickets)', '내반슬(Bow leg)', '연골무형성증(Achondroplasia)']\n",
      "\n",
      "선택된 증상 이름:  X자 다리\n",
      "예상 질병 이름: ['외반슬(Knock-knee)']\n",
      "\n",
      "선택된 증상 이름:  가늘어지는 팔다리\n",
      "예상 질병 이름: ['니만-피크병(Niemann-Pick disease)', \"쿠싱 증후군(Cushing's syndrome)\"]\n",
      "\n",
      "선택된 증상 이름:  관절 운동성 감소\n",
      "예상 질병 이름: ['골관절염(Osteoarthritis)', '골괴사(Osteonecrosis)', '무릎관절증(Gonarthrosis)', '반달연골 이상(Meniscus derangements)', \"베이커 낭종(Baker's cyst)\", '변형성 고관절증(Coxarthrosis)', '복합 부위 통증 증후군(Complex regional pain syndrome)', '소아 류마티스 관절염(Juvenile rheumatoid arthritis)', '연골연화증(Chondromalacia)', '염좌(sprain)', '원판형 반월상연골(Discoid meniscus)', '육종(Sarcoma)', '이소성 골화증(Heterotopic Ossification)', '일과성 고관절 활액막염(Transient synovitis of hip)', '재발성 견관절 전방 탈구(Recurrent Anterior Glenohumeral Dislocation)', '점액낭염(Bursitis)', '패혈성 관절염(Septic arthtritis)']\n",
      "\n",
      "선택된 증상 이름:  관절의 경직\n",
      "예상 질병 이름: ['강직성 척추염(Ankylosing spondylitis)', '골관절염(Osteoarthritis)', '내상과염(Golf Elbow)', '류마티스 관절염(Rheumatoid arthritis)', '반월판 연골손상(Tear of meniscus)', \"베이커 낭종(Baker's cyst)\", '소아 류마티스 관절염(Juvenile rheumatoid arthritis)', '퇴행성 척추 장애(Degenerative spinal disorder)']\n",
      "\n",
      "선택된 증상 이름:  관절잡음\n",
      "예상 질병 이름: ['무릎관절증(Gonarthrosis)', '반월판 연골손상(Tear of meniscus)', '방아쇠 수지(Trigger finger)', '슬개건염(Patellar tendinitis)', '십자 인대 손상(Cruciate Ligament Injuries)', '원판형 반월상연골(Discoid meniscus)', '턱관절 장애(Temporomandibular joint disorders)']\n",
      "\n",
      "선택된 증상 이름:  관절통\n",
      "예상 질병 이름: ['간염(Hepatitis)', '강직성 척추염(Ankylosing spondylitis)', '결절성 다발동맥염(Polyarteritis nodosa)', '결핵성 골수염(Tuberculous osteomyelitis)', '골관절염(Osteoarthritis)', '골다공증(Osteoporosis)', '급성 간질성 신염(Acute tubulo-interstitial nephritis)', '급성 바이러스성 간염(Acute viral hepatitis)', '기쿠치병(Kikuchi Disease)', '뎅기열(Dengue fever)', '독성 간염(Toxic hepatitis)', '라임병(Lyme disease)', '류마티스 관절염(Rheumatoid arthritis)', '만성 B형 간염(Chronic hepatitis B)', '반월판 연골손상(Tear of meniscus)', '비만(Obesity)', '산후 갑상선염(Postpartum thyroiditis)', '성인형 스틸병(Adult-Onset Stills disease)', '소아 류마티스 관절염(Juvenile rheumatoid arthritis)', '아밀로이드증(Amyloidosis)']\n",
      "\n",
      "선택된 증상 이름:  다리 외상\n",
      "예상 질병 이름: []\n",
      "\n",
      "선택된 증상 이름:  다리 통증\n",
      "예상 질병 이름: ['길랑-바레 증후군(Guillain-Barre Syndrome)', '오스굿씨 병(Osgood Schlatter Disease)', '외반슬(Knock-knee)', '요추 추간판 탈출증(Herniation of intervertebral disk)', '자궁경부암(Cervical cancer)', '좌골신경통(Sciatica)', '퇴행성 척추 장애(Degenerative spinal disorder)', '하지불안증후군(Restless Legs Syndrome)']\n",
      "\n",
      "선택된 증상 이름:  다리가 잘 안 벌어짐\n",
      "예상 질병 이름: ['고관절 이형성증(DDH (developmental dysplasia of the hip))']\n",
      "\n",
      "선택된 증상 이름:  다리변형\n",
      "예상 질병 이름: ['경골과 비골 골절(Fracture of tibia & fibula)', '골절 후 부정 유합, 불유합(Malunion & nonunion of fracture)', '구루병(Rickets)', '대퇴 골절(Fracture of femur)']\n",
      "\n",
      "선택된 증상 이름:  다리의 길이가 틀림\n",
      "예상 질병 이름: ['고관절 이형성증(DDH (developmental dysplasia of the hip))', '대퇴 골절(Fracture of femur)']\n",
      "\n",
      "선택된 증상 이름:  말초의 허혈\n",
      "예상 질병 이름: ['골수증식종양(Myeloproliferative neoplasm)', '동맥색전증 및 혈전증(Arterial embolism and thrombosis)', '심부정맥 색전증(Deep vein thrombosis)', '죽상경화증(Atherosclerosis)', '폐색성 혈전 혈관염 (Thromboangiitis obliterans)']\n",
      "\n",
      "선택된 증상 이름:  무감각\n",
      "예상 질병 이름: ['각기병(Beriberi)', '당뇨병성 말초신경병증(Diabetic polyneuropathy)', '동상(Frostbite)', '아밀로이드증(Amyloidosis)', \"잠수병(Diver's disease)\", '지간 신경종(Interdigital neuroma)', '처그 스트라우스 증후군(Churg strauss syndrome)']\n",
      "\n",
      "선택된 증상 이름:  무릎 부위 부종\n",
      "예상 질병 이름: ['골관절염(Osteoarthritis)', '무릎관절증(Gonarthrosis)', '반달연골 이상(Meniscus derangements)', '반월판 연골손상(Tear of meniscus)', \"베이커 낭종(Baker's cyst)\", '슬개골 골절(Patella Fracture)', '슬관절 장애(Internal derangement of knee)', '십자 인대 손상(Cruciate Ligament Injuries)', '오스굿씨 병(Osgood Schlatter Disease)', '원판형 반월상연골(Discoid meniscus)']\n",
      "\n",
      "선택된 증상 이름:  무릎 부위 통증\n",
      "예상 질병 이름: ['골관절염(Osteoarthritis)', '무릎관절증(Gonarthrosis)', '반달연골 이상(Meniscus derangements)', '반월판 연골손상(Tear of meniscus)', \"베이커 낭종(Baker's cyst)\", \"베체트 병(Behcet's disease)\", '슬개골 골절(Patella Fracture)', '슬관절 장애(Internal derangement of knee)', '십자 인대 손상(Cruciate Ligament Injuries)', '연골연화증(Chondromalacia)', '오스굿씨 병(Osgood Schlatter Disease)', '원판형 반월상연골(Discoid meniscus)', '통풍(Gout)']\n",
      "\n",
      "선택된 증상 이름:  방사통\n",
      "예상 질병 이름: ['근근막 통증 증후군(myofascial pain syndrome)', '급성 관동맥 증후군(Acute Coronary Syndrome)', '만성 담낭염(Chronic cholecystitis)', '만성 췌장염(Chronic pancreatitis)', '신경근병증(Radiculopathy)', '악성 중피종(Malignant mesothelioma)', '오래된 심근경색증(Old myocardial infarction)', '요추관 협착증(Lumbar spinal stenosis)', '위식도 역류성 질환(Gastro-esophagus reflux disease)', '유방통(Mastodynia)', '턱관절 장애(Temporomandibular joint disorders)', '허혈성 심질환(Ischemic heart disease)', '협심증(Angina pectoris)']\n",
      "\n"
     ]
    }
   ],
   "source": [
    "sympt_names=leg_symptoms.values()\n",
    "print(sympt_names)\n",
    "print(\"\\n\\n\")\n",
    "\n",
    "i=0\n",
    "for idx in leg_symptoms:\n",
    "    sympt_res_html=urlopen(res_links[i])     # 추린 내용\n",
    "    i=i+1\n",
    "    sympt_res_Object=BeautifulSoup(sympt_res_html, \"html.parser\")\n",
    "    # print(sympt_res_Object)\n",
    "    \n",
    "    # symptom result link의 상세 정보\n",
    "    symptom_res_link_data=sympt_res_Object.body.find_all(\"strong\", {\"class\":\"contTitle\"})\n",
    "    print('선택된 증상 이름: ', leg_symptoms[idx])   # ㅣist(belly_symptoms.values())[0]\n",
    "    res_names=[]\n",
    "    for j in range(len(symptom_res_link_data)):\n",
    "        # name=symptom_link_data[i].get_text()\n",
    "        res_names.append(symptom_res_link_data[j].get_text().strip())\n",
    "    print('예상 질병 이름: ', end='')\n",
    "    print(res_names)\n",
    "    print()"
   ]
  },
  {
   "cell_type": "code",
   "execution_count": null,
   "id": "df95144f",
   "metadata": {},
   "outputs": [],
   "source": []
  }
 ],
 "metadata": {
  "kernelspec": {
   "display_name": "Python 3 (ipykernel)",
   "language": "python",
   "name": "python3"
  },
  "language_info": {
   "codemirror_mode": {
    "name": "ipython",
    "version": 3
   },
   "file_extension": ".py",
   "mimetype": "text/x-python",
   "name": "python",
   "nbconvert_exporter": "python",
   "pygments_lexer": "ipython3",
   "version": "3.7.6"
  }
 },
 "nbformat": 4,
 "nbformat_minor": 5
}
