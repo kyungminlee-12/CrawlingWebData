{
 "cells": [
  {
   "cell_type": "code",
   "execution_count": 1,
   "id": "8d26d18d",
   "metadata": {},
   "outputs": [],
   "source": [
    "from urllib.request import urlopen\n",
    "from bs4 import BeautifulSoup\n",
    "\n",
    "asan_html=urlopen(\"https://www.amc.seoul.kr/asan/healthinfo/symptom/symptomSubmain.do\")\n",
    "bsObject=BeautifulSoup(asan_html, \"html.parser\")"
   ]
  },
  {
   "cell_type": "code",
   "execution_count": 2,
   "id": "33c00f4d",
   "metadata": {},
   "outputs": [],
   "source": [
    "# symptom link의 상세 정보\n",
    "symptom_link_data=bsObject.body.find(\"div\", {\"class\":\"searchCont\"}).find_all('a')"
   ]
  },
  {
   "cell_type": "code",
   "execution_count": 3,
   "id": "31f81ccf",
   "metadata": {},
   "outputs": [
    {
     "name": "stdout",
     "output_type": "stream",
     "text": [
      "['https://www.amc.seoul.kr/asan/healthinfo/symptom/symptomDetail.do?symptomId=SS000264', 'https://www.amc.seoul.kr/asan/healthinfo/symptom/symptomDetail.do?symptomId=SS000265', 'https://www.amc.seoul.kr/asan/healthinfo/symptom/symptomDetail.do?symptomId=SS000266', 'https://www.amc.seoul.kr/asan/healthinfo/symptom/symptomDetail.do?symptomId=SS00932', 'https://www.amc.seoul.kr/asan/healthinfo/symptom/symptomDetail.do?symptomId=SS000267', 'https://www.amc.seoul.kr/asan/healthinfo/symptom/symptomDetail.do?symptomId=SS000268', 'https://www.amc.seoul.kr/asan/healthinfo/symptom/symptomDetail.do?symptomId=SS000269', 'https://www.amc.seoul.kr/asan/healthinfo/symptom/symptomDetail.do?symptomId=SS000270', 'https://www.amc.seoul.kr/asan/healthinfo/symptom/symptomDetail.do?symptomId=SS000271', 'https://www.amc.seoul.kr/asan/healthinfo/symptom/symptomDetail.do?symptomId=SS000272', 'https://www.amc.seoul.kr/asan/healthinfo/symptom/symptomDetail.do?symptomId=SS000273', 'https://www.amc.seoul.kr/asan/healthinfo/symptom/symptomDetail.do?symptomId=SS000274', 'https://www.amc.seoul.kr/asan/healthinfo/symptom/symptomDetail.do?symptomId=SS000275', 'https://www.amc.seoul.kr/asan/healthinfo/symptom/symptomDetail.do?symptomId=SS000276', 'https://www.amc.seoul.kr/asan/healthinfo/symptom/symptomDetail.do?symptomId=SS000277', 'https://www.amc.seoul.kr/asan/healthinfo/symptom/symptomDetail.do?symptomId=SS000278', 'https://www.amc.seoul.kr/asan/healthinfo/symptom/symptomDetail.do?symptomId=SS000279', 'https://www.amc.seoul.kr/asan/healthinfo/symptom/symptomDetail.do?symptomId=SS000280', 'https://www.amc.seoul.kr/asan/healthinfo/symptom/symptomDetail.do?symptomId=SS000281', 'https://www.amc.seoul.kr/asan/healthinfo/symptom/symptomDetail.do?symptomId=SS000282', 'https://www.amc.seoul.kr/asan/healthinfo/symptom/symptomDetail.do?symptomId=SS000283', 'https://www.amc.seoul.kr/asan/healthinfo/symptom/symptomDetail.do?symptomId=SS00952', 'https://www.amc.seoul.kr/asan/healthinfo/symptom/symptomDetail.do?symptomId=SS000284', 'https://www.amc.seoul.kr/asan/healthinfo/symptom/symptomDetail.do?symptomId=SS000285', 'https://www.amc.seoul.kr/asan/healthinfo/symptom/symptomDetail.do?symptomId=SS00951', 'https://www.amc.seoul.kr/asan/healthinfo/symptom/symptomDetail.do?symptomId=SS000286', 'https://www.amc.seoul.kr/asan/healthinfo/symptom/symptomDetail.do?symptomId=SS000287', 'https://www.amc.seoul.kr/asan/healthinfo/symptom/symptomDetail.do?symptomId=SS000288', 'https://www.amc.seoul.kr/asan/healthinfo/symptom/symptomDetail.do?symptomId=SS000289', 'https://www.amc.seoul.kr/asan/healthinfo/symptom/symptomDetail.do?symptomId=SS000290', 'https://www.amc.seoul.kr/asan/healthinfo/symptom/symptomDetail.do?symptomId=SS000291', 'https://www.amc.seoul.kr/asan/healthinfo/symptom/symptomDetail.do?symptomId=SS000292', 'https://www.amc.seoul.kr/asan/healthinfo/symptom/symptomDetail.do?symptomId=SS000293', 'https://www.amc.seoul.kr/asan/healthinfo/symptom/symptomDetail.do?symptomId=SS000294', 'https://www.amc.seoul.kr/asan/healthinfo/symptom/symptomDetail.do?symptomId=SS000295', 'https://www.amc.seoul.kr/asan/healthinfo/symptom/symptomDetail.do?symptomId=SS000296', 'https://www.amc.seoul.kr/asan/healthinfo/symptom/symptomDetail.do?symptomId=SS000297', 'https://www.amc.seoul.kr/asan/healthinfo/symptom/symptomDetail.do?symptomId=SS000298', 'https://www.amc.seoul.kr/asan/healthinfo/symptom/symptomDetail.do?symptomId=SS000299', 'https://www.amc.seoul.kr/asan/healthinfo/symptom/symptomDetail.do?symptomId=SS000300', 'https://www.amc.seoul.kr/asan/healthinfo/symptom/symptomDetail.do?symptomId=SS000301', 'https://www.amc.seoul.kr/asan/healthinfo/symptom/symptomDetail.do?symptomId=SS000302', 'https://www.amc.seoul.kr/asan/healthinfo/symptom/symptomDetail.do?symptomId=SS000303', 'https://www.amc.seoul.kr/asan/healthinfo/symptom/symptomDetail.do?symptomId=SS000304', 'https://www.amc.seoul.kr/asan/healthinfo/symptom/symptomDetail.do?symptomId=SS00958', 'https://www.amc.seoul.kr/asan/healthinfo/symptom/symptomDetail.do?symptomId=SS000305', 'https://www.amc.seoul.kr/asan/healthinfo/symptom/symptomDetail.do?symptomId=SS000737', 'https://www.amc.seoul.kr/asan/healthinfo/symptom/symptomDetail.do?symptomId=SS000306', 'https://www.amc.seoul.kr/asan/healthinfo/symptom/symptomDetail.do?symptomId=SS000307', 'https://www.amc.seoul.kr/asan/healthinfo/symptom/symptomDetail.do?symptomId=SS000308', 'https://www.amc.seoul.kr/asan/healthinfo/symptom/symptomDetail.do?symptomId=SS000309', 'https://www.amc.seoul.kr/asan/healthinfo/symptom/symptomDetail.do?symptomId=SS000310', 'https://www.amc.seoul.kr/asan/healthinfo/symptom/symptomDetail.do?symptomId=SS000311', 'https://www.amc.seoul.kr/asan/healthinfo/symptom/symptomDetail.do?symptomId=SS000312', 'https://www.amc.seoul.kr/asan/healthinfo/symptom/symptomDetail.do?symptomId=SS000313', 'https://www.amc.seoul.kr/asan/healthinfo/symptom/symptomDetail.do?symptomId=SS000314', 'https://www.amc.seoul.kr/asan/healthinfo/symptom/symptomDetail.do?symptomId=SS000315', 'https://www.amc.seoul.kr/asan/healthinfo/symptom/symptomDetail.do?symptomId=SS000316', 'https://www.amc.seoul.kr/asan/healthinfo/symptom/symptomDetail.do?symptomId=SS000317', 'https://www.amc.seoul.kr/asan/healthinfo/symptom/symptomDetail.do?symptomId=SS000318', 'https://www.amc.seoul.kr/asan/healthinfo/symptom/symptomDetail.do?symptomId=SS000319', 'https://www.amc.seoul.kr/asan/healthinfo/symptom/symptomDetail.do?symptomId=SS000320', 'https://www.amc.seoul.kr/asan/healthinfo/symptom/symptomDetail.do?symptomId=SS000321', 'https://www.amc.seoul.kr/asan/healthinfo/symptom/symptomDetail.do?symptomId=SS000322', 'https://www.amc.seoul.kr/asan/healthinfo/symptom/symptomDetail.do?symptomId=SS000323', 'https://www.amc.seoul.kr/asan/healthinfo/symptom/symptomDetail.do?symptomId=SS000324', 'https://www.amc.seoul.kr/asan/healthinfo/symptom/symptomDetail.do?symptomId=SS000325', 'https://www.amc.seoul.kr/asan/healthinfo/symptom/symptomDetail.do?symptomId=SS000326', 'https://www.amc.seoul.kr/asan/healthinfo/symptom/symptomDetail.do?symptomId=SS000327', 'https://www.amc.seoul.kr/asan/healthinfo/symptom/symptomDetail.do?symptomId=SS000328', 'https://www.amc.seoul.kr/asan/healthinfo/symptom/symptomDetail.do?symptomId=SS000329', 'https://www.amc.seoul.kr/asan/healthinfo/symptom/symptomDetail.do?symptomId=SS000330', 'https://www.amc.seoul.kr/asan/healthinfo/symptom/symptomDetail.do?symptomId=SS000331', 'https://www.amc.seoul.kr/asan/healthinfo/symptom/symptomDetail.do?symptomId=SS000332', 'https://www.amc.seoul.kr/asan/healthinfo/symptom/symptomDetail.do?symptomId=SS000333', 'https://www.amc.seoul.kr/asan/healthinfo/symptom/symptomDetail.do?symptomId=SS000334', 'https://www.amc.seoul.kr/asan/healthinfo/symptom/symptomDetail.do?symptomId=SS000335', 'https://www.amc.seoul.kr/asan/healthinfo/symptom/symptomDetail.do?symptomId=SS000336', 'https://www.amc.seoul.kr/asan/healthinfo/symptom/symptomDetail.do?symptomId=SS000337']\n"
     ]
    }
   ],
   "source": [
    "# 증상 링크\n",
    "symptom_def_urls=[]\n",
    "for i in range(len(symptom_link_data)):\n",
    "    link=symptom_link_data[i].get('href')\n",
    "    symptom_def_urls.append('https://www.amc.seoul.kr'+link)\n",
    "print(symptom_def_urls)"
   ]
  },
  {
   "cell_type": "code",
   "execution_count": 4,
   "id": "6f2c691b",
   "metadata": {},
   "outputs": [
    {
     "name": "stdout",
     "output_type": "stream",
     "text": [
      "['간성뇌증', '강박증', '건망증', '고산병', '광대뼈 위치 이상', '기민상태', '기억장애', '깨어나면 기억하지 못함', '납작한 코, 축 쳐진 귀', '낮 시간대의 졸음', '낮은 지능', '낮은 학업 성취', '내분비계이상', '놀란표정', '놀람반사의 약화', '뇌부종', '뇌수종', '뇌압상승증상', '뇌염증상', '뇌출혈', '달모양의 둥근 얼굴', '두부 외상', '두통', '두피 건조', '두피 열상', '만성 부비동염', '머리모양 변형', '모발 탈색', '모발이 가늘어짐', '모발이 거침', '무균성 뇌막염', '무의식', '박동성 통증', '방향감각 상실', '볼, 눈주위 움푹 꺼짐', '볼이 처짐', '비웃는 듯한 표정', '삐뚤어진 눈, 코, 입', '수막자극증상', '실인증', '실행증', '안면 변형', '안면마비', '안면부 출혈', '안면통', '안면홍조', '어지러움', '언어장애', '얼굴 중심선이 안맞음', '얼굴 한쪽의 반점', '얼굴모양변화', '얼굴부종', '얼굴에 땀이 남', '얼굴에 털이 자람', '얼굴의 나비모양 홍반', '얼굴이 밋밋함', '얼굴이 화끈거림', '얼굴형태의 이상', '운동 실어증', '원형, 타원형의 탈모', '의식 변화', '의식 저하', '이마가 넓어짐', '이마의 주름', '이중턱', '인지장애', '졸림', '지남력 장애', '짓누르는 느낌 ', '치매', '코 옆과 입꼬리 주름', '콧등이 넓어짐', '턱끝이 커보임', '턱의 통증', '편두통', '하악전돌', '학습장애', '혼돈', '혼수']\n"
     ]
    }
   ],
   "source": [
    "# 증상 이름 \n",
    "symptom_names=[]\n",
    "for i in range(len(symptom_link_data)):\n",
    "    name=symptom_link_data[i].get_text()\n",
    "    symptom_names.append(name)\n",
    "print(symptom_names)"
   ]
  },
  {
   "cell_type": "code",
   "execution_count": 5,
   "id": "3fb7c3c6",
   "metadata": {},
   "outputs": [
    {
     "name": "stdout",
     "output_type": "stream",
     "text": [
      "['SS000264', 'SS000265', 'SS000266', 'SS00932', 'SS000267', 'SS000268', 'SS000269', 'SS000270', 'SS000271', 'SS000272', 'SS000273', 'SS000274', 'SS000275', 'SS000276', 'SS000277', 'SS000278', 'SS000279', 'SS000280', 'SS000281', 'SS000282', 'SS000283', 'SS00952', 'SS000284', 'SS000285', 'SS00951', 'SS000286', 'SS000287', 'SS000288', 'SS000289', 'SS000290', 'SS000291', 'SS000292', 'SS000293', 'SS000294', 'SS000295', 'SS000296', 'SS000297', 'SS000298', 'SS000299', 'SS000300', 'SS000301', 'SS000302', 'SS000303', 'SS000304', 'SS00958', 'SS000305', 'SS000737', 'SS000306', 'SS000307', 'SS000308', 'SS000309', 'SS000310', 'SS000311', 'SS000312', 'SS000313', 'SS000314', 'SS000315', 'SS000316', 'SS000317', 'SS000318', 'SS000319', 'SS000320', 'SS000321', 'SS000322', 'SS000323', 'SS000324', 'SS000325', 'SS000326', 'SS000327', 'SS000328', 'SS000329', 'SS000330', 'SS000331', 'SS000332', 'SS000333', 'SS000334', 'SS000335', 'SS000336', 'SS000337']\n"
     ]
    }
   ],
   "source": [
    "# 증상 id\n",
    "symptom_ids=[]\n",
    "for i in range(len(symptom_link_data)):\n",
    "    id_name=\"cont1_\"+str(i+1)\n",
    "    symptom_id=bsObject.body.find(\"input\", {'id':id_name}).get('value')\n",
    "    symptom_ids.append(symptom_id)\n",
    "print(symptom_ids)"
   ]
  },
  {
   "cell_type": "code",
   "execution_count": 6,
   "id": "06f471af",
   "metadata": {},
   "outputs": [
    {
     "name": "stdout",
     "output_type": "stream",
     "text": [
      "증상 수: 79\n",
      "{'SS000264': '간성뇌증', 'SS000265': '강박증', 'SS000266': '건망증', 'SS00932': '고산병', 'SS000267': '광대뼈 위치 이상', 'SS000268': '기민상태', 'SS000269': '기억장애', 'SS000270': '깨어나면 기억하지 못함', 'SS000271': '납작한 코, 축 쳐진 귀', 'SS000272': '낮 시간대의 졸음', 'SS000273': '낮은 지능', 'SS000274': '낮은 학업 성취', 'SS000275': '내분비계이상', 'SS000276': '놀란표정', 'SS000277': '놀람반사의 약화', 'SS000278': '뇌부종', 'SS000279': '뇌수종', 'SS000280': '뇌압상승증상', 'SS000281': '뇌염증상', 'SS000282': '뇌출혈', 'SS000283': '달모양의 둥근 얼굴', 'SS00952': '두부 외상', 'SS000284': '두통', 'SS000285': '두피 건조', 'SS00951': '두피 열상', 'SS000286': '만성 부비동염', 'SS000287': '머리모양 변형', 'SS000288': '모발 탈색', 'SS000289': '모발이 가늘어짐', 'SS000290': '모발이 거침', 'SS000291': '무균성 뇌막염', 'SS000292': '무의식', 'SS000293': '박동성 통증', 'SS000294': '방향감각 상실', 'SS000295': '볼, 눈주위 움푹 꺼짐', 'SS000296': '볼이 처짐', 'SS000297': '비웃는 듯한 표정', 'SS000298': '삐뚤어진 눈, 코, 입', 'SS000299': '수막자극증상', 'SS000300': '실인증', 'SS000301': '실행증', 'SS000302': '안면 변형', 'SS000303': '안면마비', 'SS000304': '안면부 출혈', 'SS00958': '안면통', 'SS000305': '안면홍조', 'SS000737': '어지러움', 'SS000306': '언어장애', 'SS000307': '얼굴 중심선이 안맞음', 'SS000308': '얼굴 한쪽의 반점', 'SS000309': '얼굴모양변화', 'SS000310': '얼굴부종', 'SS000311': '얼굴에 땀이 남', 'SS000312': '얼굴에 털이 자람', 'SS000313': '얼굴의 나비모양 홍반', 'SS000314': '얼굴이 밋밋함', 'SS000315': '얼굴이 화끈거림', 'SS000316': '얼굴형태의 이상', 'SS000317': '운동 실어증', 'SS000318': '원형, 타원형의 탈모', 'SS000319': '의식 변화', 'SS000320': '의식 저하', 'SS000321': '이마가 넓어짐', 'SS000322': '이마의 주름', 'SS000323': '이중턱', 'SS000324': '인지장애', 'SS000325': '졸림', 'SS000326': '지남력 장애', 'SS000327': '짓누르는 느낌 ', 'SS000328': '치매', 'SS000329': '코 옆과 입꼬리 주름', 'SS000330': '콧등이 넓어짐', 'SS000331': '턱끝이 커보임', 'SS000332': '턱의 통증', 'SS000333': '편두통', 'SS000334': '하악전돌', 'SS000335': '학습장애', 'SS000336': '혼돈', 'SS000337': '혼수'}\n"
     ]
    }
   ],
   "source": [
    "head_symptoms = dict(zip(symptom_ids, symptom_names))\n",
    "print('증상 수:',len(head_symptoms))\n",
    "print(head_symptoms)"
   ]
  },
  {
   "cell_type": "code",
   "execution_count": 7,
   "id": "0fc5f99b",
   "metadata": {},
   "outputs": [
    {
     "name": "stdout",
     "output_type": "stream",
     "text": [
      "증상 수: 54\n",
      "증상 수: {'SS000267': '광대뼈 위치 이상', 'SS000269': '기억장애', 'SS000270': '깨어나면 기억하지 못함', 'SS000271': '납작한 코, 축 쳐진 귀', 'SS000272': '낮 시간대의 졸음', 'SS000273': '낮은 지능', 'SS000274': '낮은 학업 성취', 'SS000277': '놀람반사의 약화', 'SS000280': '뇌압상승증상', 'SS000281': '뇌염증상', 'SS000282': '뇌출혈', 'SS000283': '달모양의 둥근 얼굴', 'SS000284': '두통', 'SS000285': '두피 건조', 'SS000286': '만성 부비동염', 'SS000287': '머리모양 변형', 'SS000288': '모발 탈색', 'SS000289': '모발이 가늘어짐', 'SS000292': '무의식', 'SS000293': '박동성 통증', 'SS000294': '방향감각 상실', 'SS000295': '볼, 눈주위 움푹 꺼짐', 'SS000296': '볼이 처짐', 'SS000297': '비웃는 듯한 표정', 'SS000298': '삐뚤어진 눈, 코, 입', 'SS000299': '수막자극증상', 'SS000302': '안면 변형', 'SS000303': '안면마비', 'SS000304': '안면부 출혈', 'SS00958': '안면통', 'SS000305': '안면홍조', 'SS000737': '어지러움', 'SS000306': '언어장애', 'SS000307': '얼굴 중심선이 안맞음', 'SS000308': '얼굴 한쪽의 반점', 'SS000309': '얼굴모양변화', 'SS000310': '얼굴부종', 'SS000312': '얼굴에 털이 자람', 'SS000313': '얼굴의 나비모양 홍반', 'SS000315': '얼굴이 화끈거림', 'SS000316': '얼굴형태의 이상', 'SS000318': '원형, 타원형의 탈모', 'SS000319': '의식 변화', 'SS000320': '의식 저하', 'SS000321': '이마가 넓어짐', 'SS000322': '이마의 주름', 'SS000323': '이중턱', 'SS000325': '졸림', 'SS000329': '코 옆과 입꼬리 주름', 'SS000332': '턱의 통증', 'SS000333': '편두통', 'SS000335': '학습장애', 'SS000336': '혼돈', 'SS000337': '혼수'}\n"
     ]
    }
   ],
   "source": [
    "# pop\n",
    "head_symptoms.pop('SS000264')  # 간성뇌증\n",
    "head_symptoms.pop('SS000265')  # 강박증\n",
    "head_symptoms.pop('SS000266')  # 건망증\n",
    "head_symptoms.pop('SS00932')   # 고산병\n",
    "head_symptoms.pop('SS000268')  # 기민상태\n",
    "\n",
    "head_symptoms.pop('SS000275')  # 내분비계이상\n",
    "head_symptoms.pop('SS000278')  # 뇌부종\n",
    "head_symptoms.pop('SS000279')  # 뇌수종\n",
    "\n",
    "head_symptoms.pop('SS000291')  # 무균성 뇌막염\n",
    "head_symptoms.pop('SS000300')  # 실인증\n",
    "head_symptoms.pop('SS000301')  # 실행증\n",
    "\n",
    "head_symptoms.pop('SS000317')  # 운동 실어증\n",
    "head_symptoms.pop('SS000324')  # 인지장애\n",
    "head_symptoms.pop('SS000326')  # 지남력 장애\n",
    "head_symptoms.pop('SS000328')  # 치매\n",
    "head_symptoms.pop('SS000334')  # 하악전돌\n",
    "\n",
    "\n",
    "# 결과 없는 데이터 삭제\n",
    "# 놀란 표정, 두부 외상, 두피 열상, 모발이 거침, \n",
    "# 얼굴에 땀이 남, 얼굴이 밋밋함, 짓누르는 느낌,\n",
    "# 콧등이 넓어짐, 턱끝이 커보임\n",
    "head_symptoms.pop('SS000276')  # 놀란표정\n",
    "head_symptoms.pop('SS00952')   # 두부 외상\n",
    "head_symptoms.pop('SS00951')   # 두피 열상\n",
    "head_symptoms.pop('SS000290')  # 모발이 거침\n",
    "\n",
    "head_symptoms.pop('SS000311')  # 얼굴에 땀이 남\n",
    "head_symptoms.pop('SS000314')  # 얼굴이 밋밋함\n",
    "head_symptoms.pop('SS000327')  # 짓누르는 느낌\n",
    "\n",
    "head_symptoms.pop('SS000330')  # 콧등이 넓어짐\n",
    "head_symptoms.pop('SS000331')  # 턱끝이 커보임\n",
    "\n",
    "print('증상 수:',len(head_symptoms))\n",
    "print('증상 수:',head_symptoms)"
   ]
  },
  {
   "cell_type": "code",
   "execution_count": 8,
   "id": "75db62a7",
   "metadata": {},
   "outputs": [
    {
     "name": "stdout",
     "output_type": "stream",
     "text": [
      "['https://www.amc.seoul.kr/asan/healthinfo/symptom/symptomList.do?searchFrmPartId=B0000010&symptomIds=SS000267', 'https://www.amc.seoul.kr/asan/healthinfo/symptom/symptomList.do?searchFrmPartId=B0000010&symptomIds=SS000269', 'https://www.amc.seoul.kr/asan/healthinfo/symptom/symptomList.do?searchFrmPartId=B0000010&symptomIds=SS000270', 'https://www.amc.seoul.kr/asan/healthinfo/symptom/symptomList.do?searchFrmPartId=B0000010&symptomIds=SS000271', 'https://www.amc.seoul.kr/asan/healthinfo/symptom/symptomList.do?searchFrmPartId=B0000010&symptomIds=SS000272', 'https://www.amc.seoul.kr/asan/healthinfo/symptom/symptomList.do?searchFrmPartId=B0000010&symptomIds=SS000273', 'https://www.amc.seoul.kr/asan/healthinfo/symptom/symptomList.do?searchFrmPartId=B0000010&symptomIds=SS000274', 'https://www.amc.seoul.kr/asan/healthinfo/symptom/symptomList.do?searchFrmPartId=B0000010&symptomIds=SS000277', 'https://www.amc.seoul.kr/asan/healthinfo/symptom/symptomList.do?searchFrmPartId=B0000010&symptomIds=SS000280', 'https://www.amc.seoul.kr/asan/healthinfo/symptom/symptomList.do?searchFrmPartId=B0000010&symptomIds=SS000281', 'https://www.amc.seoul.kr/asan/healthinfo/symptom/symptomList.do?searchFrmPartId=B0000010&symptomIds=SS000282', 'https://www.amc.seoul.kr/asan/healthinfo/symptom/symptomList.do?searchFrmPartId=B0000010&symptomIds=SS000283', 'https://www.amc.seoul.kr/asan/healthinfo/symptom/symptomList.do?searchFrmPartId=B0000010&symptomIds=SS000284', 'https://www.amc.seoul.kr/asan/healthinfo/symptom/symptomList.do?searchFrmPartId=B0000010&symptomIds=SS000285', 'https://www.amc.seoul.kr/asan/healthinfo/symptom/symptomList.do?searchFrmPartId=B0000010&symptomIds=SS000286', 'https://www.amc.seoul.kr/asan/healthinfo/symptom/symptomList.do?searchFrmPartId=B0000010&symptomIds=SS000287', 'https://www.amc.seoul.kr/asan/healthinfo/symptom/symptomList.do?searchFrmPartId=B0000010&symptomIds=SS000288', 'https://www.amc.seoul.kr/asan/healthinfo/symptom/symptomList.do?searchFrmPartId=B0000010&symptomIds=SS000289', 'https://www.amc.seoul.kr/asan/healthinfo/symptom/symptomList.do?searchFrmPartId=B0000010&symptomIds=SS000292', 'https://www.amc.seoul.kr/asan/healthinfo/symptom/symptomList.do?searchFrmPartId=B0000010&symptomIds=SS000293', 'https://www.amc.seoul.kr/asan/healthinfo/symptom/symptomList.do?searchFrmPartId=B0000010&symptomIds=SS000294', 'https://www.amc.seoul.kr/asan/healthinfo/symptom/symptomList.do?searchFrmPartId=B0000010&symptomIds=SS000295', 'https://www.amc.seoul.kr/asan/healthinfo/symptom/symptomList.do?searchFrmPartId=B0000010&symptomIds=SS000296', 'https://www.amc.seoul.kr/asan/healthinfo/symptom/symptomList.do?searchFrmPartId=B0000010&symptomIds=SS000297', 'https://www.amc.seoul.kr/asan/healthinfo/symptom/symptomList.do?searchFrmPartId=B0000010&symptomIds=SS000298', 'https://www.amc.seoul.kr/asan/healthinfo/symptom/symptomList.do?searchFrmPartId=B0000010&symptomIds=SS000299', 'https://www.amc.seoul.kr/asan/healthinfo/symptom/symptomList.do?searchFrmPartId=B0000010&symptomIds=SS000302', 'https://www.amc.seoul.kr/asan/healthinfo/symptom/symptomList.do?searchFrmPartId=B0000010&symptomIds=SS000303', 'https://www.amc.seoul.kr/asan/healthinfo/symptom/symptomList.do?searchFrmPartId=B0000010&symptomIds=SS000304', 'https://www.amc.seoul.kr/asan/healthinfo/symptom/symptomList.do?searchFrmPartId=B0000010&symptomIds=SS00958', 'https://www.amc.seoul.kr/asan/healthinfo/symptom/symptomList.do?searchFrmPartId=B0000010&symptomIds=SS000305', 'https://www.amc.seoul.kr/asan/healthinfo/symptom/symptomList.do?searchFrmPartId=B0000010&symptomIds=SS000737', 'https://www.amc.seoul.kr/asan/healthinfo/symptom/symptomList.do?searchFrmPartId=B0000010&symptomIds=SS000306', 'https://www.amc.seoul.kr/asan/healthinfo/symptom/symptomList.do?searchFrmPartId=B0000010&symptomIds=SS000307', 'https://www.amc.seoul.kr/asan/healthinfo/symptom/symptomList.do?searchFrmPartId=B0000010&symptomIds=SS000308', 'https://www.amc.seoul.kr/asan/healthinfo/symptom/symptomList.do?searchFrmPartId=B0000010&symptomIds=SS000309', 'https://www.amc.seoul.kr/asan/healthinfo/symptom/symptomList.do?searchFrmPartId=B0000010&symptomIds=SS000310', 'https://www.amc.seoul.kr/asan/healthinfo/symptom/symptomList.do?searchFrmPartId=B0000010&symptomIds=SS000312', 'https://www.amc.seoul.kr/asan/healthinfo/symptom/symptomList.do?searchFrmPartId=B0000010&symptomIds=SS000313', 'https://www.amc.seoul.kr/asan/healthinfo/symptom/symptomList.do?searchFrmPartId=B0000010&symptomIds=SS000315', 'https://www.amc.seoul.kr/asan/healthinfo/symptom/symptomList.do?searchFrmPartId=B0000010&symptomIds=SS000316', 'https://www.amc.seoul.kr/asan/healthinfo/symptom/symptomList.do?searchFrmPartId=B0000010&symptomIds=SS000318', 'https://www.amc.seoul.kr/asan/healthinfo/symptom/symptomList.do?searchFrmPartId=B0000010&symptomIds=SS000319', 'https://www.amc.seoul.kr/asan/healthinfo/symptom/symptomList.do?searchFrmPartId=B0000010&symptomIds=SS000320', 'https://www.amc.seoul.kr/asan/healthinfo/symptom/symptomList.do?searchFrmPartId=B0000010&symptomIds=SS000321', 'https://www.amc.seoul.kr/asan/healthinfo/symptom/symptomList.do?searchFrmPartId=B0000010&symptomIds=SS000322', 'https://www.amc.seoul.kr/asan/healthinfo/symptom/symptomList.do?searchFrmPartId=B0000010&symptomIds=SS000323', 'https://www.amc.seoul.kr/asan/healthinfo/symptom/symptomList.do?searchFrmPartId=B0000010&symptomIds=SS000325', 'https://www.amc.seoul.kr/asan/healthinfo/symptom/symptomList.do?searchFrmPartId=B0000010&symptomIds=SS000329', 'https://www.amc.seoul.kr/asan/healthinfo/symptom/symptomList.do?searchFrmPartId=B0000010&symptomIds=SS000332', 'https://www.amc.seoul.kr/asan/healthinfo/symptom/symptomList.do?searchFrmPartId=B0000010&symptomIds=SS000333', 'https://www.amc.seoul.kr/asan/healthinfo/symptom/symptomList.do?searchFrmPartId=B0000010&symptomIds=SS000335', 'https://www.amc.seoul.kr/asan/healthinfo/symptom/symptomList.do?searchFrmPartId=B0000010&symptomIds=SS000336', 'https://www.amc.seoul.kr/asan/healthinfo/symptom/symptomList.do?searchFrmPartId=B0000010&symptomIds=SS000337']\n",
      "개수:  54\n"
     ]
    }
   ],
   "source": [
    "# 각 증상 선택 결과 link\n",
    "res_links=[]\n",
    "for idx in head_symptoms:\n",
    "    res_link='https://www.amc.seoul.kr/asan/healthinfo/symptom/symptomList.do?searchFrmPartId=B0000010&symptomIds='+idx\n",
    "    res_links.append(res_link)\n",
    "print(res_links)\n",
    "print(\"개수: \", len(res_links))"
   ]
  },
  {
   "cell_type": "markdown",
   "id": "d8be8361",
   "metadata": {},
   "source": [
    "### 머리 증상별 예상 병명 (1개 조합)"
   ]
  },
  {
   "cell_type": "code",
   "execution_count": null,
   "id": "1d1f3007",
   "metadata": {},
   "outputs": [
    {
     "name": "stdout",
     "output_type": "stream",
     "text": [
      "dict_values(['광대뼈 위치 이상', '기억장애', '깨어나면 기억하지 못함', '납작한 코, 축 쳐진 귀', '낮 시간대의 졸음', '낮은 지능', '낮은 학업 성취', '놀람반사의 약화', '뇌압상승증상', '뇌염증상', '뇌출혈', '달모양의 둥근 얼굴', '두통', '두피 건조', '만성 부비동염', '머리모양 변형', '모발 탈색', '모발이 가늘어짐', '무의식', '박동성 통증', '방향감각 상실', '볼, 눈주위 움푹 꺼짐', '볼이 처짐', '비웃는 듯한 표정', '삐뚤어진 눈, 코, 입', '수막자극증상', '안면 변형', '안면마비', '안면부 출혈', '안면통', '안면홍조', '어지러움', '언어장애', '얼굴 중심선이 안맞음', '얼굴 한쪽의 반점', '얼굴모양변화', '얼굴부종', '얼굴에 털이 자람', '얼굴의 나비모양 홍반', '얼굴이 화끈거림', '얼굴형태의 이상', '원형, 타원형의 탈모', '의식 변화', '의식 저하', '이마가 넓어짐', '이마의 주름', '이중턱', '졸림', '코 옆과 입꼬리 주름', '턱의 통증', '편두통', '학습장애', '혼돈', '혼수'])\n",
      "\n",
      "\n",
      "\n",
      "선택된 증상 이름:  광대뼈 위치 이상\n",
      "예상 질병 이름: ['두개 유합증(Craniosynostosis)', '안면 비대칭(Facial asymmetry)']\n",
      "\n",
      "선택된 증상 이름:  기억장애\n",
      "예상 질병 이름: ['거대적혈모구빈혈(Megaloblastic anemia)', '경미한 인지장애(Mild cognitive impairment)', '광우병(Bovine spongiform encephalopathy)', '기억상실증(amnesia)', '노쇠(Frailty)', '만성 피로 증후군(Chronic Fatigue Syndrome)', '베르니케 코시코프 증후군(Wernicke-korsakoff syndrome)', '비중격 만곡(Nasal septal deviation)', '쇼그렌 증후군(Sicca syndrome (Sjogren))', '수두증(Hydrocephalus)', '아밀로이드증(Amyloidosis)', '악성 신경교종(Malignant Glioma)', \"알츠하이머병(Alzheimer's disease)\", '외상성 치매 (Traumatic dementia)', '외상에 의한 뇌 손상(Traumatic brain injury)', '자가면역 질환(autoimmune diseasse)', '잠금 증후군(Locked-in Syndrome)', '점액수종 혼수(Myxoedema coma)', '진주종(Cholesteatoma)', '치매(Dementia)']\n",
      "\n",
      "선택된 증상 이름:  깨어나면 기억하지 못함\n",
      "예상 질병 이름: ['수면보행증(Somnambulism)']\n",
      "\n",
      "선택된 증상 이름:  납작한 코, 축 쳐진 귀\n",
      "예상 질병 이름: ['다운 증후군 (Down syndrome)', '신장 이형성증(Renal dysplasia)']\n",
      "\n",
      "선택된 증상 이름:  낮 시간대의 졸음\n",
      "예상 질병 이름: ['기면증(Narcolepsy)', '수면 장애(Sleep Disorder)', '원충성 질환(PROTOZOAL DISEASES)', '춘곤증(spring fatigue)']\n",
      "\n",
      "선택된 증상 이름:  낮은 지능\n",
      "예상 질병 이름: ['니만-피크병(Niemann-Pick disease)', '반응성 애착장애(Reactive Attachment Disorder)', '행동 및 충동 장애(Disruptive, impulse-control and conduct disorders)']\n",
      "\n",
      "선택된 증상 이름:  낮은 학업 성취\n",
      "예상 질병 이름: ['인터넷 중독(Internet addiction)', '행동 및 충동 장애(Disruptive, impulse-control and conduct disorders)']\n",
      "\n",
      "선택된 증상 이름:  놀람반사의 약화\n",
      "예상 질병 이름: ['신생아 황달(Neonatal jaundice)']\n",
      "\n",
      "선택된 증상 이름:  뇌압상승증상\n",
      "예상 질병 이름: ['두통(Headache)', '생식선 및 생식 세포의 신생물(Gonadal and germ cell neoplasma)', '잠금 증후군(Locked-in Syndrome)']\n",
      "\n",
      "선택된 증상 이름:  뇌염증상\n",
      "예상 질병 이름: ['광견병(Rabies)', '라싸열(Lassa fever )']\n",
      "\n",
      "선택된 증상 이름:  뇌출혈\n",
      "예상 질병 이름: ['뇌 동정맥 기형(Cerebral arteriovenous malformation)', '면역혈소판감소증(Immune thrombocytopenia)']\n",
      "\n",
      "선택된 증상 이름:  달모양의 둥근 얼굴\n",
      "예상 질병 이름: ['부신암(Adrenal gland cancer)', \"쿠싱 증후군(Cushing's syndrome)\"]\n",
      "\n",
      "선택된 증상 이름:  두통\n",
      "예상 질병 이름: ['VDT 증후군(Visual Display Terminal Syndrome)', '간염(Hepatitis)', '감염성 홍반(Erythema infectiosum)', '결핵성 수막염(Tuberculous meningitis)', '고산병(Mountain sickness)', '고혈압(Essential (primary) hypertension)', '골수염(Osteomyelitis)', '광견병(Rabies)', '교모세포종(Glioblastoma)', '근단 주위 농양(Periapical abscess with sinus)', '근시(Myopia)', '근육 긴장성 두통(Tension-type headache)', '금단 현상(Withdrawal Phenomenon)', '급성 신우신염(Acute pyelonephritis)', '급성 위장염(Acute gastroenteritis)', '급성 중이염(Acute otitis media)', '기뇌증(Pneumocephalus)', '난시(Astigmatism)', '납 중독(Lead Poisoning)', \"넬슨 증후군(Nelson's syndrome)\"]\n",
      "\n",
      "선택된 증상 이름:  두피 건조\n",
      "예상 질병 이름: ['비듬(Dandruff)']\n",
      "\n",
      "선택된 증상 이름:  만성 부비동염\n",
      "예상 질병 이름: ['아데노이드의 비대를 동반한 편도의 비대(Hypertrophy of tonsils with hypertrophy of adenoids)']\n",
      "\n",
      "선택된 증상 이름:  머리모양 변형\n",
      "예상 질병 이름: ['댄디워커 증후군(Dandy-Walker syndrome)', '두개 안면 부조화(Craniofacial dysharmony)', '두개 유합증(Craniosynostosis)']\n",
      "\n",
      "선택된 증상 이름:  모발 탈색\n",
      "예상 질병 이름: ['바르덴부르크 증후군(Waardenburg syndrome)', '백반증(Vitiligo)', '선천성 색소결핍증(Congenital Albinism)', '조로증(progeria)']\n",
      "\n",
      "선택된 증상 이름:  모발이 가늘어짐\n",
      "예상 질병 이름: ['탈모증(Alopecia)']\n",
      "\n",
      "선택된 증상 이름:  무의식\n",
      "예상 질병 이름: ['뇌사(brain death)', '혼수(Coma)']\n",
      "\n",
      "선택된 증상 이름:  박동성 통증\n",
      "예상 질병 이름: ['뇌 동정맥 기형(Cerebral arteriovenous malformation)', '두통(Headache)', '편두통(Migraine)']\n",
      "\n",
      "선택된 증상 이름:  방향감각 상실\n",
      "예상 질병 이름: ['뇌염(Encephalitis)', \"알츠하이머병(Alzheimer's disease)\", '크로이츠펠트-야콥병(Creutzfeldt-Jakob disease)']\n",
      "\n",
      "선택된 증상 이름:  볼, 눈주위 움푹 꺼짐\n",
      "예상 질병 이름: ['노화된 얼굴(Aging face)']\n",
      "\n",
      "선택된 증상 이름:  볼이 처짐\n",
      "예상 질병 이름: ['노화된 얼굴(Aging face)']\n",
      "\n",
      "선택된 증상 이름:  비웃는 듯한 표정\n",
      "예상 질병 이름: ['파상풍(Tetanus)']\n",
      "\n",
      "선택된 증상 이름:  삐뚤어진 눈, 코, 입\n",
      "예상 질병 이름: ['안면 비대칭(Facial asymmetry)']\n",
      "\n",
      "선택된 증상 이름:  수막자극증상\n",
      "예상 질병 이름: ['렙토스피라증(Leptospirosis)']\n",
      "\n",
      "선택된 증상 이름:  안면 변형\n",
      "예상 질병 이름: ['다운 증후군 (Down syndrome)', '무치아증(Anodontia)', '선천성 사경(Congenital (sternomastoid) torticollis)', '에드워드 증후군 (Edwards syndrome)', '크루존 증후군(Crouzon syndrome)']\n",
      "\n",
      "선택된 증상 이름:  안면마비\n",
      "예상 질병 이름: ['길랑-바레 증후군(Guillain-Barre Syndrome)', '모야모야병(Moyamoya disease)', '신경초종(Schwannoma)', '안면 마비(Facial palsy)', '일과성 뇌허혈증(Transient cerebral ischemia)', '타액선암(Malignant neoplasm of salivary glands)']\n",
      "\n",
      "선택된 증상 이름:  안면부 출혈\n",
      "예상 질병 이름: ['안면 골절(Facial bone fracture)']\n",
      "\n",
      "선택된 증상 이름:  안면통\n",
      "예상 질병 이름: ['만성 부비동염(Chronic rhinosinusitis)']\n",
      "\n",
      "선택된 증상 이름:  안면홍조\n",
      "예상 질병 이름: ['감염성 홍반(Erythema infectiosum)', '골수증식종양(Myeloproliferative neoplasm)', '성선기능저하증(Hypogonadism)', '소장암(Small bowel cancer)', '신경모세포종(Neuroblastoma)', '신생아 다혈구증(Polycythemia)', '조기 폐경(Premature ovarian failure)', '카르시노이드 증후군(Carcinoid syndrome)', '폐경(Menopause)', '폐경기 및 여성의 갱년기 상태(Menopausal and female climacteric states)']\n",
      "\n",
      "선택된 증상 이름:  어지러움\n",
      "예상 질병 이름: ['갈색세포종(Pheochromocytoma)', '감각신경성 난청(Sensorineural hearing loss)', '거북목 증후군(Turtle neck syndrome)', '경동맥 협착증(Carotid artery stenosis)', '고산병(Mountain sickness)', '고혈압(Essential (primary) hypertension)', '공황 장애(Panic disorder)', '과다월경(Hypermenorrhea)', '급성 관동맥 증후군(Acute Coronary Syndrome)', '기뇌증(Pneumocephalus)', '난청(hearing loss)', '노쇠(Frailty)', '뇌경색(Cerebral infarction)', '뇌졸중(Cerebrovascular disease)', '뇌출혈(Cerebral hemorrhage)', '덤핑 증후군(Dumping syndrome)', '동기능 부전 증후군(Sick sinus syndrome)', '만성 중이염(Chronic otitis media)', \"메니에르병(Meniere's disease)\", '미로염(Labyrinthitis)']\n",
      "\n",
      "선택된 증상 이름:  언어장애\n",
      "예상 질병 이름: ['경동맥 협착증(Carotid artery stenosis)', '경미한 인지장애(Mild cognitive impairment)', '근위축성 측색 경화증(Amyotrophic lateral sclerosis)', '근육긴장이상증(Dystonia)', '기뇌증(Pneumocephalus)', '뇌경색(Cerebral infarction)', '뇌동맥 폐쇄(Occlusion of cerebral artery)', '뇌졸중(Cerebrovascular disease)', '단순 포진성 뇌염(Herpes simplex encephalitis)', '두개 안면 부조화(Craniofacial dysharmony)', '루빈스타인 테이비 증후군 (Rubinstein-Taybi syndrome)', '모야모야병(Moyamoya disease)', '섬망(Delirium)', '수막종(Meningioma)', '실어증(Aphasia)', \"알츠하이머병(Alzheimer's disease)\", '외상성 치매 (Traumatic dementia)', '일과성 뇌허혈증(Transient cerebral ischemia)', '자폐증 / 자폐 스펙트럼 장애(Autism spectrum disorder)', '잠금 증후군(Locked-in Syndrome)']\n",
      "\n",
      "선택된 증상 이름:  얼굴 중심선이 안맞음\n",
      "예상 질병 이름: ['안면 비대칭(Facial asymmetry)']\n",
      "\n",
      "선택된 증상 이름:  얼굴 한쪽의 반점\n",
      "예상 질병 이름: ['오타 모반(Ota like Melanosis)']\n",
      "\n",
      "선택된 증상 이름:  얼굴모양변화\n",
      "예상 질병 이름: ['4번 염색체 단완결실 증후군(Wolf-Hirschhorn syndrome)', '조로증(progeria)', '지중해빈혈(Thalassemia)', '치열 궁 관계 이상(Anomalies of dental arch relationship)', '턱뼈 성장 이상(Anomalies of the jaw)']\n",
      "\n",
      "선택된 증상 이름:  얼굴부종\n",
      "예상 질병 이름: ['뇌하수체 기능 항진(Hyperfunction of pituitary gland)', '라싸열(Lassa fever )', '신경모세포종(Neuroblastoma)', '신부전(Renal failure)', '안와 골절(orbital fracture)', '침샘염(Sialoadenitis)', '혈관부종(Angioedema)']\n",
      "\n"
     ]
    }
   ],
   "source": [
    "sympt_names=head_symptoms.values()\n",
    "print(sympt_names)\n",
    "print(\"\\n\\n\")\n",
    "\n",
    "i=0\n",
    "for idx in head_symptoms:\n",
    "    sympt_res_html=urlopen(res_links[i])     # 추린 내용\n",
    "    i=i+1\n",
    "    sympt_res_Object=BeautifulSoup(sympt_res_html, \"html.parser\")\n",
    "    # print(sympt_res_Object)\n",
    "    \n",
    "    # symptom result link의 상세 정보\n",
    "    symptom_res_link_data=sympt_res_Object.body.find_all(\"strong\", {\"class\":\"contTitle\"})\n",
    "    print('선택된 증상 이름: ', head_symptoms[idx])   # ㅣist(belly_symptoms.values())[0]\n",
    "    res_names=[]\n",
    "    for j in range(len(symptom_res_link_data)):\n",
    "        # name=symptom_link_data[i].get_text()\n",
    "        res_names.append(symptom_res_link_data[j].get_text().strip())\n",
    "    print('예상 질병 이름: ', end='')\n",
    "    print(res_names)\n",
    "    print()"
   ]
  },
  {
   "cell_type": "code",
   "execution_count": null,
   "id": "42fb34e3",
   "metadata": {},
   "outputs": [],
   "source": []
  }
 ],
 "metadata": {
  "kernelspec": {
   "display_name": "Python 3 (ipykernel)",
   "language": "python",
   "name": "python3"
  },
  "language_info": {
   "codemirror_mode": {
    "name": "ipython",
    "version": 3
   },
   "file_extension": ".py",
   "mimetype": "text/x-python",
   "name": "python",
   "nbconvert_exporter": "python",
   "pygments_lexer": "ipython3",
   "version": "3.7.6"
  }
 },
 "nbformat": 4,
 "nbformat_minor": 5
}
