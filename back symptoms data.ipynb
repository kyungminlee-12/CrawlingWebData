{
 "cells": [
  {
   "cell_type": "code",
   "execution_count": 1,
   "id": "cf4f0262",
   "metadata": {},
   "outputs": [],
   "source": [
    "from urllib.request import urlopen\n",
    "from bs4 import BeautifulSoup\n",
    "\n",
    "asan_html=urlopen(\"https://www.amc.seoul.kr/asan/healthinfo/symptom/symptomSubmain.do?partId=B000006\")\n",
    "bsObject=BeautifulSoup(asan_html, \"html.parser\")"
   ]
  },
  {
   "cell_type": "code",
   "execution_count": 2,
   "id": "75a7d0df",
   "metadata": {},
   "outputs": [],
   "source": [
    "# symptom link의 상세 정보\n",
    "symptom_link_data=bsObject.body.find(\"div\", {\"class\":\"searchCont\"}).find_all('a')"
   ]
  },
  {
   "cell_type": "code",
   "execution_count": 3,
   "id": "fdcbdd17",
   "metadata": {},
   "outputs": [
    {
     "name": "stdout",
     "output_type": "stream",
     "text": [
      "['https://www.amc.seoul.kr/asan/healthinfo/symptom/symptomDetail.do?symptomId=SS000779', 'https://www.amc.seoul.kr/asan/healthinfo/symptom/symptomDetail.do?symptomId=SS000258', 'https://www.amc.seoul.kr/asan/healthinfo/symptom/symptomDetail.do?symptomId=SS000255', 'https://www.amc.seoul.kr/asan/healthinfo/symptom/symptomDetail.do?symptomId=SS000259', 'https://www.amc.seoul.kr/asan/healthinfo/symptom/symptomDetail.do?symptomId=SS000263', 'https://www.amc.seoul.kr/asan/healthinfo/symptom/symptomDetail.do?symptomId=SS000260', 'https://www.amc.seoul.kr/asan/healthinfo/symptom/symptomDetail.do?symptomId=SS000261', 'https://www.amc.seoul.kr/asan/healthinfo/symptom/symptomDetail.do?symptomId=SS000262']\n"
     ]
    }
   ],
   "source": [
    "# 증상 링크\n",
    "symptom_def_urls=[]\n",
    "for i in range(len(symptom_link_data)):\n",
    "    link=symptom_link_data[i].get('href')\n",
    "    symptom_def_urls.append('https://www.amc.seoul.kr'+link)\n",
    "print(symptom_def_urls)"
   ]
  },
  {
   "cell_type": "code",
   "execution_count": 4,
   "id": "20036be2",
   "metadata": {},
   "outputs": [
    {
     "name": "stdout",
     "output_type": "stream",
     "text": [
      "['관절통', '굽은 등', '뼈의 기형', '요통', '자세이상', '척추 측만', '척추 후만', '척추와 허리 디스크']\n"
     ]
    }
   ],
   "source": [
    "# 증상 이름 \n",
    "symptom_names=[]\n",
    "for i in range(len(symptom_link_data)):\n",
    "    name=symptom_link_data[i].get_text()\n",
    "    symptom_names.append(name)\n",
    "print(symptom_names)"
   ]
  },
  {
   "cell_type": "code",
   "execution_count": 5,
   "id": "839419f0",
   "metadata": {},
   "outputs": [
    {
     "name": "stdout",
     "output_type": "stream",
     "text": [
      "['SS000779', 'SS000258', 'SS000255', 'SS000259', 'SS000263', 'SS000260', 'SS000261', 'SS000262']\n"
     ]
    }
   ],
   "source": [
    "# 증상 id\n",
    "symptom_ids=[]\n",
    "for i in range(len(symptom_link_data)):\n",
    "    id_name=\"cont1_\"+str(i+1)\n",
    "    symptom_id=bsObject.body.find(\"input\", {'id':id_name}).get('value')\n",
    "    symptom_ids.append(symptom_id)\n",
    "print(symptom_ids)"
   ]
  },
  {
   "cell_type": "code",
   "execution_count": 6,
   "id": "07b6bf01",
   "metadata": {},
   "outputs": [
    {
     "name": "stdout",
     "output_type": "stream",
     "text": [
      "증상 수: 8\n",
      "{'SS000779': '관절통', 'SS000258': '굽은 등', 'SS000255': '뼈의 기형', 'SS000259': '요통', 'SS000263': '자세이상', 'SS000260': '척추 측만', 'SS000261': '척추 후만', 'SS000262': '척추와 허리 디스크'}\n"
     ]
    }
   ],
   "source": [
    "back_symptoms = dict(zip(symptom_ids, symptom_names))\n",
    "print('증상 수:',len(back_symptoms))\n",
    "print(back_symptoms)"
   ]
  },
  {
   "cell_type": "code",
   "execution_count": 7,
   "id": "e3f53cff",
   "metadata": {},
   "outputs": [],
   "source": [
    "# 불필요 데이터 pop"
   ]
  },
  {
   "cell_type": "code",
   "execution_count": 10,
   "id": "916f1fba",
   "metadata": {},
   "outputs": [
    {
     "name": "stdout",
     "output_type": "stream",
     "text": [
      "['https://www.amc.seoul.kr/asan/healthinfo/symptom/symptomList.do?searchFrmPartId=B000006&symptomIds=SS000779', 'https://www.amc.seoul.kr/asan/healthinfo/symptom/symptomList.do?searchFrmPartId=B000006&symptomIds=SS000258', 'https://www.amc.seoul.kr/asan/healthinfo/symptom/symptomList.do?searchFrmPartId=B000006&symptomIds=SS000255', 'https://www.amc.seoul.kr/asan/healthinfo/symptom/symptomList.do?searchFrmPartId=B000006&symptomIds=SS000259', 'https://www.amc.seoul.kr/asan/healthinfo/symptom/symptomList.do?searchFrmPartId=B000006&symptomIds=SS000263', 'https://www.amc.seoul.kr/asan/healthinfo/symptom/symptomList.do?searchFrmPartId=B000006&symptomIds=SS000260', 'https://www.amc.seoul.kr/asan/healthinfo/symptom/symptomList.do?searchFrmPartId=B000006&symptomIds=SS000261', 'https://www.amc.seoul.kr/asan/healthinfo/symptom/symptomList.do?searchFrmPartId=B000006&symptomIds=SS000262']\n",
      "개수:  8\n"
     ]
    }
   ],
   "source": [
    "# 각 증상 선택 결과 link\n",
    "res_links=[]\n",
    "for idx in back_symptoms:\n",
    "    res_link='https://www.amc.seoul.kr/asan/healthinfo/symptom/symptomList.do?searchFrmPartId=B000006&symptomIds='+idx\n",
    "    res_links.append(res_link)\n",
    "print(res_links)\n",
    "print(\"개수: \", len(res_links))"
   ]
  },
  {
   "cell_type": "code",
   "execution_count": 11,
   "id": "5257abef",
   "metadata": {},
   "outputs": [
    {
     "name": "stdout",
     "output_type": "stream",
     "text": [
      "dict_values(['관절통', '굽은 등', '뼈의 기형', '요통', '자세이상', '척추 측만', '척추 후만', '척추와 허리 디스크'])\n",
      "\n",
      "\n",
      "\n",
      "선택된 증상 이름:  관절통\n",
      "예상 질병 이름: ['간염(Hepatitis)', '강직성 척추염(Ankylosing spondylitis)', '결절성 다발동맥염(Polyarteritis nodosa)', '결핵성 골수염(Tuberculous osteomyelitis)', '골관절염(Osteoarthritis)', '골다공증(Osteoporosis)', '급성 간질성 신염(Acute tubulo-interstitial nephritis)', '급성 바이러스성 간염(Acute viral hepatitis)', '기쿠치병(Kikuchi Disease)', '뎅기열(Dengue fever)', '독성 간염(Toxic hepatitis)', '라임병(Lyme disease)', '류마티스 관절염(Rheumatoid arthritis)', '만성 B형 간염(Chronic hepatitis B)', '반월판 연골손상(Tear of meniscus)', '비만(Obesity)', '산후 갑상선염(Postpartum thyroiditis)', '성인형 스틸병(Adult-Onset Stills disease)', '소아 류마티스 관절염(Juvenile rheumatoid arthritis)', '아밀로이드증(Amyloidosis)']\n",
      "\n",
      "선택된 증상 이름:  굽은 등\n",
      "예상 질병 이름: ['VDT 증후군(Visual Display Terminal Syndrome)', '구루병(Rickets)', '노인성 척추후만증(Senile Kyphosis)', '척수수막류(Myelomeningoceles)', '척추측만증(Scoliosis)']\n",
      "\n",
      "선택된 증상 이름:  뼈의 기형\n",
      "예상 질병 이름: ['구루병(Rickets)']\n",
      "\n",
      "선택된 증상 이름:  요통\n",
      "예상 질병 이름: ['강직성 척추염(Ankylosing spondylitis)', '급성 간질성 신염(Acute tubulo-interstitial nephritis)', '급성 신우신염(Acute pyelonephritis)', '난소암(Ovarian cancer)', '난소의 양성 종양(Benign ovary tumor)', '노인성 척추후만증(Senile Kyphosis)', '대동맥 박리(Aortic dissection)', '복부 대동맥류(Abdominal aortic Aneurysm)', '복압성 요실금(Stress urinary incontinence)', '섬유근육통(Fibromyalgia)', '소장암(Small bowel cancer)', '신경근병증(Radiculopathy)', '신우요관암(Renal pelvis cancer)', '요근 농양(Psoas abscess)', '요족(Cavus foot)', '요추 전방전위증(Lumbar spondylolisthesis)', '요추 추간판 탈출증(Herniation of intervertebral disk)', '요추관 협착증(Lumbar spinal stenosis)', '원발성 월경곤란(Primary dysmenorrhea)', '월경전 증후군(Premenstrual syndrome)']\n",
      "\n",
      "선택된 증상 이름:  자세이상\n",
      "예상 질병 이름: ['비정형 파킨슨 증후군(Atypical Parkinsonism)', '요추 전방전위증(Lumbar spondylolisthesis)', '척수수막류(Myelomeningoceles)', \"파킨슨병(Parkinson's disease)\"]\n",
      "\n",
      "선택된 증상 이름:  척추 측만\n",
      "예상 질병 이름: ['22번 염색체 장완 미세결실 증후군(CATCH22)', '근육병(Myopathy)', '스티클러 증후군(Stickler syndrome)', '신경섬유종(Neurofibromatosis)', '연골무형성증(Achondroplasia)']\n",
      "\n",
      "선택된 증상 이름:  척추 후만\n",
      "예상 질병 이름: ['골다공증(Osteoporosis)', '스티클러 증후군(Stickler syndrome)', '슬라이 증후군(Sly Syndrome)', '연골무형성증(Achondroplasia)']\n",
      "\n",
      "선택된 증상 이름:  척추와 허리 디스크\n",
      "예상 질병 이름: ['무지외반증(Hallux valgus)']\n",
      "\n"
     ]
    }
   ],
   "source": [
    "sympt_names=back_symptoms.values()\n",
    "print(sympt_names)\n",
    "print(\"\\n\\n\")\n",
    "\n",
    "i=0\n",
    "for idx in back_symptoms:\n",
    "    sympt_res_html=urlopen(res_links[i])     # 추린 내용\n",
    "    i=i+1\n",
    "    sympt_res_Object=BeautifulSoup(sympt_res_html, \"html.parser\")\n",
    "    # print(sympt_res_Object)\n",
    "    \n",
    "    # symptom result link의 상세 정보\n",
    "    symptom_res_link_data=sympt_res_Object.body.find_all(\"strong\", {\"class\":\"contTitle\"})\n",
    "    print('선택된 증상 이름: ', back_symptoms[idx])   # ㅣist(belly_symptoms.values())[0]\n",
    "    res_names=[]\n",
    "    for j in range(len(symptom_res_link_data)):\n",
    "        # name=symptom_link_data[i].get_text()\n",
    "        res_names.append(symptom_res_link_data[j].get_text().strip())\n",
    "    print('예상 질병 이름: ', end='')\n",
    "    print(res_names)\n",
    "    print()"
   ]
  },
  {
   "cell_type": "code",
   "execution_count": null,
   "id": "eeb696a6",
   "metadata": {},
   "outputs": [],
   "source": []
  }
 ],
 "metadata": {
  "kernelspec": {
   "display_name": "Python 3 (ipykernel)",
   "language": "python",
   "name": "python3"
  },
  "language_info": {
   "codemirror_mode": {
    "name": "ipython",
    "version": 3
   },
   "file_extension": ".py",
   "mimetype": "text/x-python",
   "name": "python",
   "nbconvert_exporter": "python",
   "pygments_lexer": "ipython3",
   "version": "3.7.6"
  }
 },
 "nbformat": 4,
 "nbformat_minor": 5
}
