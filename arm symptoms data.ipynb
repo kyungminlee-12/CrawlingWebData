{
 "cells": [
  {
   "cell_type": "code",
   "execution_count": 1,
   "id": "413ed8f3",
   "metadata": {},
   "outputs": [],
   "source": [
    "from urllib.request import urlopen\n",
    "from bs4 import BeautifulSoup\n",
    "\n",
    "asan_html=urlopen(\"https://www.amc.seoul.kr/asan/healthinfo/symptom/symptomSubmain.do?partId=B000018\")\n",
    "bsObject=BeautifulSoup(asan_html, \"html.parser\")"
   ]
  },
  {
   "cell_type": "code",
   "execution_count": 2,
   "id": "df53afa2",
   "metadata": {},
   "outputs": [],
   "source": [
    "# symptom link의 상세 정보\n",
    "symptom_link_data=bsObject.body.find(\"div\", {\"class\":\"searchCont\"}).find_all('a')"
   ]
  },
  {
   "cell_type": "code",
   "execution_count": 3,
   "id": "8620c9dc",
   "metadata": {},
   "outputs": [
    {
     "name": "stdout",
     "output_type": "stream",
     "text": [
      "['https://www.amc.seoul.kr/asan/healthinfo/symptom/symptomDetail.do?symptomId=SS000761', 'https://www.amc.seoul.kr/asan/healthinfo/symptom/symptomDetail.do?symptomId=SS000738', 'https://www.amc.seoul.kr/asan/healthinfo/symptom/symptomDetail.do?symptomId=SS000762', 'https://www.amc.seoul.kr/asan/healthinfo/symptom/symptomDetail.do?symptomId=SS000779', 'https://www.amc.seoul.kr/asan/healthinfo/symptom/symptomDetail.do?symptomId=SS000763', 'https://www.amc.seoul.kr/asan/healthinfo/symptom/symptomDetail.do?symptomId=SS000752', 'https://www.amc.seoul.kr/asan/healthinfo/symptom/symptomDetail.do?symptomId=SS000764', 'https://www.amc.seoul.kr/asan/healthinfo/symptom/symptomDetail.do?symptomId=SS000765', 'https://www.amc.seoul.kr/asan/healthinfo/symptom/symptomDetail.do?symptomId=SS000766', 'https://www.amc.seoul.kr/asan/healthinfo/symptom/symptomDetail.do?symptomId=SS000767', 'https://www.amc.seoul.kr/asan/healthinfo/symptom/symptomDetail.do?symptomId=SS000240', 'https://www.amc.seoul.kr/asan/healthinfo/symptom/symptomDetail.do?symptomId=SS000768', 'https://www.amc.seoul.kr/asan/healthinfo/symptom/symptomDetail.do?symptomId=SS000739', 'https://www.amc.seoul.kr/asan/healthinfo/symptom/symptomDetail.do?symptomId=SS000769', 'https://www.amc.seoul.kr/asan/healthinfo/symptom/symptomDetail.do?symptomId=SS000770', 'https://www.amc.seoul.kr/asan/healthinfo/symptom/symptomDetail.do?symptomId=SS000771', 'https://www.amc.seoul.kr/asan/healthinfo/symptom/symptomDetail.do?symptomId=SS000772', 'https://www.amc.seoul.kr/asan/healthinfo/symptom/symptomDetail.do?symptomId=SS000753', 'https://www.amc.seoul.kr/asan/healthinfo/symptom/symptomDetail.do?symptomId=SS000773', 'https://www.amc.seoul.kr/asan/healthinfo/symptom/symptomDetail.do?symptomId=SS000774', 'https://www.amc.seoul.kr/asan/healthinfo/symptom/symptomDetail.do?symptomId=SS000439', 'https://www.amc.seoul.kr/asan/healthinfo/symptom/symptomDetail.do?symptomId=SS000754', 'https://www.amc.seoul.kr/asan/healthinfo/symptom/symptomDetail.do?symptomId=SS000755', 'https://www.amc.seoul.kr/asan/healthinfo/symptom/symptomDetail.do?symptomId=SS000756', 'https://www.amc.seoul.kr/asan/healthinfo/symptom/symptomDetail.do?symptomId=SS000757', 'https://www.amc.seoul.kr/asan/healthinfo/symptom/symptomDetail.do?symptomId=SS000758', 'https://www.amc.seoul.kr/asan/healthinfo/symptom/symptomDetail.do?symptomId=SS000775', 'https://www.amc.seoul.kr/asan/healthinfo/symptom/symptomDetail.do?symptomId=SS000776', 'https://www.amc.seoul.kr/asan/healthinfo/symptom/symptomDetail.do?symptomId=SS000759', 'https://www.amc.seoul.kr/asan/healthinfo/symptom/symptomDetail.do?symptomId=SS000760', 'https://www.amc.seoul.kr/asan/healthinfo/symptom/symptomDetail.do?symptomId=SS000777', 'https://www.amc.seoul.kr/asan/healthinfo/symptom/symptomDetail.do?symptomId=SS000778']\n"
     ]
    }
   ],
   "source": [
    "# 증상 링크\n",
    "symptom_def_urls=[]\n",
    "for i in range(len(symptom_link_data)):\n",
    "    link=symptom_link_data[i].get('href')\n",
    "    symptom_def_urls.append('https://www.amc.seoul.kr'+link)\n",
    "print(symptom_def_urls)"
   ]
  },
  {
   "cell_type": "code",
   "execution_count": 4,
   "id": "7402305a",
   "metadata": {},
   "outputs": [
    {
     "name": "stdout",
     "output_type": "stream",
     "text": [
      "['가늘어지는 팔다리', '관절 운동성 감소', '관절의 경직', '관절통', '다발성 관절염', '동정맥루 잡음 약화', '말초부종', '말초의 허혈', '무감각', '무맥', '반신마비', '방사통', '뼈의 변형', '사지 마비', '사지 변형', '사지 부종', '사지의 창백한 현상', '상지 마비', '손상 부위 출혈', '손상부위 촉각 소실', '압통', '어깨 움직임의 제한', '어깨 잡음', '어깨근육 약화', '어깨의 통증', '옷 액와 부분 변색', '저림', '파열부위 오목해짐', '팔의 길이가 달라짐', '팔의 통증', '편마비', '편측 사지의 감각소실']\n"
     ]
    }
   ],
   "source": [
    "# 증상 이름 \n",
    "symptom_names=[]\n",
    "for i in range(len(symptom_link_data)):\n",
    "    name=symptom_link_data[i].get_text()\n",
    "    symptom_names.append(name)\n",
    "print(symptom_names)"
   ]
  },
  {
   "cell_type": "code",
   "execution_count": 5,
   "id": "97bfa223",
   "metadata": {},
   "outputs": [
    {
     "name": "stdout",
     "output_type": "stream",
     "text": [
      "['SS000761', 'SS000738', 'SS000762', 'SS000779', 'SS000763', 'SS000752', 'SS000764', 'SS000765', 'SS000766', 'SS000767', 'SS000240', 'SS000768', 'SS000739', 'SS000769', 'SS000770', 'SS000771', 'SS000772', 'SS000753', 'SS000773', 'SS000774', 'SS000439', 'SS000754', 'SS000755', 'SS000756', 'SS000757', 'SS000758', 'SS000775', 'SS000776', 'SS000759', 'SS000760', 'SS000777', 'SS000778']\n"
     ]
    }
   ],
   "source": [
    "# 증상 id\n",
    "symptom_ids=[]\n",
    "for i in range(len(symptom_link_data)):\n",
    "    id_name=\"cont1_\"+str(i+1)\n",
    "    symptom_id=bsObject.body.find(\"input\", {'id':id_name}).get('value')\n",
    "    symptom_ids.append(symptom_id)\n",
    "print(symptom_ids)"
   ]
  },
  {
   "cell_type": "code",
   "execution_count": 6,
   "id": "eed00f6b",
   "metadata": {},
   "outputs": [
    {
     "name": "stdout",
     "output_type": "stream",
     "text": [
      "증상 수: 32\n",
      "{'SS000761': '가늘어지는 팔다리', 'SS000738': '관절 운동성 감소', 'SS000762': '관절의 경직', 'SS000779': '관절통', 'SS000763': '다발성 관절염', 'SS000752': '동정맥루 잡음 약화', 'SS000764': '말초부종', 'SS000765': '말초의 허혈', 'SS000766': '무감각', 'SS000767': '무맥', 'SS000240': '반신마비', 'SS000768': '방사통', 'SS000739': '뼈의 변형', 'SS000769': '사지 마비', 'SS000770': '사지 변형', 'SS000771': '사지 부종', 'SS000772': '사지의 창백한 현상', 'SS000753': '상지 마비', 'SS000773': '손상 부위 출혈', 'SS000774': '손상부위 촉각 소실', 'SS000439': '압통', 'SS000754': '어깨 움직임의 제한', 'SS000755': '어깨 잡음', 'SS000756': '어깨근육 약화', 'SS000757': '어깨의 통증', 'SS000758': '옷 액와 부분 변색', 'SS000775': '저림', 'SS000776': '파열부위 오목해짐', 'SS000759': '팔의 길이가 달라짐', 'SS000760': '팔의 통증', 'SS000777': '편마비', 'SS000778': '편측 사지의 감각소실'}\n"
     ]
    }
   ],
   "source": [
    "arm_symptoms = dict(zip(symptom_ids, symptom_names))\n",
    "print('증상 수:',len(arm_symptoms))\n",
    "print(arm_symptoms)"
   ]
  },
  {
   "cell_type": "code",
   "execution_count": 7,
   "id": "2c9b0ea4",
   "metadata": {},
   "outputs": [
    {
     "name": "stdout",
     "output_type": "stream",
     "text": [
      "증상 수: 25\n",
      "증상 수: {'SS000761': '가늘어지는 팔다리', 'SS000738': '관절 운동성 감소', 'SS000762': '관절의 경직', 'SS000779': '관절통', 'SS000766': '무감각', 'SS000767': '무맥', 'SS000240': '반신마비', 'SS000768': '방사통', 'SS000739': '뼈의 변형', 'SS000769': '사지 마비', 'SS000771': '사지 부종', 'SS000772': '사지의 창백한 현상', 'SS000753': '상지 마비', 'SS000773': '손상 부위 출혈', 'SS000774': '손상부위 촉각 소실', 'SS000439': '압통', 'SS000754': '어깨 움직임의 제한', 'SS000755': '어깨 잡음', 'SS000756': '어깨근육 약화', 'SS000757': '어깨의 통증', 'SS000758': '옷 액와 부분 변색', 'SS000775': '저림', 'SS000776': '파열부위 오목해짐', 'SS000759': '팔의 길이가 달라짐', 'SS000760': '팔의 통증'}\n"
     ]
    }
   ],
   "source": [
    "# pop\n",
    "arm_symptoms.pop('SS000763')  # 다발성 관절염\n",
    "arm_symptoms.pop('SS000752')  # 동정맥루 잡음 약화\n",
    "arm_symptoms.pop('SS000764')  # 말초부종\n",
    "arm_symptoms.pop('SS000765')  # 말초의 허혈\n",
    "\n",
    "\n",
    "arm_symptoms.pop('SS000777')  # 편마비\n",
    "arm_symptoms.pop('SS000778')  # 편측 사지의 감각소\n",
    "\n",
    "# 예상 병명 없는 증상 삭제\n",
    "arm_symptoms.pop('SS000770')  # 사지 변형\n",
    "\n",
    "print('증상 수:',len(arm_symptoms))\n",
    "print('증상 수:',arm_symptoms)"
   ]
  },
  {
   "cell_type": "code",
   "execution_count": 8,
   "id": "152050d5",
   "metadata": {},
   "outputs": [
    {
     "name": "stdout",
     "output_type": "stream",
     "text": [
      "['https://www.amc.seoul.kr/asan/healthinfo/symptom/symptomList.do?searchFrmPartId=B000018&symptomIds=SS000761', 'https://www.amc.seoul.kr/asan/healthinfo/symptom/symptomList.do?searchFrmPartId=B000018&symptomIds=SS000738', 'https://www.amc.seoul.kr/asan/healthinfo/symptom/symptomList.do?searchFrmPartId=B000018&symptomIds=SS000762', 'https://www.amc.seoul.kr/asan/healthinfo/symptom/symptomList.do?searchFrmPartId=B000018&symptomIds=SS000779', 'https://www.amc.seoul.kr/asan/healthinfo/symptom/symptomList.do?searchFrmPartId=B000018&symptomIds=SS000766', 'https://www.amc.seoul.kr/asan/healthinfo/symptom/symptomList.do?searchFrmPartId=B000018&symptomIds=SS000767', 'https://www.amc.seoul.kr/asan/healthinfo/symptom/symptomList.do?searchFrmPartId=B000018&symptomIds=SS000240', 'https://www.amc.seoul.kr/asan/healthinfo/symptom/symptomList.do?searchFrmPartId=B000018&symptomIds=SS000768', 'https://www.amc.seoul.kr/asan/healthinfo/symptom/symptomList.do?searchFrmPartId=B000018&symptomIds=SS000739', 'https://www.amc.seoul.kr/asan/healthinfo/symptom/symptomList.do?searchFrmPartId=B000018&symptomIds=SS000769', 'https://www.amc.seoul.kr/asan/healthinfo/symptom/symptomList.do?searchFrmPartId=B000018&symptomIds=SS000771', 'https://www.amc.seoul.kr/asan/healthinfo/symptom/symptomList.do?searchFrmPartId=B000018&symptomIds=SS000772', 'https://www.amc.seoul.kr/asan/healthinfo/symptom/symptomList.do?searchFrmPartId=B000018&symptomIds=SS000753', 'https://www.amc.seoul.kr/asan/healthinfo/symptom/symptomList.do?searchFrmPartId=B000018&symptomIds=SS000773', 'https://www.amc.seoul.kr/asan/healthinfo/symptom/symptomList.do?searchFrmPartId=B000018&symptomIds=SS000774', 'https://www.amc.seoul.kr/asan/healthinfo/symptom/symptomList.do?searchFrmPartId=B000018&symptomIds=SS000439', 'https://www.amc.seoul.kr/asan/healthinfo/symptom/symptomList.do?searchFrmPartId=B000018&symptomIds=SS000754', 'https://www.amc.seoul.kr/asan/healthinfo/symptom/symptomList.do?searchFrmPartId=B000018&symptomIds=SS000755', 'https://www.amc.seoul.kr/asan/healthinfo/symptom/symptomList.do?searchFrmPartId=B000018&symptomIds=SS000756', 'https://www.amc.seoul.kr/asan/healthinfo/symptom/symptomList.do?searchFrmPartId=B000018&symptomIds=SS000757', 'https://www.amc.seoul.kr/asan/healthinfo/symptom/symptomList.do?searchFrmPartId=B000018&symptomIds=SS000758', 'https://www.amc.seoul.kr/asan/healthinfo/symptom/symptomList.do?searchFrmPartId=B000018&symptomIds=SS000775', 'https://www.amc.seoul.kr/asan/healthinfo/symptom/symptomList.do?searchFrmPartId=B000018&symptomIds=SS000776', 'https://www.amc.seoul.kr/asan/healthinfo/symptom/symptomList.do?searchFrmPartId=B000018&symptomIds=SS000759', 'https://www.amc.seoul.kr/asan/healthinfo/symptom/symptomList.do?searchFrmPartId=B000018&symptomIds=SS000760']\n",
      "개수:  25\n"
     ]
    }
   ],
   "source": [
    "# 각 증상 선택 결과 link\n",
    "res_links=[]\n",
    "for idx in arm_symptoms:\n",
    "    res_link='https://www.amc.seoul.kr/asan/healthinfo/symptom/symptomList.do?searchFrmPartId=B000018&symptomIds='+idx\n",
    "    res_links.append(res_link)\n",
    "print(res_links)\n",
    "print(\"개수: \", len(res_links))"
   ]
  },
  {
   "cell_type": "markdown",
   "id": "59db0a6f",
   "metadata": {},
   "source": [
    "### 팔 증상별 예상 병명 1개 조합"
   ]
  },
  {
   "cell_type": "code",
   "execution_count": 9,
   "id": "cf2530bf",
   "metadata": {},
   "outputs": [
    {
     "name": "stdout",
     "output_type": "stream",
     "text": [
      "dict_values(['가늘어지는 팔다리', '관절 운동성 감소', '관절의 경직', '관절통', '무감각', '무맥', '반신마비', '방사통', '뼈의 변형', '사지 마비', '사지 부종', '사지의 창백한 현상', '상지 마비', '손상 부위 출혈', '손상부위 촉각 소실', '압통', '어깨 움직임의 제한', '어깨 잡음', '어깨근육 약화', '어깨의 통증', '옷 액와 부분 변색', '저림', '파열부위 오목해짐', '팔의 길이가 달라짐', '팔의 통증'])\n",
      "\n",
      "\n",
      "\n",
      "선택된 증상 이름:  가늘어지는 팔다리\n",
      "예상 질병 이름: ['니만-피크병(Niemann-Pick disease)', \"쿠싱 증후군(Cushing's syndrome)\"]\n",
      "\n",
      "선택된 증상 이름:  관절 운동성 감소\n",
      "예상 질병 이름: ['골관절염(Osteoarthritis)', '골괴사(Osteonecrosis)', '무릎관절증(Gonarthrosis)', '반달연골 이상(Meniscus derangements)', \"베이커 낭종(Baker's cyst)\", '변형성 고관절증(Coxarthrosis)', '복합 부위 통증 증후군(Complex regional pain syndrome)', '소아 류마티스 관절염(Juvenile rheumatoid arthritis)', '연골연화증(Chondromalacia)', '염좌(sprain)', '원판형 반월상연골(Discoid meniscus)', '육종(Sarcoma)', '이소성 골화증(Heterotopic Ossification)', '일과성 고관절 활액막염(Transient synovitis of hip)', '재발성 견관절 전방 탈구(Recurrent Anterior Glenohumeral Dislocation)', '점액낭염(Bursitis)', '패혈성 관절염(Septic arthtritis)']\n",
      "\n",
      "선택된 증상 이름:  관절의 경직\n",
      "예상 질병 이름: ['강직성 척추염(Ankylosing spondylitis)', '골관절염(Osteoarthritis)', '내상과염(Golf Elbow)', '류마티스 관절염(Rheumatoid arthritis)', '반월판 연골손상(Tear of meniscus)', \"베이커 낭종(Baker's cyst)\", '소아 류마티스 관절염(Juvenile rheumatoid arthritis)', '퇴행성 척추 장애(Degenerative spinal disorder)']\n",
      "\n",
      "선택된 증상 이름:  관절통\n",
      "예상 질병 이름: ['간염(Hepatitis)', '강직성 척추염(Ankylosing spondylitis)', '결절성 다발동맥염(Polyarteritis nodosa)', '결핵성 골수염(Tuberculous osteomyelitis)', '골관절염(Osteoarthritis)', '골다공증(Osteoporosis)', '급성 간질성 신염(Acute tubulo-interstitial nephritis)', '급성 바이러스성 간염(Acute viral hepatitis)', '기쿠치병(Kikuchi Disease)', '뎅기열(Dengue fever)', '독성 간염(Toxic hepatitis)', '라임병(Lyme disease)', '류마티스 관절염(Rheumatoid arthritis)', '만성 B형 간염(Chronic hepatitis B)', '반월판 연골손상(Tear of meniscus)', '비만(Obesity)', '산후 갑상선염(Postpartum thyroiditis)', '성인형 스틸병(Adult-Onset Stills disease)', '소아 류마티스 관절염(Juvenile rheumatoid arthritis)', '아밀로이드증(Amyloidosis)']\n",
      "\n",
      "선택된 증상 이름:  무감각\n",
      "예상 질병 이름: ['각기병(Beriberi)', '당뇨병성 말초신경병증(Diabetic polyneuropathy)', '동상(Frostbite)', '아밀로이드증(Amyloidosis)', \"잠수병(Diver's disease)\", '지간 신경종(Interdigital neuroma)', '처그 스트라우스 증후군(Churg strauss syndrome)']\n",
      "\n",
      "선택된 증상 이름:  무맥\n",
      "예상 질병 이름: ['구획 증후군(Compartment syndrome)']\n",
      "\n",
      "선택된 증상 이름:  반신마비\n",
      "예상 질병 이름: ['경동맥 협착증(Carotid artery stenosis)', '뇌경색(Cerebral infarction)', '뇌졸중(Cerebrovascular disease)', '다발성 경화증(Multiple sclerosis)', '외상성 경막하 출혈(Traumatic subdural hemorrhage)', '지주막하 출혈(Subarachnoid hemorrhage)']\n",
      "\n",
      "선택된 증상 이름:  방사통\n",
      "예상 질병 이름: ['근근막 통증 증후군(myofascial pain syndrome)', '급성 관동맥 증후군(Acute Coronary Syndrome)', '만성 담낭염(Chronic cholecystitis)', '만성 췌장염(Chronic pancreatitis)', '신경근병증(Radiculopathy)', '악성 중피종(Malignant mesothelioma)', '오래된 심근경색증(Old myocardial infarction)', '요추관 협착증(Lumbar spinal stenosis)', '위식도 역류성 질환(Gastro-esophagus reflux disease)', '유방통(Mastodynia)', '턱관절 장애(Temporomandibular joint disorders)', '허혈성 심질환(Ischemic heart disease)', '협심증(Angina pectoris)']\n",
      "\n",
      "선택된 증상 이름:  뼈의 변형\n",
      "예상 질병 이름: ['결핵성 골수염(Tuberculous osteomyelitis)', '골절 후 부정 유합, 불유합(Malunion & nonunion of fracture)', '괴혈병(scurvy)', '구루병(Rickets)', '급성림프모구백혈병(Acute lymphoblastic leukemia)', '내연골종(Enchondroma)', '병리적 골절(Pathological fracture)', '원위 요골과 척골 골절(Fracture of distal radius and ulna)', '육종(Sarcoma)', '척추측만증(Scoliosis)', '팔죽지 골절(Humerus fracture)']\n",
      "\n",
      "선택된 증상 이름:  사지 마비\n",
      "예상 질병 이름: ['다발성 경화증(Multiple sclerosis)', '쇼그렌 증후군(Sicca syndrome (Sjogren))', '완전 척수 손상(Complete cord injury)', '잠금 증후군(Locked-in Syndrome)', '횡단성 척수염(Transverse myelitis)']\n",
      "\n",
      "선택된 증상 이름:  사지 부종\n",
      "예상 질병 이름: ['림프부종(Lymphedema)', '상대정맥 증후군(Superior vena cava Syndrome)', '육종(Sarcoma)', '혈관부종(Angioedema)']\n",
      "\n",
      "선택된 증상 이름:  사지의 창백한 현상\n",
      "예상 질병 이름: [\"레이노병(Raynaud'S Phenomenon)\"]\n",
      "\n",
      "선택된 증상 이름:  상지 마비\n",
      "예상 질병 이름: ['후종인대 골화증(Ossification of posterior longitudinal ligament)']\n",
      "\n",
      "선택된 증상 이름:  손상 부위 출혈\n",
      "예상 질병 이름: ['경골과 비골 골절(Fracture of tibia & fibula)', '수부 외상(Hand trauma)', '압궤 손상(Crushing injury)', '팔죽지 골절(Humerus fracture)']\n",
      "\n",
      "선택된 증상 이름:  손상부위 촉각 소실\n",
      "예상 질병 이름: ['수부 외상(Hand trauma)', '팔죽지 골절(Humerus fracture)']\n",
      "\n",
      "선택된 증상 이름:  압통\n",
      "예상 질병 이름: ['간농양(Liver abscess)', '감염성 근육염(Infective myositis)', '감염성 단핵구증(Infectious mononucleosis)', '결핵성 복막염(Tuberculous peritonitis)', '경부 림프절염(Cervical lymphadenitis)', '관절염(Arthritis)', '근근막 통증 증후군(myofascial pain syndrome)', '근육 긴장성 두통(Tension-type headache)', '두통(Headache)', '맹장염(Appendicitis)', '봉와직염(Cellulitis)', '비루관 폐쇄(Nasolacrimal duct obstruction)', '석회성 건염(Calcific Tendinitis)', '스티븐 존슨 증후군(Stevens Johnson syndrome)', '슬개건염(Patellar tendinitis)', '슬개골 골절(Patella Fracture)', '오스굿씨 병(Osgood Schlatter Disease)', '융모양막염(Chorioamnionitis)', '조갑주위염(Paronychia)', '족저 근막염(Plantar Fasciitis)']\n",
      "\n",
      "선택된 증상 이름:  어깨 움직임의 제한\n",
      "예상 질병 이름: ['VDT 증후군(Visual Display Terminal Syndrome)', '관절와순 파열(Labral tear)', '동결견(Frozen shoulder)', '석회성 건염(Calcific Tendinitis)', '회전근개 증후군(Rotator cuff syndrome)']\n",
      "\n",
      "선택된 증상 이름:  어깨 잡음\n",
      "예상 질병 이름: ['관절와순 파열(Labral tear)', '회전근개 증후군(Rotator cuff syndrome)']\n",
      "\n",
      "선택된 증상 이름:  어깨근육 약화\n",
      "예상 질병 이름: ['회전근개 증후군(Rotator cuff syndrome)']\n",
      "\n",
      "선택된 증상 이름:  어깨의 통증\n",
      "예상 질병 이름: ['VDT 증후군(Visual Display Terminal Syndrome)', '강직성 척추염(Ankylosing spondylitis)', '거북목 증후군(Turtle neck syndrome)', '경추 추간판 탈출증(Cervical HIVD)', '관절와순 파열(Labral tear)', '대동맥 박리(Aortic dissection)', '동결견(Frozen shoulder)', '석회성 건염(Calcific Tendinitis)', '섬유근육통(Fibromyalgia)', '유방통(Mastodynia)', '재발성 견관절 전방 탈구(Recurrent Anterior Glenohumeral Dislocation)', '회전근개 증후군(Rotator cuff syndrome)', '흉부 대동맥류(Thoracic aortic Aneurysm)', '희발월경(Oligomenorrhea)']\n",
      "\n",
      "선택된 증상 이름:  옷 액와 부분 변색\n",
      "예상 질병 이름: ['취한증(Osmidrosis)']\n",
      "\n",
      "선택된 증상 이름:  저림\n",
      "예상 질병 이름: ['VDT 증후군(Visual Display Terminal Syndrome)', '거대적혈모구빈혈(Megaloblastic anemia)', '경추 추간판 탈출증(Cervical HIVD)', '다발성 신경병증(Polyneuropathy)', '당뇨병(Diabetes mellitus)', '당뇨병성 말초신경병증(Diabetic polyneuropathy)', '당뇨병성 족부 질환(DM foot ulcer)', '대동맥 협착증(Coarctation of aorta)', '대사성 알칼리증(Metabolic Alkalosis)', '동맥색전증 및 혈전증(Arterial embolism and thrombosis)', '레리시 증후군(Leriche Syndrome)', \"레이노병(Raynaud'S Phenomenon)\", '부갑상선기능저하증(Hypoparathyroidism)', '섬유근육통(Fibromyalgia)', '손목 수근관 증후군(Carpal tunnel syndrome)', '신경종(Neuroma)', '신체형 장애(Somatic symptom disorder)', '아나필락시스(Anaphylactic shock)', '요추 전방전위증(Lumbar spondylolisthesis)', '요추 추간판 탈출증(Herniation of intervertebral disk)']\n",
      "\n",
      "선택된 증상 이름:  파열부위 오목해짐\n",
      "예상 질병 이름: ['아킬레스 건 파열(Acute achilles tendon rupture)']\n",
      "\n",
      "선택된 증상 이름:  팔의 길이가 달라짐\n",
      "예상 질병 이름: ['재발성 견관절 전방 탈구(Recurrent Anterior Glenohumeral Dislocation)']\n",
      "\n",
      "선택된 증상 이름:  팔의 통증\n",
      "예상 질병 이름: ['내상과염(Golf Elbow)', '석회성 건염(Calcific Tendinitis)', '쇄골 골절(Clavicle Fracture)', '유방통(Mastodynia)', '주관절 외상과염(Tennis Elbow)', '흉곽출구 증후군(Thoracic outlet syndrome)']\n",
      "\n"
     ]
    }
   ],
   "source": [
    "sympt_names=arm_symptoms.values()\n",
    "print(sympt_names)\n",
    "print(\"\\n\\n\")\n",
    "\n",
    "i=0\n",
    "for idx in arm_symptoms:\n",
    "    sympt_res_html=urlopen(res_links[i])     # 추린 내용\n",
    "    i=i+1\n",
    "    sympt_res_Object=BeautifulSoup(sympt_res_html, \"html.parser\")\n",
    "    # print(sympt_res_Object)\n",
    "    \n",
    "    # symptom result link의 상세 정보\n",
    "    symptom_res_link_data=sympt_res_Object.body.find_all(\"strong\", {\"class\":\"contTitle\"})\n",
    "    print('선택된 증상 이름: ', arm_symptoms[idx])   # ㅣist(belly_symptoms.values())[0]\n",
    "    res_names=[]\n",
    "    for j in range(len(symptom_res_link_data)):\n",
    "        # name=symptom_link_data[i].get_text()\n",
    "        res_names.append(symptom_res_link_data[j].get_text().strip())\n",
    "    print('예상 질병 이름: ', end='')\n",
    "    print(res_names)\n",
    "    print()"
   ]
  },
  {
   "cell_type": "code",
   "execution_count": null,
   "id": "c40be4e9",
   "metadata": {},
   "outputs": [],
   "source": []
  }
 ],
 "metadata": {
  "kernelspec": {
   "display_name": "Python 3 (ipykernel)",
   "language": "python",
   "name": "python3"
  },
  "language_info": {
   "codemirror_mode": {
    "name": "ipython",
    "version": 3
   },
   "file_extension": ".py",
   "mimetype": "text/x-python",
   "name": "python",
   "nbconvert_exporter": "python",
   "pygments_lexer": "ipython3",
   "version": "3.7.6"
  }
 },
 "nbformat": 4,
 "nbformat_minor": 5
}
